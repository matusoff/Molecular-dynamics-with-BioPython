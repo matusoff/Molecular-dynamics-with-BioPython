{
  "nbformat": 4,
  "nbformat_minor": 0,
  "metadata": {
    "colab": {
      "provenance": [],
      "authorship_tag": "ABX9TyPmYfDU9gTtmjzlGd6yEPnm",
      "include_colab_link": true
    },
    "kernelspec": {
      "name": "python3",
      "display_name": "Python 3"
    },
    "language_info": {
      "name": "python"
    }
  },
  "cells": [
    {
      "cell_type": "markdown",
      "metadata": {
        "id": "view-in-github",
        "colab_type": "text"
      },
      "source": [
        "<a href=\"https://colab.research.google.com/github/matusoff/Molecular-dynamics-with-BioPython/blob/main/Dihedral_angles.ipynb\" target=\"_parent\"><img src=\"https://colab.research.google.com/assets/colab-badge.svg\" alt=\"Open In Colab\"/></a>"
      ]
    },
    {
      "cell_type": "code",
      "source": [
        "!pip install Biopython"
      ],
      "metadata": {
        "colab": {
          "base_uri": "https://localhost:8080/"
        },
        "id": "DuECGp20LlgJ",
        "outputId": "a44a6c26-ba76-466c-db5f-6592bbc65729"
      },
      "execution_count": 2,
      "outputs": [
        {
          "output_type": "stream",
          "name": "stdout",
          "text": [
            "Collecting Biopython\n",
            "  Downloading biopython-1.83-cp310-cp310-manylinux_2_17_x86_64.manylinux2014_x86_64.whl (3.1 MB)\n",
            "\u001b[?25l     \u001b[90m━━━━━━━━━━━━━━━━━━━━━━━━━━━━━━━━━━━━━━━━\u001b[0m \u001b[32m0.0/3.1 MB\u001b[0m \u001b[31m?\u001b[0m eta \u001b[36m-:--:--\u001b[0m\r\u001b[2K     \u001b[91m━━━\u001b[0m\u001b[91m╸\u001b[0m\u001b[90m━━━━━━━━━━━━━━━━━━━━━━━━━━━━━━━━━━━━\u001b[0m \u001b[32m0.3/3.1 MB\u001b[0m \u001b[31m8.5 MB/s\u001b[0m eta \u001b[36m0:00:01\u001b[0m\r\u001b[2K     \u001b[91m━━━━━━━━━━━━\u001b[0m\u001b[91m╸\u001b[0m\u001b[90m━━━━━━━━━━━━━━━━━━━━━━━━━━━\u001b[0m \u001b[32m1.0/3.1 MB\u001b[0m \u001b[31m14.4 MB/s\u001b[0m eta \u001b[36m0:00:01\u001b[0m\r\u001b[2K     \u001b[91m━━━━━━━━━━━━━━━━━━━━━━━━━━\u001b[0m\u001b[90m╺\u001b[0m\u001b[90m━━━━━━━━━━━━━\u001b[0m \u001b[32m2.0/3.1 MB\u001b[0m \u001b[31m19.4 MB/s\u001b[0m eta \u001b[36m0:00:01\u001b[0m\r\u001b[2K     \u001b[91m━━━━━━━━━━━━━━━━━━━━━━━━━━━━━━━━━━━━━━━\u001b[0m\u001b[91m╸\u001b[0m \u001b[32m3.1/3.1 MB\u001b[0m \u001b[31m23.5 MB/s\u001b[0m eta \u001b[36m0:00:01\u001b[0m\r\u001b[2K     \u001b[90m━━━━━━━━━━━━━━━━━━━━━━━━━━━━━━━━━━━━━━━━\u001b[0m \u001b[32m3.1/3.1 MB\u001b[0m \u001b[31m19.6 MB/s\u001b[0m eta \u001b[36m0:00:00\u001b[0m\n",
            "\u001b[?25hRequirement already satisfied: numpy in /usr/local/lib/python3.10/dist-packages (from Biopython) (1.25.2)\n",
            "Installing collected packages: Biopython\n",
            "Successfully installed Biopython-1.83\n"
          ]
        }
      ]
    },
    {
      "cell_type": "code",
      "source": [
        "# Import Biopython, Matplotlib and NumPy libraries\n",
        "import Bio.PDB\n",
        "import matplotlib.pyplot as plt\n",
        "import matplotlib.ticker as tck\n",
        "import numpy as np\n",
        "\n",
        "# Import the Hemoglobin coordinates file from the Protein Data Bank.\n",
        "structure = Bio.PDB.PDBParser(QUIET=True).get_structure('Hemoglobin', '/content/sample_data/1a3n.pdb')\n",
        "\n",
        "# Define a function to build a model of the protein from the coordinates\n",
        "def build_model(structure):\n",
        "    angles = []\n",
        "    for model in structure:\n",
        "        for chain in model:\n",
        "            polypeptides = Bio.PDB.CaPPBuilder().build_peptides(chain)\n",
        "            for poly_index, poly in enumerate(polypeptides):\n",
        "                phi_psi = poly.get_phi_psi_list()\n",
        "                for res_index, residue in enumerate(poly):\n",
        "                    phi, psi = phi_psi[res_index]\n",
        "                    if phi and psi:\n",
        "                        angles.append(['Hemoglobin', str(chain.id), residue.resname,\n",
        "                                       residue.id[1], phi / np.pi, psi / np.pi])\n",
        "    return np.array(angles)\n",
        "\n",
        "\n",
        "# Run our function.\n",
        "angles = build_model(structure)\n",
        "phi = np.array(angles[:, 4], dtype='float')\n",
        "psi = np.array(angles[:, 5], dtype='float')\n",
        "\n",
        "# Plot the results\n",
        "f, ax = plt.subplots(1)\n",
        "\n",
        "ax.xaxis.set_major_formatter(tck.FormatStrFormatter('%g $\\pi$'))\n",
        "ax.xaxis.set_major_locator(tck.MultipleLocator(base=0.5))\n",
        "ax.yaxis.set_major_formatter(tck.FormatStrFormatter('%g $\\pi$'))\n",
        "ax.yaxis.set_major_locator(tck.MultipleLocator(base=1))\n",
        "plt.ylim((-1, 1))\n",
        "plt.xlim((-1, 1))\n",
        "plt.xlabel('$\\phi$')\n",
        "plt.ylabel('$\\psi$')\n",
        "ax.scatter(phi, psi)\n",
        "\n",
        "plt.savefig(\"Islands.png\", format=\"png\")"
      ],
      "metadata": {
        "colab": {
          "base_uri": "https://localhost:8080/",
          "height": 459
        },
        "id": "4CtbweuvLel-",
        "outputId": "dabd1dff-f60b-49b7-824b-74750eb7da9b"
      },
      "execution_count": 6,
      "outputs": [
        {
          "output_type": "display_data",
          "data": {
            "text/plain": [
              "<Figure size 640x480 with 1 Axes>"
            ],
            "image/png": "[encoded data removed]"
          },
          "metadata": {}
        }
      ]
    },
    {
      "cell_type": "code",
      "source": [],
      "metadata": {
        "id": "cyHU-Uh5MShD"
      },
      "execution_count": null,
      "outputs": []
    }
  ]
}