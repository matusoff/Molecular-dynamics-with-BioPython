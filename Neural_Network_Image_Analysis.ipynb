{
  "cells": [
    {
      "cell_type": "markdown",
      "metadata": {
        "id": "view-in-github",
        "colab_type": "text"
      },
      "source": [
        "<a href=\"https://colab.research.google.com/github/matusoff/Molecular_dynamics/blob/main/Neural_Network_Image_Analysis.ipynb\" target=\"_parent\"><img src=\"https://colab.research.google.com/assets/colab-badge.svg\" alt=\"Open In Colab\"/></a>"
      ]
    },
    {
      "cell_type": "code",
      "execution_count": null,
      "metadata": {
        "colab": {
          "base_uri": "https://localhost:8080/"
        },
        "id": "FYcKLmy8BcHB",
        "outputId": "4942a985-7a01-4f97-da56-ac318216a479"
      },
      "outputs": [
        {
          "name": "stdout",
          "output_type": "stream",
          "text": [
            "Looking in indexes: https://pypi.org/simple, https://us-python.pkg.dev/colab-wheels/public/simple/\n",
            "Requirement already satisfied: pip in /usr/local/lib/python3.8/dist-packages (22.0.4)\n",
            "Collecting pip\n",
            "  Downloading pip-23.0-py3-none-any.whl (2.1 MB)\n",
            "\u001b[2K     \u001b[90m━━━━━━━━━━━━━━━━━━━━━━━━━━━━━━━━━━━━━━━━\u001b[0m \u001b[32m2.1/2.1 MB\u001b[0m \u001b[31m44.2 MB/s\u001b[0m eta \u001b[36m0:00:00\u001b[0m\n",
            "\u001b[?25hInstalling collected packages: pip\n",
            "  Attempting uninstall: pip\n",
            "    Found existing installation: pip 22.0.4\n",
            "    Uninstalling pip-22.0.4:\n",
            "      Successfully uninstalled pip-22.0.4\n",
            "Successfully installed pip-23.0\n"
          ]
        }
      ],
      "source": [
        "pip install --upgrade pip"
      ]
    },
    {
      "cell_type": "code",
      "source": [
        "!pip install mdtraj"
      ],
      "metadata": {
        "colab": {
          "base_uri": "https://localhost:8080/"
        },
        "id": "i_1cZkLApVlV",
        "outputId": "8757bc27-284c-44cd-a7b8-6fa56f7b5bf1"
      },
      "execution_count": 1,
      "outputs": [
        {
          "output_type": "stream",
          "name": "stdout",
          "text": [
            "Looking in indexes: https://pypi.org/simple, https://us-python.pkg.dev/colab-wheels/public/simple/\n",
            "Collecting mdtraj\n",
            "  Downloading mdtraj-1.9.7.tar.gz (2.1 MB)\n",
            "\u001b[2K     \u001b[90m━━━━━━━━━━━━━━━━━━━━━━━━━━━━━━━━━━━━━━━━\u001b[0m \u001b[32m2.1/2.1 MB\u001b[0m \u001b[31m53.1 MB/s\u001b[0m eta \u001b[36m0:00:00\u001b[0m\n",
            "\u001b[?25h  Installing build dependencies ... \u001b[?25l\u001b[?25hdone\n",
            "  Getting requirements to build wheel ... \u001b[?25l\u001b[?25hdone\n",
            "  Preparing metadata (pyproject.toml) ... \u001b[?25l\u001b[?25hdone\n",
            "Requirement already satisfied: astunparse in /usr/local/lib/python3.9/dist-packages (from mdtraj) (1.6.3)\n",
            "Requirement already satisfied: pyparsing in /usr/local/lib/python3.9/dist-packages (from mdtraj) (3.0.9)\n",
            "Requirement already satisfied: numpy>=1.6 in /usr/local/lib/python3.9/dist-packages (from mdtraj) (1.22.4)\n",
            "Requirement already satisfied: scipy in /usr/local/lib/python3.9/dist-packages (from mdtraj) (1.10.1)\n",
            "Requirement already satisfied: wheel<1.0,>=0.23.0 in /usr/local/lib/python3.9/dist-packages (from astunparse->mdtraj) (0.38.4)\n",
            "Requirement already satisfied: six<2.0,>=1.6.1 in /usr/local/lib/python3.9/dist-packages (from astunparse->mdtraj) (1.15.0)\n",
            "Building wheels for collected packages: mdtraj\n",
            "  Building wheel for mdtraj (pyproject.toml) ... \u001b[?25l\u001b[?25hdone\n",
            "  Created wheel for mdtraj: filename=mdtraj-1.9.7-cp39-cp39-linux_x86_64.whl size=8025068 sha256=837a7c6a20443d0b0781a8a027e383128cfd198e8dbf261dded6ed24413d0e92\n",
            "  Stored in directory: /root/.cache/pip/wheels/8d/20/93/d391ed21da996c9a0d50d20d4ed8e37cd6d4776d0ff51772f1\n",
            "Successfully built mdtraj\n",
            "Installing collected packages: mdtraj\n",
            "Successfully installed mdtraj-1.9.7\n"
          ]
        }
      ]
    },
    {
      "cell_type": "code",
      "execution_count": null,
      "metadata": {
        "colab": {
          "base_uri": "https://localhost:8080/"
        },
        "id": "6DU-azF_CU6L",
        "outputId": "aafd017f-a90f-4ee2-8bc1-1602469ba870"
      },
      "outputs": [
        {
          "name": "stdout",
          "output_type": "stream",
          "text": [
            "Looking in indexes: https://pypi.org/simple, https://us-python.pkg.dev/colab-wheels/public/simple/\n",
            "Collecting MDAnalysis\n",
            "  Downloading MDAnalysis-2.4.2-cp38-cp38-manylinux_2_17_x86_64.manylinux2014_x86_64.whl (8.1 MB)\n",
            "\u001b[2K     \u001b[90m━━━━━━━━━━━━━━━━━━━━━━━━━━━━━━━━━━━━━━━━\u001b[0m \u001b[32m8.1/8.1 MB\u001b[0m \u001b[31m77.3 MB/s\u001b[0m eta \u001b[36m0:00:00\u001b[0m\n",
            "\u001b[?25hRequirement already satisfied: scipy>=1.5.0 in /usr/local/lib/python3.8/dist-packages (from MDAnalysis) (1.7.3)\n",
            "Requirement already satisfied: networkx>=2.0 in /usr/local/lib/python3.8/dist-packages (from MDAnalysis) (3.0)\n",
            "Requirement already satisfied: threadpoolctl in /usr/local/lib/python3.8/dist-packages (from MDAnalysis) (3.1.0)\n",
            "Collecting mmtf-python>=1.0.0\n",
            "  Downloading mmtf_python-1.1.3-py2.py3-none-any.whl (25 kB)\n",
            "Requirement already satisfied: tqdm>=4.43.0 in /usr/local/lib/python3.8/dist-packages (from MDAnalysis) (4.64.1)\n",
            "Collecting gsd>=1.9.3\n",
            "  Downloading gsd-2.7.0-cp38-cp38-manylinux_2_17_x86_64.manylinux2014_x86_64.whl (406 kB)\n",
            "\u001b[2K     \u001b[90m━━━━━━━━━━━━━━━━━━━━━━━━━━━━━━━━━━━━━━\u001b[0m \u001b[32m407.0/407.0 kB\u001b[0m \u001b[31m16.1 MB/s\u001b[0m eta \u001b[36m0:00:00\u001b[0m\n",
            "\u001b[?25hCollecting biopython>=1.80\n",
            "  Downloading biopython-1.80-cp38-cp38-manylinux_2_17_x86_64.manylinux2014_x86_64.whl (3.1 MB)\n",
            "\u001b[2K     \u001b[90m━━━━━━━━━━━━━━━━━━━━━━━━━━━━━━━━━━━━━━━━\u001b[0m \u001b[32m3.1/3.1 MB\u001b[0m \u001b[31m84.2 MB/s\u001b[0m eta \u001b[36m0:00:00\u001b[0m\n",
            "\u001b[?25hRequirement already satisfied: joblib>=0.12 in /usr/local/lib/python3.8/dist-packages (from MDAnalysis) (1.2.0)\n",
            "Collecting fasteners\n",
            "  Downloading fasteners-0.18-py3-none-any.whl (18 kB)\n",
            "Collecting GridDataFormats>=0.4.0\n",
            "  Downloading GridDataFormats-1.0.1-py3-none-any.whl (2.1 MB)\n",
            "\u001b[2K     \u001b[90m━━━━━━━━━━━━━━━━━━━━━━━━━━━━━━━━━━━━━━━━\u001b[0m \u001b[32m2.1/2.1 MB\u001b[0m \u001b[31m85.1 MB/s\u001b[0m eta \u001b[36m0:00:00\u001b[0m\n",
            "\u001b[?25hRequirement already satisfied: numpy>=1.20.0 in /usr/local/lib/python3.8/dist-packages (from MDAnalysis) (1.21.6)\n",
            "Requirement already satisfied: matplotlib>=1.5.1 in /usr/local/lib/python3.8/dist-packages (from MDAnalysis) (3.2.2)\n",
            "Requirement already satisfied: packaging in /usr/local/lib/python3.8/dist-packages (from MDAnalysis) (21.3)\n",
            "Collecting mrcfile\n",
            "  Downloading mrcfile-1.4.3-py2.py3-none-any.whl (43 kB)\n",
            "\u001b[2K     \u001b[90m━━━━━━━━━━━━━━━━━━━━━━━━━━━━━━━━━━━━━━━━\u001b[0m \u001b[32m43.9/43.9 kB\u001b[0m \u001b[31m5.7 MB/s\u001b[0m eta \u001b[36m0:00:00\u001b[0m\n",
            "\u001b[?25hRequirement already satisfied: pyparsing!=2.0.4,!=2.1.2,!=2.1.6,>=2.0.1 in /usr/local/lib/python3.8/dist-packages (from matplotlib>=1.5.1->MDAnalysis) (3.0.9)\n",
            "Requirement already satisfied: kiwisolver>=1.0.1 in /usr/local/lib/python3.8/dist-packages (from matplotlib>=1.5.1->MDAnalysis) (1.4.4)\n",
            "Requirement already satisfied: python-dateutil>=2.1 in /usr/local/lib/python3.8/dist-packages (from matplotlib>=1.5.1->MDAnalysis) (2.8.2)\n",
            "Requirement already satisfied: cycler>=0.10 in /usr/local/lib/python3.8/dist-packages (from matplotlib>=1.5.1->MDAnalysis) (0.11.0)\n",
            "Requirement already satisfied: msgpack>=1.0.0 in /usr/local/lib/python3.8/dist-packages (from mmtf-python>=1.0.0->MDAnalysis) (1.0.4)\n",
            "Requirement already satisfied: six>=1.5 in /usr/local/lib/python3.8/dist-packages (from python-dateutil>=2.1->matplotlib>=1.5.1->MDAnalysis) (1.15.0)\n",
            "Installing collected packages: mrcfile, mmtf-python, gsd, fasteners, biopython, GridDataFormats, MDAnalysis\n",
            "Successfully installed GridDataFormats-1.0.1 MDAnalysis-2.4.2 biopython-1.80 fasteners-0.18 gsd-2.7.0 mmtf-python-1.1.3 mrcfile-1.4.3\n",
            "\u001b[33mWARNING: Running pip as the 'root' user can result in broken permissions and conflicting behaviour with the system package manager. It is recommended to use a virtual environment instead: https://pip.pypa.io/warnings/venv\u001b[0m\u001b[33m\n",
            "\u001b[0m"
          ]
        }
      ],
      "source": [
        "!pip install MDAnalysis"
      ]
    },
    {
      "cell_type": "code",
      "execution_count": null,
      "metadata": {
        "colab": {
          "base_uri": "https://localhost:8080/"
        },
        "id": "U8G_5ROiCOjK",
        "outputId": "3fa32763-e9a7-40e4-ddc3-21535e6543c2"
      },
      "outputs": [
        {
          "name": "stdout",
          "output_type": "stream",
          "text": [
            "[[ 0.         3.836533   6.391427  ... 26.32674   29.379826  26.696102 ]\n",
            " [ 3.836533   0.         3.938234  ... 29.794918  32.95797   30.168688 ]\n",
            " [ 6.391427   3.938234   0.        ... 29.917952  33.281826  31.726233 ]\n",
            " ...\n",
            " [26.32674   29.794918  29.917952  ...  0.         3.8341289 19.84106  ]\n",
            " [29.379826  32.95797   33.281826  ...  3.8341289  0.        19.14081  ]\n",
            " [26.696102  30.168688  31.726233  ... 19.84106   19.14081    0.       ]]\n"
          ]
        },
        {
          "name": "stderr",
          "output_type": "stream",
          "text": [
            "/usr/local/lib/python3.8/dist-packages/MDAnalysis/coordinates/PDB.py:432: UserWarning: 1 A^3 CRYST1 record, this is usually a placeholder. Unit cell dimensions will be set to None.\n",
            "  warnings.warn(\"1 A^3 CRYST1 record,\"\n"
          ]
        }
      ],
      "source": [
        "import MDAnalysis as mda\n",
        "import numpy as np\n",
        "\n",
        "# Load the PDB file into an MDAnalysis Universe object\n",
        "u = mda.Universe(\"/content/sample_data/2zwh.pdb\")\n",
        "\n",
        "# Select all carbon atoms\n",
        "ca = u.select_atoms(\"name CA\")\n",
        "\n",
        "# Compute pairwise distances between all carbon atoms\n",
        "distances = np.sqrt(((ca.positions[:, np.newaxis, :] - ca.positions[np.newaxis, :, :])**2).sum(axis=-1))\n",
        "\n",
        "# The distances matrix is a square matrix where the i,j-th entry is the distance between the i-th and j-th carbon atom\n",
        "print(distances)"
      ]
    },
    {
      "cell_type": "code",
      "execution_count": null,
      "metadata": {
        "colab": {
          "base_uri": "https://localhost:8080/"
        },
        "id": "hKAp-Ax0DFEs",
        "outputId": "58a00190-2fc2-45f2-a59d-57d1940ea5af"
      },
      "outputs": [
        {
          "name": "stdout",
          "output_type": "stream",
          "text": [
            "Looking in indexes: https://pypi.org/simple, https://us-python.pkg.dev/colab-wheels/public/simple/\n",
            "Collecting pyemma\n",
            "  Downloading pyEMMA-2.5.12.tar.gz (1.3 MB)\n",
            "\u001b[2K     \u001b[90m━━━━━━━━━━━━━━━━━━━━━━━━━━━━━━━━━━━━━━━━\u001b[0m \u001b[32m1.3/1.3 MB\u001b[0m \u001b[31m34.9 MB/s\u001b[0m eta \u001b[36m0:00:00\u001b[0m\n",
            "\u001b[?25h  Installing build dependencies ... \u001b[?25l\u001b[?25hdone\n",
            "  Getting requirements to build wheel ... \u001b[?25l\u001b[?25hdone\n",
            "  Preparing metadata (pyproject.toml) ... \u001b[?25l\u001b[?25hdone\n",
            "Collecting deeptime>=0.4.2\n",
            "  Using cached deeptime-0.4.4-cp38-cp38-manylinux_2_17_x86_64.manylinux2014_x86_64.whl (2.1 MB)\n",
            "Requirement already satisfied: h5py>=2.7.1 in /usr/local/lib/python3.8/dist-packages (from pyemma) (3.1.0)\n",
            "Requirement already satisfied: mdtraj>=1.9.2 in /usr/local/lib/python3.8/dist-packages (from pyemma) (1.9.7)\n",
            "Requirement already satisfied: scipy>=0.11 in /usr/local/lib/python3.8/dist-packages (from pyemma) (1.7.3)\n",
            "Requirement already satisfied: numpy>=1.8.0 in /usr/local/lib/python3.8/dist-packages (from pyemma) (1.21.6)\n",
            "Collecting pathos\n",
            "  Downloading pathos-0.3.0-py3-none-any.whl (79 kB)\n",
            "\u001b[2K     \u001b[90m━━━━━━━━━━━━━━━━━━━━━━━━━━━━━━━━━━━━━━━━\u001b[0m \u001b[32m79.8/79.8 kB\u001b[0m \u001b[31m8.8 MB/s\u001b[0m eta \u001b[36m0:00:00\u001b[0m\n",
            "\u001b[?25hRequirement already satisfied: decorator>=4.0.0 in /usr/local/lib/python3.8/dist-packages (from pyemma) (4.4.2)\n",
            "Requirement already satisfied: tqdm>=4.23 in /usr/local/lib/python3.8/dist-packages (from pyemma) (4.64.1)\n",
            "Requirement already satisfied: psutil>=3.1.1 in /usr/local/lib/python3.8/dist-packages (from pyemma) (5.4.8)\n",
            "Requirement already satisfied: pyyaml in /usr/local/lib/python3.8/dist-packages (from pyemma) (6.0)\n",
            "Requirement already satisfied: matplotlib in /usr/local/lib/python3.8/dist-packages (from pyemma) (3.2.2)\n",
            "Collecting scipy>=0.11\n",
            "  Using cached scipy-1.10.0-cp38-cp38-manylinux_2_17_x86_64.manylinux2014_x86_64.whl (34.5 MB)\n",
            "Collecting scikit-learn>=1.1\n",
            "  Using cached scikit_learn-1.2.1-cp38-cp38-manylinux_2_17_x86_64.manylinux2014_x86_64.whl (9.8 MB)\n",
            "Requirement already satisfied: threadpoolctl>=3.1.0 in /usr/local/lib/python3.8/dist-packages (from deeptime>=0.4.2->pyemma) (3.1.0)\n",
            "Requirement already satisfied: astunparse in /usr/local/lib/python3.8/dist-packages (from mdtraj>=1.9.2->pyemma) (1.6.3)\n",
            "Requirement already satisfied: pyparsing in /usr/local/lib/python3.8/dist-packages (from mdtraj>=1.9.2->pyemma) (3.0.9)\n",
            "Requirement already satisfied: python-dateutil>=2.1 in /usr/local/lib/python3.8/dist-packages (from matplotlib->pyemma) (2.8.2)\n",
            "Requirement already satisfied: kiwisolver>=1.0.1 in /usr/local/lib/python3.8/dist-packages (from matplotlib->pyemma) (1.4.4)\n",
            "Requirement already satisfied: cycler>=0.10 in /usr/local/lib/python3.8/dist-packages (from matplotlib->pyemma) (0.11.0)\n",
            "Collecting multiprocess>=0.70.14\n",
            "  Downloading multiprocess-0.70.14-py38-none-any.whl (132 kB)\n",
            "\u001b[2K     \u001b[90m━━━━━━━━━━━━━━━━━━━━━━━━━━━━━━━━━━━━━━\u001b[0m \u001b[32m132.0/132.0 kB\u001b[0m \u001b[31m16.3 MB/s\u001b[0m eta \u001b[36m0:00:00\u001b[0m\n",
            "\u001b[?25hCollecting ppft>=1.7.6.6\n",
            "  Downloading ppft-1.7.6.6-py3-none-any.whl (52 kB)\n",
            "\u001b[2K     \u001b[90m━━━━━━━━━━━━━━━━━━━━━━━━━━━━━━━━━━━━━━━\u001b[0m \u001b[32m52.8/52.8 kB\u001b[0m \u001b[31m271.5 kB/s\u001b[0m eta \u001b[36m0:00:00\u001b[0m\n",
            "\u001b[?25hRequirement already satisfied: dill>=0.3.6 in /usr/local/lib/python3.8/dist-packages (from pathos->pyemma) (0.3.6)\n",
            "Collecting pox>=0.3.2\n",
            "  Downloading pox-0.3.2-py3-none-any.whl (29 kB)\n",
            "Requirement already satisfied: six>=1.5 in /usr/local/lib/python3.8/dist-packages (from python-dateutil>=2.1->matplotlib->pyemma) (1.15.0)\n",
            "Requirement already satisfied: joblib>=1.1.1 in /usr/local/lib/python3.8/dist-packages (from scikit-learn>=1.1->deeptime>=0.4.2->pyemma) (1.2.0)\n",
            "Requirement already satisfied: wheel<1.0,>=0.23.0 in /usr/local/lib/python3.8/dist-packages (from astunparse->mdtraj>=1.9.2->pyemma) (0.38.4)\n",
            "Building wheels for collected packages: pyemma\n",
            "  Building wheel for pyemma (pyproject.toml) ... \u001b[?25l\u001b[?25hdone\n",
            "  Created wheel for pyemma: filename=pyEMMA-2.5.12-cp38-cp38-linux_x86_64.whl size=2585351 sha256=91ab67a297abf93b1e42828bacf697f20aa54756f6ec5967dfbd5bed1aaec7d3\n",
            "  Stored in directory: /root/.cache/pip/wheels/8c/39/68/0a468528ac55630c91b49644005b09903175898b51b94473bf\n",
            "Successfully built pyemma\n",
            "Installing collected packages: scipy, ppft, pox, multiprocess, scikit-learn, pathos, deeptime, pyemma\n",
            "  Attempting uninstall: scipy\n",
            "    Found existing installation: scipy 1.7.3\n",
            "    Uninstalling scipy-1.7.3:\n",
            "      Successfully uninstalled scipy-1.7.3\n",
            "  Attempting uninstall: scikit-learn\n",
            "    Found existing installation: scikit-learn 1.0.2\n",
            "    Uninstalling scikit-learn-1.0.2:\n",
            "      Successfully uninstalled scikit-learn-1.0.2\n",
            "Successfully installed deeptime-0.4.4 multiprocess-0.70.14 pathos-0.3.0 pox-0.3.2 ppft-1.7.6.6 pyemma-2.5.12 scikit-learn-1.2.1 scipy-1.10.0\n",
            "\u001b[33mWARNING: Running pip as the 'root' user can result in broken permissions and conflicting behaviour with the system package manager. It is recommended to use a virtual environment instead: https://pip.pypa.io/warnings/venv\u001b[0m\u001b[33m\n",
            "\u001b[0m"
          ]
        }
      ],
      "source": [
        "!pip install pyemma"
      ]
    },
    {
      "cell_type": "code",
      "execution_count": null,
      "metadata": {
        "colab": {
          "base_uri": "https://localhost:8080/"
        },
        "id": "dJI24k17YUPw",
        "outputId": "9e049b84-f95a-4df0-d103-cdd80c2b2157"
      },
      "outputs": [
        {
          "name": "stdout",
          "output_type": "stream",
          "text": [
            "[[0.12505472 0.32244003]]\n"
          ]
        }
      ],
      "source": [
        "import mdtraj as md\n",
        "\n",
        "# Load the PDB file into an mdtraj object\n",
        "traj = md.load('/content/sample_data/2zwh.pdb')\n",
        "\n",
        "# Define the indices of the atoms you want to calculate the pairwise distances for\n",
        "indices = [[2, 3], [3, 4]]\n",
        "\n",
        "# Calculate the pairwise distances between the selected atoms\n",
        "distances = md.compute_distances(traj, indices, periodic=False)\n",
        "\n",
        "# Output the distances\n",
        "print(distances)"
      ]
    },
    {
      "cell_type": "code",
      "execution_count": null,
      "metadata": {
        "colab": {
          "base_uri": "https://localhost:8080/"
        },
        "id": "fPOLm8__dYuD",
        "outputId": "15c71406-d397-4243-b01a-656bb71fe8c1"
      },
      "outputs": [
        {
          "name": "stdout",
          "output_type": "stream",
          "text": [
            "The distance between Tyrosine 361 and Tyrosine 362 is:  0.38263047\n"
          ]
        }
      ],
      "source": [
        "import mdtraj as md\n",
        "\n",
        "# Load the PDB file into an mdtraj object\n",
        "traj = md.load('/content/sample_data/2zwh.pdb')\n",
        "\n",
        "# Get the indices of Tyrosine 361 and Tyrosine 362\n",
        "tyr361_index = traj.topology.select('residue 361 and name CA')[0]\n",
        "tyr362_index = traj.topology.select('residue 362 and name CA')[0]\n",
        "\n",
        "# Calculate the distance between the two residues\n",
        "distance = md.compute_distances(traj, [[tyr361_index, tyr362_index]])[0][0]\n",
        "\n",
        "# Output the distance\n",
        "print('The distance between Tyrosine 361 and Tyrosine 362 is: ', distance)"
      ]
    },
    {
      "cell_type": "code",
      "execution_count": null,
      "metadata": {
        "colab": {
          "base_uri": "https://localhost:8080/"
        },
        "id": "LlbInu2weMJ-",
        "outputId": "3d6213d3-01ef-4f2b-a5af-419457530dc5"
      },
      "outputs": [
        {
          "name": "stdout",
          "output_type": "stream",
          "text": [
            "The distance between Tyrosine 361 and Tyrosine 362 is:  0.38263047\n"
          ]
        }
      ],
      "source": [
        "import mdtraj as md\n",
        "\n",
        "# Load the PDB file into an mdtraj object\n",
        "traj = md.load('/content/sample_data/all_3-NT_bySIN18112021.pdb')\n",
        "\n",
        "# Get the indices of Tyrosine 361 and Tyrosine 362\n",
        "tyr361_index = traj.topology.select('residue 361 and name CA')[0]\n",
        "tyr362_index = traj.topology.select('residue 362 and name CA')[0]\n",
        "\n",
        "# Calculate the distance between the two residues\n",
        "distance = md.compute_distances(traj, [[tyr361_index, tyr362_index]])[0][0]\n",
        "\n",
        "# Output the distance\n",
        "print('The distance between Tyrosine 361 and Tyrosine 362 is: ', distance)"
      ]
    },
    {
      "cell_type": "code",
      "execution_count": null,
      "metadata": {
        "colab": {
          "base_uri": "https://localhost:8080/"
        },
        "id": "w-hHbmuqi99n",
        "outputId": "62d538ed-15b5-4ac6-9002-3331f7c926b7"
      },
      "outputs": [
        {
          "name": "stdout",
          "output_type": "stream",
          "text": [
            "[[0.532632   0.38263047 0.3829388  0.5441763  0.50733757 0.5445719\n",
            "  0.64799666 0.784854   0.5305441  0.788418   1.0747555 ]]\n"
          ]
        }
      ],
      "source": [
        "import mdtraj as md\n",
        "import numpy as np\n",
        "\n",
        "# Load the PDB file into an mdtraj object\n",
        "traj = md.load('/content/sample_data/2zwh.pdb')\n",
        "\n",
        "# Get the residue indices for Tyrosine 362\n",
        "tyr52_indices = traj.topology.select(\"residue 362 and name CA\")\n",
        "\n",
        "# Get the residue indices for the 10 surrounding residues\n",
        "surrounding_residues = [360, 361, 363, 364, 365, 366, 367, 368, 369, 370, 371]\n",
        "surrounding_indices = []\n",
        "for residue in surrounding_residues:\n",
        "    indices = traj.topology.select(\"residue {} and name CA\".format(residue))\n",
        "    surrounding_indices.append(indices)\n",
        "\n",
        "# Flatten the list of surrounding indices\n",
        "surrounding_indices = [index for sublist in surrounding_indices for index in sublist]\n",
        "\n",
        "# Combine the indices into a 2D array to specify the atom pairs\n",
        "atom_pairs = np.array(list(zip(np.ones(len(surrounding_indices)) * tyr52_indices, surrounding_indices)))\n",
        "\n",
        "# Calculate the pairwise distances between the specified atoms\n",
        "distances = md.compute_distances(traj, atom_pairs, periodic=False)\n",
        "\n",
        "# Output the distances\n",
        "print(distances)"
      ]
    },
    {
      "cell_type": "code",
      "execution_count": null,
      "metadata": {
        "colab": {
          "base_uri": "https://localhost:8080/"
        },
        "id": "5Td2F2MHji9C",
        "outputId": "45e6b845-6a69-40bc-c34f-485b24516460"
      },
      "outputs": [
        {
          "name": "stdout",
          "output_type": "stream",
          "text": [
            "[[0.532632   0.38263047 0.3829388  0.5441763  0.50733757 0.5445719\n",
            "  0.64799666 0.784854   0.5305441  0.788418   1.0747555 ]]\n"
          ]
        }
      ],
      "source": [
        "import mdtraj as md\n",
        "import numpy as np\n",
        "\n",
        "# Load the PDB file into an mdtraj object\n",
        "traj = md.load('/content/sample_data/all_3-NT_bySIN18112021.pdb')\n",
        "\n",
        "# Get the residue indices for Tyrosine 362\n",
        "tyr52_indices = traj.topology.select(\"residue 362 and name CA\")\n",
        "\n",
        "# Get the residue indices for the 10 surrounding residues\n",
        "surrounding_residues = [360, 361, 363, 364, 365, 366, 367, 368, 369, 370, 371]\n",
        "surrounding_indices = []\n",
        "for residue in surrounding_residues:\n",
        "    indices = traj.topology.select(\"residue {} and name CA\".format(residue))\n",
        "    surrounding_indices.append(indices)\n",
        "\n",
        "# Flatten the list of surrounding indices\n",
        "surrounding_indices = [index for sublist in surrounding_indices for index in sublist]\n",
        "\n",
        "# Combine the indices into a 2D array to specify the atom pairs\n",
        "atom_pairs = np.array(list(zip(np.ones(len(surrounding_indices)) * tyr52_indices, surrounding_indices)))\n",
        "\n",
        "# Calculate the pairwise distances between the specified atoms\n",
        "distances = md.compute_distances(traj, atom_pairs, periodic=False)\n",
        "\n",
        "# Output the distances\n",
        "print(distances)"
      ]
    },
    {
      "cell_type": "code",
      "execution_count": null,
      "metadata": {
        "id": "8vUIVTnhnlnq"
      },
      "outputs": [],
      "source": [
        "import mdtraj as md\n",
        "\n",
        "# Load the raw data\n",
        "traj = md.load('/content/sample_data/all_3-NT_bySIN18112021.pdb')\n",
        "\n",
        "# Manipulate the data as needed\n",
        "\n",
        "# Save the data as an .xtc file\n",
        "traj.save('bla.xtc')"
      ]
    },
    {
      "cell_type": "code",
      "source": [
        "!pip install Bio"
      ],
      "metadata": {
        "colab": {
          "base_uri": "https://localhost:8080/"
        },
        "id": "au3ql_AQ15Vl",
        "outputId": "f89f77b0-097e-4c18-99af-840133972c01"
      },
      "execution_count": null,
      "outputs": [
        {
          "output_type": "stream",
          "name": "stdout",
          "text": [
            "Looking in indexes: https://pypi.org/simple, https://us-python.pkg.dev/colab-wheels/public/simple/\n",
            "Collecting Bio\n",
            "  Downloading bio-1.5.6-py3-none-any.whl (275 kB)\n",
            "\u001b[2K     \u001b[90m━━━━━━━━━━━━━━━━━━━━━━━━━━━━━━━━━━━━━━\u001b[0m \u001b[32m275.6/275.6 KB\u001b[0m \u001b[31m13.0 MB/s\u001b[0m eta \u001b[36m0:00:00\u001b[0m\n",
            "\u001b[?25hCollecting mygene\n",
            "  Downloading mygene-3.2.2-py2.py3-none-any.whl (5.4 kB)\n",
            "Requirement already satisfied: pooch in /usr/local/lib/python3.8/dist-packages (from Bio) (1.7.0)\n",
            "Collecting gprofiler-official\n",
            "  Downloading gprofiler_official-1.0.0-py3-none-any.whl (9.3 kB)\n",
            "Requirement already satisfied: tqdm in /usr/local/lib/python3.8/dist-packages (from Bio) (4.64.1)\n",
            "Requirement already satisfied: pandas in /usr/local/lib/python3.8/dist-packages (from Bio) (1.3.5)\n",
            "Collecting biopython>=1.80\n",
            "  Downloading biopython-1.81-cp38-cp38-manylinux_2_17_x86_64.manylinux2014_x86_64.whl (3.1 MB)\n",
            "\u001b[2K     \u001b[90m━━━━━━━━━━━━━━━━━━━━━━━━━━━━━━━━━━━━━━━━\u001b[0m \u001b[32m3.1/3.1 MB\u001b[0m \u001b[31m84.8 MB/s\u001b[0m eta \u001b[36m0:00:00\u001b[0m\n",
            "\u001b[?25hRequirement already satisfied: requests in /usr/local/lib/python3.8/dist-packages (from Bio) (2.25.1)\n",
            "Requirement already satisfied: numpy in /usr/local/lib/python3.8/dist-packages (from biopython>=1.80->Bio) (1.22.4)\n",
            "Collecting biothings-client>=0.2.6\n",
            "  Downloading biothings_client-0.2.6-py2.py3-none-any.whl (37 kB)\n",
            "Requirement already satisfied: pytz>=2017.3 in /usr/local/lib/python3.8/dist-packages (from pandas->Bio) (2022.7.1)\n",
            "Requirement already satisfied: python-dateutil>=2.7.3 in /usr/local/lib/python3.8/dist-packages (from pandas->Bio) (2.8.2)\n",
            "Requirement already satisfied: platformdirs>=2.5.0 in /usr/local/lib/python3.8/dist-packages (from pooch->Bio) (3.0.0)\n",
            "Requirement already satisfied: packaging>=20.0 in /usr/local/lib/python3.8/dist-packages (from pooch->Bio) (23.0)\n",
            "Requirement already satisfied: urllib3<1.27,>=1.21.1 in /usr/local/lib/python3.8/dist-packages (from requests->Bio) (1.26.14)\n",
            "Requirement already satisfied: idna<3,>=2.5 in /usr/local/lib/python3.8/dist-packages (from requests->Bio) (2.10)\n",
            "Requirement already satisfied: chardet<5,>=3.0.2 in /usr/local/lib/python3.8/dist-packages (from requests->Bio) (4.0.0)\n",
            "Requirement already satisfied: certifi>=2017.4.17 in /usr/local/lib/python3.8/dist-packages (from requests->Bio) (2022.12.7)\n",
            "Requirement already satisfied: six>=1.5 in /usr/local/lib/python3.8/dist-packages (from python-dateutil>=2.7.3->pandas->Bio) (1.15.0)\n",
            "Installing collected packages: biopython, gprofiler-official, biothings-client, mygene, Bio\n",
            "Successfully installed Bio-1.5.6 biopython-1.81 biothings-client-0.2.6 gprofiler-official-1.0.0 mygene-3.2.2\n"
          ]
        }
      ]
    },
    {
      "cell_type": "code",
      "execution_count": null,
      "metadata": {
        "colab": {
          "base_uri": "https://localhost:8080/"
        },
        "id": "j03ZSRDTpHEm",
        "outputId": "120226d2-1ebc-4384-8425-920cb38f2747"
      },
      "outputs": [
        {
          "name": "stdout",
          "output_type": "stream",
          "text": [
            "Looking in indexes: https://pypi.org/simple, https://us-python.pkg.dev/colab-wheels/public/simple/\n",
            "Requirement already satisfied: mdanalysis in /usr/local/lib/python3.8/dist-packages (2.4.2)\n",
            "Requirement already satisfied: matplotlib>=1.5.1 in /usr/local/lib/python3.8/dist-packages (from mdanalysis) (3.2.2)\n",
            "Requirement already satisfied: gsd>=1.9.3 in /usr/local/lib/python3.8/dist-packages (from mdanalysis) (2.7.0)\n",
            "Requirement already satisfied: GridDataFormats>=0.4.0 in /usr/local/lib/python3.8/dist-packages (from mdanalysis) (1.0.1)\n",
            "Requirement already satisfied: biopython>=1.80 in /usr/local/lib/python3.8/dist-packages (from mdanalysis) (1.80)\n",
            "Requirement already satisfied: joblib>=0.12 in /usr/local/lib/python3.8/dist-packages (from mdanalysis) (1.2.0)\n",
            "Requirement already satisfied: packaging in /usr/local/lib/python3.8/dist-packages (from mdanalysis) (21.3)\n",
            "Requirement already satisfied: fasteners in /usr/local/lib/python3.8/dist-packages (from mdanalysis) (0.18)\n",
            "Requirement already satisfied: numpy>=1.20.0 in /usr/local/lib/python3.8/dist-packages (from mdanalysis) (1.21.6)\n",
            "Requirement already satisfied: scipy>=1.5.0 in /usr/local/lib/python3.8/dist-packages (from mdanalysis) (1.10.0)\n",
            "Requirement already satisfied: tqdm>=4.43.0 in /usr/local/lib/python3.8/dist-packages (from mdanalysis) (4.64.1)\n",
            "Requirement already satisfied: networkx>=2.0 in /usr/local/lib/python3.8/dist-packages (from mdanalysis) (3.0)\n",
            "Requirement already satisfied: mmtf-python>=1.0.0 in /usr/local/lib/python3.8/dist-packages (from mdanalysis) (1.1.3)\n",
            "Requirement already satisfied: threadpoolctl in /usr/local/lib/python3.8/dist-packages (from mdanalysis) (3.1.0)\n",
            "Requirement already satisfied: mrcfile in /usr/local/lib/python3.8/dist-packages (from GridDataFormats>=0.4.0->mdanalysis) (1.4.3)\n",
            "Requirement already satisfied: python-dateutil>=2.1 in /usr/local/lib/python3.8/dist-packages (from matplotlib>=1.5.1->mdanalysis) (2.8.2)\n",
            "Requirement already satisfied: pyparsing!=2.0.4,!=2.1.2,!=2.1.6,>=2.0.1 in /usr/local/lib/python3.8/dist-packages (from matplotlib>=1.5.1->mdanalysis) (3.0.9)\n",
            "Requirement already satisfied: cycler>=0.10 in /usr/local/lib/python3.8/dist-packages (from matplotlib>=1.5.1->mdanalysis) (0.11.0)\n",
            "Requirement already satisfied: kiwisolver>=1.0.1 in /usr/local/lib/python3.8/dist-packages (from matplotlib>=1.5.1->mdanalysis) (1.4.4)\n",
            "Requirement already satisfied: msgpack>=1.0.0 in /usr/local/lib/python3.8/dist-packages (from mmtf-python>=1.0.0->mdanalysis) (1.0.4)\n",
            "Requirement already satisfied: six>=1.5 in /usr/local/lib/python3.8/dist-packages (from python-dateutil>=2.1->matplotlib>=1.5.1->mdanalysis) (1.15.0)\n",
            "\u001b[33mWARNING: Running pip as the 'root' user can result in broken permissions and conflicting behaviour with the system package manager. It is recommended to use a virtual environment instead: https://pip.pypa.io/warnings/venv\u001b[0m\u001b[33m\n",
            "\u001b[0m"
          ]
        }
      ],
      "source": [
        "!pip install --upgrade mdanalysis"
      ]
    },
    {
      "cell_type": "code",
      "execution_count": null,
      "metadata": {
        "id": "UEsUUU32j0bX"
      },
      "outputs": [],
      "source": [
        "import numpy as np\n",
        "from PIL import Image\n",
        "\n",
        "# Load the image using PIL\n",
        "image = Image.open('/content/sample_data/2wzh_data35_data22.png')\n",
        "\n",
        "# Convert the image to grayscale and resize it to (100, 100)\n",
        "image = image.convert('L')\n",
        "image = image.resize((100, 100))\n",
        "\n",
        "# Convert the image to a numpy array and normalize the values to [0, 1]\n",
        "image = np.array(image) / 255.0\n",
        "\n",
        "# Save the preprocessed image as a .npy file\n",
        "np.save('image_2zwh.npy', image)\n"
      ]
    },
    {
      "cell_type": "code",
      "execution_count": null,
      "metadata": {
        "id": "CwPzT4PVl3la"
      },
      "outputs": [],
      "source": [
        "import numpy as np\n",
        "from PIL import Image\n",
        "\n",
        "# Load the image using PIL\n",
        "image = Image.open('/content/sample_data/6bno.png')\n",
        "\n",
        "# Convert the image to grayscale and resize it to (100, 100)\n",
        "image = image.convert('L')\n",
        "image = image.resize((100, 100))\n",
        "\n",
        "# Convert the image to a numpy array and normalize the values to [0, 1]\n",
        "image = np.array(image) / 255.0\n",
        "\n",
        "# Save the preprocessed image as a .npy file\n",
        "np.save('image_6BNO-Fa.npy', image)"
      ]
    },
    {
      "cell_type": "code",
      "execution_count": null,
      "metadata": {
        "id": "34Y1mxPclvYZ"
      },
      "outputs": [],
      "source": [
        "import numpy as np\n",
        "from PIL import Image\n",
        "\n",
        "# Load the image using PIL\n",
        "image = Image.open('/content/sample_data/2zwh-VdW.png')\n",
        "\n",
        "# Convert the image to grayscale and resize it to (100, 100)\n",
        "image = image.convert('L')\n",
        "image = image.resize((100, 100))\n",
        "\n",
        "# Convert the image to a numpy array and normalize the values to [0, 1]\n",
        "image = np.array(image) / 255.0\n",
        "\n",
        "# Save the preprocessed image as a .npy file\n",
        "np.save('image_2zwh-VdW_pdb.npy', image)"
      ]
    },
    {
      "cell_type": "code",
      "execution_count": null,
      "metadata": {
        "id": "eiqkl3CGAxN5"
      },
      "outputs": [],
      "source": [
        "import numpy as np\n",
        "from PIL import Image\n",
        "\n",
        "# Load the image using PIL\n",
        "image = Image.open('/content/sample_data/2zwh-VdW.jpg')\n",
        "\n",
        "# Convert the image to grayscale and resize it to (100, 100)\n",
        "image = image.convert('L')\n",
        "image = image.resize((100, 100))\n",
        "\n",
        "# Convert the image to a numpy array and normalize the values to [0, 1]\n",
        "image = np.array(image) / 255.0\n",
        "\n",
        "# Save the preprocessed image as a .npy file\n",
        "np.save('image_pdb.npy', image)"
      ]
    },
    {
      "cell_type": "code",
      "execution_count": null,
      "metadata": {
        "colab": {
          "base_uri": "https://localhost:8080/",
          "height": 752
        },
        "id": "B3A7EHM-vetD",
        "outputId": "fda79a6d-d1a5-4132-9a2a-5c93a785ee31"
      },
      "outputs": [
        {
          "name": "stdout",
          "output_type": "stream",
          "text": [
            "Epoch 1/10\n",
            "1/1 [==============================] - 2s 2s/step - loss: 2.8836e-11 - val_loss: 0.9950\n",
            "Epoch 2/10\n",
            "1/1 [==============================] - 1s 762ms/step - loss: 7.2021e-06 - val_loss: 1.0028\n",
            "Epoch 3/10\n",
            "1/1 [==============================] - 1s 786ms/step - loss: 2.0976e-06 - val_loss: 0.9979\n",
            "Epoch 4/10\n",
            "1/1 [==============================] - 1s 768ms/step - loss: 1.1370e-06 - val_loss: 1.0043\n",
            "Epoch 5/10\n",
            "1/1 [==============================] - 1s 771ms/step - loss: 4.7226e-06 - val_loss: 0.9984\n",
            "Epoch 6/10\n",
            "1/1 [==============================] - 1s 769ms/step - loss: 6.4588e-07 - val_loss: 1.0097\n",
            "Epoch 7/10\n",
            "1/1 [==============================] - 1s 756ms/step - loss: 2.4389e-05 - val_loss: 0.9929\n",
            "Epoch 8/10\n",
            "1/1 [==============================] - 1s 763ms/step - loss: 1.2838e-05 - val_loss: 1.0021\n",
            "Epoch 9/10\n",
            "1/1 [==============================] - 1s 764ms/step - loss: 1.1487e-06 - val_loss: 1.0008\n",
            "Epoch 10/10\n",
            "1/1 [==============================] - 1s 778ms/step - loss: 1.7236e-07 - val_loss: 0.9975\n",
            "1/1 [==============================] - 0s 175ms/step\n",
            "Correlation result:  [[0.00126135]\n",
            " [0.00127196]]\n",
            "1/1 [==============================] - 0s 128ms/step\n",
            "Mean Squared Error: 6.520016537572202e-07\n"
          ]
        },
        {
          "data": {
            "image/png": "[encoded data removed]",
            "text/plain": [
              "<Figure size 720x360 with 2 Axes>"
            ]
          },
          "metadata": {},
          "output_type": "display_data"
        }
      ],
      "source": [
        "import numpy as np\n",
        "import keras\n",
        "from keras.models import Sequential\n",
        "from keras.layers import Dense, Conv2D, Flatten\n",
        "import matplotlib.pyplot as plt\n",
        "\n",
        "# Load and preprocess the two images data\n",
        "# tip radius for sim AFM = 2.0\n",
        "# PDB obtained by Bio-AFM viewer\n",
        "image1 = np.load('/content/image.npy')\n",
        "image2 = np.load('/content/image_2zwh-VdW_pdb.npy')\n",
        "image1 = image1 / 255.0 # normalize to [0, 1] range\n",
        "image2 = image2 / 255.0 # normalize to [0, 1] range\n",
        "\n",
        "# Reshape the images to 4-dimensional tensors\n",
        "image1 = np.array(image1)\n",
        "image1 = image1.reshape(100, 100, 1)\n",
        "image2 = np.array(image2)\n",
        "image2 = image2.reshape(100, 100, 1)\n",
        "\n",
        "# Define the neural network model\n",
        "model = Sequential()\n",
        "model.add(Conv2D(32, kernel_size=(3,3), activation='relu', input_shape=(100,100,1)))\n",
        "model.add(Flatten())\n",
        "model.add(Dense(512, activation='relu'))\n",
        "model.add(Dense(256, activation='relu'))\n",
        "model.add(Dense(128, activation='relu'))\n",
        "model.add(Dense(64, activation='relu'))\n",
        "model.add(Dense(1, activation='linear'))\n",
        "\n",
        "# Compile the model\n",
        "model.compile(loss='mean_squared_error', optimizer='adam')\n",
        "\n",
        "# Train the model\n",
        "model.fit(np.array([image1, image2]), np.array([0, 1]), epochs=10, batch_size=32, validation_split=0.2)\n",
        "\n",
        "\n",
        "# Use the model to predict the correlation between the two images\n",
        "correlation_result = model.predict(np.array([image1, image2]))\n",
        "\n",
        "# Plot the original images\n",
        "plt.figure(figsize=(10,5))\n",
        "plt.subplot(1,2,1)\n",
        "plt.imshow(image1.reshape(100, 100), cmap='gray')\n",
        "plt.title(\"Image 1\")\n",
        "\n",
        "plt.subplot(1,2,2)\n",
        "plt.imshow(image2.reshape(100, 100), cmap='gray')\n",
        "plt.title(\"Image 2\")\n",
        "\n",
        "# Print the correlation result\n",
        "print(\"Correlation result: \", correlation_result)\n",
        "\n",
        "# # Normalize the images to [0, 1] range\n",
        "# image1 = (image1 - np.min(image1)) / (np.max(image1) - np.min(image1))\n",
        "# image2 = (image2 - np.min(image2)) / (np.max(image2) - np.min(image2))\n",
        "\n",
        "\n",
        "# Predict the correlation between the two images\n",
        "prediction = model.predict(np.array([image1, image2]))\n",
        "\n",
        "# Merge the two images based on the predicted correlation\n",
        "merged_image = image1 * prediction[0] + image2 * prediction[1]\n",
        "\n",
        "# Plot the merged image\n",
        "plt.imshow(merged_image.reshape(100, 100), cmap='plasma')\n",
        "\n",
        "def mean_squared_error(image1, image2):\n",
        "    return np.mean((image1 - image2)**2)\n",
        "\n",
        "mse = mean_squared_error(image1, image2)\n",
        "print(\"Mean Squared Error:\", mse)\n",
        "\n",
        "# Show the plot\n",
        "plt.show()"
      ]
    },
    {
      "cell_type": "code",
      "execution_count": null,
      "metadata": {
        "colab": {
          "base_uri": "https://localhost:8080/",
          "height": 752
        },
        "id": "9Yak1s2Aj9yV",
        "outputId": "884351cf-ccd2-4ef5-ecff-48380b199b4f"
      },
      "outputs": [
        {
          "name": "stdout",
          "output_type": "stream",
          "text": [
            "Epoch 1/10\n",
            "1/1 [==============================] - 2s 2s/step - loss: 4.9981e-10 - val_loss: 0.9897\n",
            "Epoch 2/10\n",
            "1/1 [==============================] - 1s 762ms/step - loss: 2.8397e-05 - val_loss: 1.0007\n",
            "Epoch 3/10\n",
            "1/1 [==============================] - 1s 761ms/step - loss: 1.3725e-07 - val_loss: 0.9999\n",
            "Epoch 4/10\n",
            "1/1 [==============================] - 1s 1s/step - loss: 7.8150e-10 - val_loss: 1.0004\n",
            "Epoch 5/10\n",
            "1/1 [==============================] - 1s 1s/step - loss: 6.1489e-08 - val_loss: 0.9976\n",
            "Epoch 6/10\n",
            "1/1 [==============================] - 1s 1s/step - loss: 1.4226e-06 - val_loss: 1.0045\n",
            "Epoch 7/10\n",
            "1/1 [==============================] - 1s 1s/step - loss: 4.8668e-06 - val_loss: 1.0025\n",
            "Epoch 8/10\n",
            "1/1 [==============================] - 1s 796ms/step - loss: 1.4506e-06 - val_loss: 0.9941\n",
            "Epoch 9/10\n",
            "1/1 [==============================] - 1s 773ms/step - loss: 8.7893e-06 - val_loss: 1.0059\n",
            "Epoch 10/10\n",
            "1/1 [==============================] - 1s 761ms/step - loss: 8.9079e-06 - val_loss: 1.0017\n",
            "1/1 [==============================] - 0s 187ms/step\n",
            "Correlation result:  [[-0.00089279]\n",
            " [-0.00087242]]\n",
            "1/1 [==============================] - 0s 129ms/step\n",
            "Mean Squared Error: 5.737853583359903e-07\n"
          ]
        },
        {
          "data": {
            "image/png": "[encoded data removed]",
            "text/plain": [
              "<Figure size 720x360 with 2 Axes>"
            ]
          },
          "metadata": {},
          "output_type": "display_data"
        }
      ],
      "source": [
        "import numpy as np\n",
        "import keras\n",
        "from keras.models import Sequential\n",
        "from keras.layers import Dense, Conv2D, Flatten\n",
        "import matplotlib.pyplot as plt\n",
        "\n",
        "# Load and preprocess the two images data\n",
        "# tip radius for sim AFM = 2.0\n",
        "# real PDB\n",
        "image1 = np.load('/content/image.npy')\n",
        "image2 = np.load('/content/image_pdb.npy')\n",
        "image1 = image1 / 255.0 # normalize to [0, 1] range\n",
        "image2 = image2 / 255.0 # normalize to [0, 1] range\n",
        "\n",
        "# Reshape the images to 4-dimensional tensors\n",
        "image1 = np.array(image1)\n",
        "image1 = image1.reshape(100, 100, 1)\n",
        "image2 = np.array(image2)\n",
        "image2 = image2.reshape(100, 100, 1)\n",
        "\n",
        "# Define the neural network model\n",
        "model = Sequential()\n",
        "model.add(Conv2D(32, kernel_size=(3,3), activation='relu', input_shape=(100,100,1)))\n",
        "model.add(Flatten())\n",
        "model.add(Dense(512, activation='relu'))\n",
        "model.add(Dense(256, activation='relu'))\n",
        "model.add(Dense(128, activation='relu'))\n",
        "model.add(Dense(64, activation='relu'))\n",
        "model.add(Dense(1, activation='linear'))\n",
        "\n",
        "# Compile the model\n",
        "model.compile(loss='mean_squared_error', optimizer='adam')\n",
        "\n",
        "# Train the model\n",
        "model.fit(np.array([image1, image2]), np.array([0, 1]), epochs=10, batch_size=32, validation_split=0.2)\n",
        "\n",
        "\n",
        "# Use the model to predict the correlation between the two images\n",
        "correlation_result = model.predict(np.array([image1, image2]))\n",
        "\n",
        "# Plot the original images\n",
        "plt.figure(figsize=(10,5))\n",
        "plt.subplot(1,2,1)\n",
        "plt.imshow(image1.reshape(100, 100), cmap='gray')\n",
        "plt.title(\"Image 1\")\n",
        "\n",
        "plt.subplot(1,2,2)\n",
        "plt.imshow(image2.reshape(100, 100), cmap='gray')\n",
        "plt.title(\"Image 2\")\n",
        "\n",
        "# Print the correlation result\n",
        "print(\"Correlation result: \", correlation_result)\n",
        "\n",
        "# # Normalize the images to [0, 1] range\n",
        "# image1 = (image1 - np.min(image1)) / (np.max(image1) - np.min(image1))\n",
        "# image2 = (image2 - np.min(image2)) / (np.max(image2) - np.min(image2))\n",
        "\n",
        "\n",
        "# Predict the correlation between the two images\n",
        "prediction = model.predict(np.array([image1, image2]))\n",
        "\n",
        "# Merge the two images based on the predicted correlation\n",
        "merged_image = image1 * prediction[0] + image2 * prediction[1]\n",
        "\n",
        "# Plot the merged image\n",
        "plt.imshow(merged_image.reshape(100, 100), cmap='viridis')\n",
        "\n",
        "def mean_squared_error(image1, image2):\n",
        "    return np.mean((image1 - image2)**2)\n",
        "\n",
        "mse = mean_squared_error(image1, image2)\n",
        "print(\"Mean Squared Error:\", mse)\n",
        "\n",
        "# Show the plot\n",
        "plt.show()"
      ]
    },
    {
      "cell_type": "code",
      "execution_count": null,
      "metadata": {
        "colab": {
          "base_uri": "https://localhost:8080/",
          "height": 789
        },
        "id": "Q3aYcu0MdLiU",
        "outputId": "260e48bd-65ab-4c26-80e3-408342b348a1"
      },
      "outputs": [
        {
          "name": "stdout",
          "output_type": "stream",
          "text": [
            "Epoch 1/10\n",
            "1/1 [==============================] - 2s 2s/step - loss: 1.4876e-09 - val_loss: 0.9905\n",
            "Epoch 2/10\n",
            "1/1 [==============================] - 1s 787ms/step - loss: 2.3906e-05 - val_loss: 0.9980\n",
            "Epoch 3/10\n",
            "1/1 [==============================] - 1s 793ms/step - loss: 1.0681e-06 - val_loss: 1.0049\n",
            "Epoch 4/10\n",
            "1/1 [==============================] - 1s 768ms/step - loss: 5.8973e-06 - val_loss: 1.0011\n",
            "Epoch 5/10\n",
            "1/1 [==============================] - 1s 745ms/step - loss: 2.5086e-07 - val_loss: 0.9962\n",
            "Epoch 6/10\n",
            "1/1 [==============================] - 1s 773ms/step - loss: 3.7130e-06 - val_loss: 1.0041\n",
            "Epoch 7/10\n",
            "1/1 [==============================] - 1s 754ms/step - loss: 4.0154e-06 - val_loss: 0.9993\n",
            "Epoch 8/10\n",
            "1/1 [==============================] - 1s 763ms/step - loss: 1.3870e-07 - val_loss: 1.0001\n",
            "Epoch 9/10\n",
            "1/1 [==============================] - 1s 755ms/step - loss: 2.9160e-09 - val_loss: 1.0002\n",
            "Epoch 10/10\n",
            "1/1 [==============================] - 1s 766ms/step - loss: 1.0843e-08 - val_loss: 0.9996\n"
          ]
        },
        {
          "name": "stderr",
          "output_type": "stream",
          "text": [
            "WARNING:tensorflow:5 out of the last 9 calls to <function Model.make_predict_function.<locals>.predict_function at 0x7efeceaa80d0> triggered tf.function retracing. Tracing is expensive and the excessive number of tracings could be due to (1) creating @tf.function repeatedly in a loop, (2) passing tensors with different shapes, (3) passing Python objects instead of tensors. For (1), please define your @tf.function outside of the loop. For (2), @tf.function has reduce_retracing=True option that can avoid unnecessary retracing. For (3), please refer to https://www.tensorflow.org/guide/function#controlling_retracing and https://www.tensorflow.org/api_docs/python/tf/function for  more details.\n"
          ]
        },
        {
          "name": "stdout",
          "output_type": "stream",
          "text": [
            "1/1 [==============================] - 0s 188ms/step\n",
            "Correlation result:  [[0.00020342]\n",
            " [0.00018495]]\n",
            "1/1 [==============================] - 0s 117ms/step\n",
            "Mean Squared Error: 2.5389552209904777e-07\n"
          ]
        },
        {
          "data": {
            "image/png": "[encoded data removed]",
            "text/plain": [
              "<Figure size 720x360 with 2 Axes>"
            ]
          },
          "metadata": {},
          "output_type": "display_data"
        }
      ],
      "source": [
        "#actin filaments_4 G-actin monomers\n",
        "import numpy as np\n",
        "import keras\n",
        "from keras.models import Sequential\n",
        "from keras.layers import Dense, Conv2D, Flatten\n",
        "import matplotlib.pyplot as plt\n",
        "\n",
        "# Load and preprocess the two images data\n",
        "# tip radius for sim AFM = 0.1\n",
        "image1 = np.load('/content/sample_data/image_2y83-AFM.npy')\n",
        "image2 = np.load('/content/sample_data/image_pdb_2y83.npy')\n",
        "image1 = image1 / 255.0 # normalize to [0, 1] range\n",
        "image2 = image2 / 255.0 # normalize to [0, 1] range\n",
        "\n",
        "# Reshape the images to 4-dimensional tensors\n",
        "image1 = np.array(image1)\n",
        "image1 = image1.reshape(100, 100, 1)\n",
        "image2 = np.array(image2)\n",
        "image2 = image2.reshape(100, 100, 1)\n",
        "\n",
        "# Define the neural network model\n",
        "model = Sequential()\n",
        "model.add(Conv2D(32, kernel_size=(3,3), activation='relu', input_shape=(100,100,1)))\n",
        "model.add(Flatten())\n",
        "model.add(Dense(512, activation='relu'))\n",
        "model.add(Dense(256, activation='relu'))\n",
        "model.add(Dense(128, activation='relu'))\n",
        "model.add(Dense(64, activation='relu'))\n",
        "model.add(Dense(1, activation='linear'))\n",
        "\n",
        "# Compile the model\n",
        "model.compile(loss='mean_squared_error', optimizer='adam')\n",
        "\n",
        "# Train the model\n",
        "model.fit(np.array([image1, image2]), np.array([0, 1]), epochs=10, batch_size=32, validation_split=0.2)\n",
        "\n",
        "\n",
        "# Use the model to predict the correlation between the two images\n",
        "correlation_result = model.predict(np.array([image1, image2]))\n",
        "\n",
        "# Plot the original images\n",
        "plt.figure(figsize=(10,5))\n",
        "plt.subplot(1,2,1)\n",
        "plt.imshow(image1.reshape(100, 100), cmap='gray')\n",
        "plt.title(\"Image 1\")\n",
        "\n",
        "plt.subplot(1,2,2)\n",
        "plt.imshow(image2.reshape(100, 100), cmap='gray')\n",
        "plt.title(\"Image 2\")\n",
        "\n",
        "# Print the correlation result\n",
        "print(\"Correlation result: \", correlation_result)\n",
        "\n",
        "# # Normalize the images to [0, 1] range\n",
        "# image1 = (image1 - np.min(image1)) / (np.max(image1) - np.min(image1))\n",
        "# image2 = (image2 - np.min(image2)) / (np.max(image2) - np.min(image2))\n",
        "\n",
        "\n",
        "# Predict the correlation between the two images\n",
        "prediction = model.predict(np.array([image1, image2]))\n",
        "\n",
        "# Merge the two images based on the predicted correlation\n",
        "merged_image = image1 * prediction[0] + image2 * prediction[1]\n",
        "\n",
        "# Plot the merged image; for gray use cmap=\"gray\"\n",
        "plt.imshow(merged_image.reshape(100, 100), cmap='viridis')\n",
        "\n",
        "def mean_squared_error(image1, image2):\n",
        "    return np.mean((image1 - image2)**2)\n",
        "\n",
        "mse = mean_squared_error(image1, image2)\n",
        "print(\"Mean Squared Error:\", mse)\n",
        "\n",
        "# Show the plot\n",
        "plt.show()"
      ]
    },
    {
      "cell_type": "code",
      "execution_count": null,
      "metadata": {
        "colab": {
          "base_uri": "https://localhost:8080/"
        },
        "id": "dtRALw9f4pJU",
        "outputId": "f4c6b033-f79a-42dc-f520-9ed6b0b0c3d3"
      },
      "outputs": [
        {
          "name": "stdout",
          "output_type": "stream",
          "text": [
            "2961\n"
          ]
        }
      ],
      "source": [
        "#Calculate number of atoms\n",
        "# Open the PDB file\n",
        "with open(\"/content/sample_data/2zwh.pdb\", \"r\") as file:\n",
        "    # Read the file line by line\n",
        "    lines = file.readlines()\n",
        "    \n",
        "# Initialize a counter for the number of atoms\n",
        "num_atoms = 0\n",
        "\n",
        "# Loop over each line in the file\n",
        "for line in lines:\n",
        "    # Check if the line starts with \"ATOM\" or \"HETATM\"\n",
        "    if line.startswith(\"ATOM\") or line.startswith(\"HETATM\"):\n",
        "        num_atoms += 1\n",
        "        \n",
        "# Print the number of atoms\n",
        "print(num_atoms)\n"
      ]
    },
    {
      "cell_type": "code",
      "execution_count": null,
      "metadata": {
        "colab": {
          "base_uri": "https://localhost:8080/"
        },
        "id": "8BzZBLzF6rQr",
        "outputId": "7a55811a-b3be-4430-fae8-95b9b8060fa1"
      },
      "outputs": [
        {
          "name": "stdout",
          "output_type": "stream",
          "text": [
            "[0. 0. 0. ... 0. 0. 0.]\n"
          ]
        }
      ],
      "source": [
        "import numpy as np\n",
        "import random\n",
        "\n",
        "# Load the protein structure from a PDB file\n",
        "# This is just a hypothetical example, you'll need to modify it according to your PDB file\n",
        "# structure = np.load(\"/content/sample_data/6bno.pdb\")\n",
        "\n",
        "structure = np.load('/content/image_2zwh.npy', allow_pickle=True)\n",
        "\n",
        "#Define the number of atoms in the structure\n",
        "num_atoms = 2961\n",
        "\n",
        "# Define some parameters for the simulation\n",
        "steps = 1000 # Number of Monte-Carlo steps\n",
        "temperature = 1 # The temperature in Kelvin\n",
        "\n",
        "# Define an array of charges for the atoms\n",
        "# This is just a hypothetical example, you'll need to modify it according to your simulation\n",
        "charges = np.zeros(num_atoms)\n",
        "# print(charges)\n",
        "# np.savetxt('charges.txt', charges)\n",
        "\n",
        "if np.isnan(structure).any() or np.isnan(charges).any():\n",
        "    print(\"NaN values detected in input arrays\")\n",
        "\n",
        "# Define a function to calculate the energy of the current structure\n",
        "# def energy(structure, charges):\n",
        "#     # Your implementation of the energy calculation\n",
        "#     # This can depend on the type of simulation you are doing\n",
        "#     # Calculate the electrostatic potential energy of the structure\n",
        "#     # energy = 0\n",
        "#     # N = len(structure)\n",
        "#     # for i in range(len(structure)):\n",
        "#     #   for j in range(i+1, len(structure)):\n",
        "#     #     distance = np.linalg.norm(structure[i] - structure[j])\n",
        "#     #     energy += charges[i] * charges[j] / distance\n",
        "#     # return energy\n",
        "#     energy = 0\n",
        "#     N = len(structure)\n",
        "#     distances = []\n",
        "#     energies = []\n",
        "#     for i in range(len(structure)):\n",
        "#       for j in range(i+1, len(structure)):\n",
        "#         if np.isnan(structure).any() or np.isinf(structure).any():\n",
        "#             # replace NaN or Inf values with a valid value\n",
        "#             structure[np.isnan(structure) | np.isinf(structure)] = 0\n",
        "#         distance = np.linalg.norm(structure[i] - structure[j])\n",
        "#         #print(distance)\n",
        "#         if distance != 0:\n",
        "#             distances.append(distance)\n",
        "#         if distance > 0:\n",
        "#           energy += charges[i] * charges[j] / distance\n",
        "#           print(\"Energy at step\", i, \":\", energy)        \n",
        "#       energies.append(energy)\n",
        "      \n",
        "#     with open(\"distances.txt\", \"a\") as file:\n",
        "#       for distance in distances:\n",
        "#         if np.isinf(distance):\n",
        "#             distance = 0\n",
        "#         file.write(str(distance) + \"\\n\")\n",
        "#     with open(\"energies.txt\", \"a\") as file:\n",
        "#       for energy in energies:\n",
        "#         file.write(str(energy) + \"\\n\")\n",
        "#     return energy\n",
        "\n",
        "def energy(structure, charges):\n",
        "    energy = 0\n",
        "    N = len(structure)\n",
        "    distances = []\n",
        "    energies = []\n",
        "    for i in range(len(structure)):\n",
        "        for j in range(i+1, len(structure)):\n",
        "            if np.isnan(structure).any() or np.isinf(structure).any():\n",
        "                # replace NaN or Inf values with a valid value\n",
        "                structure[np.isnan(structure) | np.isinf(structure)] = 0\n",
        "            distance = np.linalg.norm(structure[i] - structure[j])\n",
        "            if distance != 0:\n",
        "                distances.append(distance)\n",
        "            if distance > 0:\n",
        "                energy += charges[i] * charges[j] / distance\n",
        "        print(\"Energy at step\", i, \":\", energy)\n",
        "        energies.append(energy)\n",
        "    with open(\"distances.txt\", \"a\") as file:\n",
        "        for distance in distances:\n",
        "            if np.isinf(distance):\n",
        "                distance = 0\n",
        "            file.write(str(distance) + \"\\n\")\n",
        "    with open(\"energies.txt\", \"a\") as file:\n",
        "        for energy in energies:\n",
        "            if np.isinf(energy):\n",
        "                energy = 0\n",
        "            file.write(str(energy) + \"\\n\")\n",
        "    return energy\n",
        "\n",
        "\n",
        "# # Define a function to randomly perturb the structure\n",
        "# # def perturb(structure):\n",
        "# #     # Your implementation of the random perturbation\n",
        "# #     # This could be a random rotation or translation, for example\n",
        "# #     # Randomly rotate the structure\n",
        "# #     rotation_matrix = np.random.rand(3,3)\n",
        "# #     rotated_structure = np.dot(structure, rotation_matrix)\n",
        "# #     return rotated_structure\n",
        "\n",
        "def perturb(structure):\n",
        "    # # Your implementation of the random perturbation\n",
        "    # # This could be a random rotation or translation, for example\n",
        "    # # Randomly rotate the structure\n",
        "    rotation_matrix = np.random.rand(100,100)\n",
        "    rotated_structure = np.dot(structure.T, rotation_matrix)\n",
        "    return rotated_structure\n",
        "\n",
        "\n",
        "def monte_carlo_simulation(structure, charges, temperature, num_steps):\n",
        "    current_structure = structure\n",
        "    current_energy = energy(structure, charges)\n",
        "    energies = [current_energy]\n",
        "\n",
        "    for step in range(num_steps):\n",
        "        # Perturb the structure\n",
        "        new_structure = perturb(current_structure)\n",
        "        new_energy = energy(new_structure, charges)\n",
        "\n",
        "        # Accept or reject the new structure based on the Boltzmann distribution\n",
        "        delta_energy = new_energy - current_energy\n",
        "        if delta_energy < 0:\n",
        "            current_structure = new_structure\n",
        "            current_energy = new_energy\n",
        "        elif random.uniform(0,1) < np.exp(-delta_energy/temperature):\n",
        "            current_structure = new_structure\n",
        "            current_energy = new_energy\n",
        "\n",
        "        # # Store the energy\n",
        "        energies.append(current_energy)\n",
        "    \n",
        "    return current_structure, energies\n",
        "\n",
        "# # Run the Monte-Carlo simulation\n",
        "current_structure, energies = monte_carlo_simulation(structure, charges, temperature, steps)\n",
        "\n",
        "# # The final structure and energies can be stored for further analysis\n",
        "np.save(\"/content/final_structure.npy\", current_structure)\n",
        "np.save(\"/content/final_energies.npy\", energies)\n"
      ]
    },
    {
      "cell_type": "code",
      "execution_count": null,
      "metadata": {
        "colab": {
          "base_uri": "https://localhost:8080/",
          "height": 279
        },
        "id": "3LzLjI59BnxD",
        "outputId": "0431171f-e141-4eaa-bcee-4ea9639f9cad"
      },
      "outputs": [
        {
          "data": {
            "image/png": "[encoded data removed]",
            "text/plain": [
              "<Figure size 432x288 with 1 Axes>"
            ]
          },
          "metadata": {},
          "output_type": "display_data"
        }
      ],
      "source": [
        "import numpy as np\n",
        "import matplotlib.pyplot as plt\n",
        "\n",
        "energies = np.load(\"/content/final_energies.npy\")\n",
        "\n",
        "# Plot the energies over time\n",
        "plt.plot(energies)\n",
        "plt.xlabel(\"Step\")\n",
        "plt.ylabel(\"Distance\")\n",
        "plt.show()\n"
      ]
    },
    {
      "cell_type": "code",
      "execution_count": null,
      "metadata": {
        "colab": {
          "base_uri": "https://localhost:8080/"
        },
        "id": "PlQCVyjSzkDf",
        "outputId": "27c62c79-ff12-4188-d3d9-a79252144bd7"
      },
      "outputs": [
        {
          "output_type": "stream",
          "name": "stdout",
          "text": [
            "Looking in indexes: https://pypi.org/simple, https://us-python.pkg.dev/colab-wheels/public/simple/\n",
            "Requirement already satisfied: Biopython in /usr/local/lib/python3.8/dist-packages (1.81)\n",
            "Requirement already satisfied: numpy in /usr/local/lib/python3.8/dist-packages (from Biopython) (1.22.4)\n"
          ]
        }
      ],
      "source": [
        "!pip install Biopython"
      ]
    },
    {
      "cell_type": "code",
      "execution_count": null,
      "metadata": {
        "id": "t3wUWSinzfBy"
      },
      "outputs": [],
      "source": [
        "import numpy as np\n",
        "import matplotlib.pyplot as plt\n",
        "from Bio.PDB import PDBParser\n",
        "\n",
        "# Define the electrostatic potential energy\n",
        "electrostatic_energy = 3.85 # in eV\n",
        "\n",
        "# Define the temperatures\n",
        "temperatures = [330, 350, 370, 410] # in K\n",
        "\n",
        "# Define the fraction of native contacts (reaction coordinate) values to sample\n",
        "Q_values = np.linspace(0, 1, 101)\n",
        "\n",
        "# Define the harmonic potential force constant\n",
        "k = 10.0 # in kJ/mol/Å^2\n",
        "\n",
        "# Load the G-actin structure (e.g. using Biopython)\n",
        "\n",
        "parser = PDBParser()\n",
        "structure = parser.get_structure('G-actin', '/content/sample_data/2zwh.pdb')\n",
        "\n",
        "\n",
        "# Set the simulation parameters\n",
        "nsteps = 100000  # number of simulation steps\n",
        "q_min = 0.0  # minimum reaction coordinate value\n",
        "q_max = 1.0  # maximum reaction coordinate value\n",
        "n_q = 101  # number of reaction coordinate values\n",
        "kT_values = [330, 350, 370, 410]  # temperature values in Kelvin\n",
        "beta_values = [1/(kT/300) for kT in kT_values]  # corresponding beta values\n",
        "\n",
        "# Set the potential energy parameters\n",
        "d_0 = 4.0  # reference distance for harmonic potential\n",
        "C = 10.0  # force constant for harmonic potential\n",
        "epsilon = 3.85  # electrostatic potential energy in eV\n",
        "\n",
        "# Initialize the arrays for the reaction coordinate and free energy values\n",
        "Q = np.linspace(q_min, q_max, n_q)\n",
        "F = np.zeros((len(kT_values), n_q))\n",
        "\n",
        "# Run the simulation at different temperatures\n",
        "for i, beta in enumerate(beta_values):\n",
        "    for step in range(nsteps):\n",
        "        # TODO: update the coordinates of the central carbon atoms by sampling their motion using a Monte Carlo or molecular dynamics algorithm\n",
        "        \n",
        "        # Calculate the fraction of native contacts as the reaction coordinate\n",
        "        # TODO: calculate the distance between each pair of central carbon atoms and count the number of pairs with distances within a cutoff value\n",
        "        # TODO: calculate the fraction of native contacts as the ratio of the number of native contacts to the total number of contacts\n",
        "        \n",
        "        # Calculate the potential energy as a function of the reaction coordinate\n",
        "        U = 3.85\n",
        "        for i in range(len(Q)):\n",
        "            for j in range(i+1, len(Q)):\n",
        "                d_ij = np.linalg.norm(coord_i - coord_j)\n",
        "                if d_ij <= d_0:\n",
        "                    U += 0.5 * C * (d_ij - d_0)**2\n",
        "        U += epsilon * Q\n",
        "        \n",
        "        # Calculate the free energy as a function of the reaction coordinate using the Bennett acceptance ratio method\n",
        "        # TODO: implement the Bennett acceptance ratio method to calculate the free energy at each reaction coordinate value\n",
        "        \n",
        "    # Plot the free energy profile at the current temperature\n",
        "    plt.plot(Q, F[i], label='{} K'.format(kT_values[i]))\n",
        "    \n",
        "# Add labels and legend to the plot\n",
        "plt.xlabel('Reaction coordinate Q')\n",
        "plt.ylabel('Free energy (kcal/mol)')\n",
        "plt.legend()\n",
        "\n",
        "# Show the plot\n",
        "plt.show()\n",
        "\n",
        "\n",
        "\n",
        "# Define a function to calculate the fraction of native contacts Q\n",
        "def calculate_Q(model):\n",
        "    \"\"\"\n",
        "    Calculate the fraction of native contacts Q for a given model\n",
        "    \"\"\"\n",
        "    # Calculate the distance matrix between all C-alpha atoms\n",
        "    ca_atoms = [atom for atom in model.get_atoms() if atom.get_name() == 'CA']\n",
        "    num_ca_atoms = len(ca_atoms)\n",
        "    dist_matrix = np.zeros((num_ca_atoms, num_ca_atoms))\n",
        "    for i, ca_i in enumerate(ca_atoms):\n",
        "        for j, ca_j in enumerate(ca_atoms):\n",
        "            dist_matrix[i, j] = ca_i - ca_j\n",
        "\n",
        "    # Calculate the fraction of native contacts as the ratio of native contacts to total contacts\n",
        "    native_contacts = np.sum(dist_matrix < 8.0) - num_ca_atoms\n",
        "    total_contacts = num_ca_atoms * (num_ca_atoms - 1) / 2\n",
        "    Q = float(native_contacts) / total_contacts\n",
        "\n",
        "    return Q\n",
        "\n",
        "# Define a function to calculate the potential energy for a given Q value\n",
        "def calculate_potential_energy(Q):\n",
        "    \"\"\"\n",
        "    Calculate the potential energy for a given fraction of native contacts Q\n",
        "    \"\"\"\n",
        "    potential_energy = electrostatic_energy * (1 - Q) + 0.5 * k * (1 - Q)**2\n",
        "    return potential_energy\n",
        "\n",
        "# Loop over the temperatures and Q values to sample the conformational landscape\n",
        "for T in temperatures:\n",
        "    print('Sampling at temperature', T)\n",
        "    for Q in Q_values:\n",
        "        # Calculate the potential energy for the current Q value\n",
        "        potential_energy = calculate_potential_energy(Q)\n",
        "\n",
        "        # Use the Metropolis criterion to accept or reject the new state\n",
        "        # based on the change in potential energy and the temperature\n",
        "        dE = potential_energy - current_energy\n",
        "        if dE < 0 or np.random.rand() < np.exp(-dE / (k_B * T)):\n",
        "            # Accept the new state\n",
        "            # TODO: update the coordinates of the central carbon atoms\n",
        "\n",
        "    # TODO: calculate and plot the free energy profile as a function of Q at this temperature\n"
      ]
    },
    {
      "cell_type": "code",
      "execution_count": null,
      "metadata": {
        "id": "9TVsJyru085x"
      },
      "outputs": [],
      "source": [
        "import numpy as np\n",
        "import matplotlib.pyplot as plt\n",
        "import Bio.PDB\n",
        "\n",
        "# Function for calculating energy of the G-actin structure\n",
        "def calc_energy(coords):\n",
        "    # TODO: Implement function for calculating energy of G-actin structure\n",
        "    # using electrostatic potential energy and pairwise interactions\n",
        "    \n",
        "\n",
        "    # Load the PDB structure\n",
        "    pdb = Bio.PDB.PDBParser().get_structure(\"2zwh\", \"/content/sample_data/2zwh.pdb\")\n",
        "\n",
        "    # Initialize a list to store the x,y,z coordinates of each atom\n",
        "    positions = []\n",
        "\n",
        "    # Define the charge of the entire molecule\n",
        "    molecule_charge = -13\n",
        "\n",
        "    # Calculate the total number of atoms\n",
        "    num_atoms = 0\n",
        "    for model in pdb:\n",
        "        for chain in model:\n",
        "            for residue in chain:\n",
        "                for atom in residue:\n",
        "                    num_atoms += 1\n",
        "\n",
        "    # Calculate the charge of each atom\n",
        "    atom_charge = molecule_charge / num_atoms\n",
        "\n",
        "    # Store the x,y,z coordinates of each atom\n",
        "    for model in pdb:\n",
        "        for chain in model:\n",
        "            for residue in chain:\n",
        "                for atom in residue:\n",
        "                    x, y, z = atom.coord\n",
        "                    positions.append([x, y, z])\n",
        "\n",
        "    # Convert the list of positions into a numpy array\n",
        "    positions = np.array(positions)\n",
        "\n",
        "    # Calculate the charges of each atom\n",
        "    charges = np.array([atom_charge] * num_atoms)\n",
        "\n",
        "    # Convert the lists of positions and charges into numpy arrays\n",
        "    positions = np.array(positions)\n",
        "    charges = np.array(charges)\n",
        "\n",
        "    # Calculate the electrostatic potential energy of the structure\n",
        "    potential_energy = 0\n",
        "    for i in range(len(positions)):\n",
        "        for j in range(i+1, len(positions)):\n",
        "            distance = np.linalg.norm(positions[i] - positions[j])\n",
        "            potential_energy += charges[i] * charges[j] / distance\n",
        "\n",
        "    print(\"Potential energy:\", potential_energy)\n",
        "\n",
        "    energy = 0\n",
        "    return energy\n",
        "\n",
        "# Function for performing molecular dynamics simulations\n",
        "def simulate_md(coords, k, T, dt, nsteps):\n",
        "    # TODO: Implement molecular dynamics simulation\n",
        "    # Set the simulation parameters\n",
        "    nsteps = 100000  # number of simulation steps\n",
        "    q_min = 0.0  # minimum reaction coordinate value\n",
        "    q_max = 1.0  # maximum reaction coordinate value\n",
        "    n_q = 101  # number of reaction coordinate values\n",
        "    kT_values = [330, 350, 370, 410]  # temperature values in Kelvin\n",
        "    beta_values = [1/(kT/300) for kT in kT_values]  # corresponding beta values\n",
        "\n",
        "    # Set the potential energy parameters\n",
        "    d_0 = 4.0  # reference distance for harmonic potential\n",
        "    C = 10.0  # force constant for harmonic potential\n",
        "    epsilon = 3.85  # electrostatic potential energy in eV\n",
        "\n",
        "    # Initialize the arrays for the reaction coordinate and free energy values\n",
        "    Q = np.linspace(q_min, q_max, n_q)\n",
        "    F = np.zeros((len(kT_values), n_q))\n",
        "\n",
        "    # Run the simulation at different temperatures\n",
        "    for i, beta in enumerate(beta_values):\n",
        "        for step in range(nsteps):\n",
        "            # TODO: update the coordinates of the central carbon atoms by sampling their motion using a Monte Carlo or molecular dynamics algorithm\n",
        "            \n",
        "            # Calculate the fraction of native contacts as the reaction coordinate\n",
        "            # TODO: calculate the distance between each pair of central carbon atoms and count the number of pairs with distances within a cutoff value\n",
        "            # TODO: calculate the fraction of native contacts as the ratio of the number of native contacts to the total number of contacts\n",
        "            \n",
        "            # Calculate the potential energy as a function of the reaction coordinate\n",
        "            U = 3.85\n",
        "            for i in range(len(Q)):\n",
        "                for j in range(i+1, len(Q)):\n",
        "                    d_ij = np.linalg.norm(coord_i - coord_j)\n",
        "                    if d_ij <= d_0:\n",
        "                        U += 0.5 * C * (d_ij - d_0)**2\n",
        "            U += epsilon * Q\n",
        "    new_coords = coords\n",
        "    return new_coords\n",
        "\n",
        "# Function for performing free energy calculations using BAR\n",
        "def calc_free_energy(coords, k, T, dt, nsteps, Q_vals):\n",
        "    energies = []\n",
        "    for Q in Q_vals:\n",
        "        # Set up initial and final states with specified Q values\n",
        "        coords_init = coords\n",
        "        coords_final = coords\n",
        "        \n",
        "        # Simulate each state to get energies\n",
        "        E_init = calc_energy(coords_init)\n",
        "        E_final = calc_energy(coords_final)\n",
        "        E_bar = 0.5 * (E_init + E_final)\n",
        "        \n",
        "        coords_init = simulate_md(coords_init, k, T, dt, nsteps)\n",
        "        coords_final = simulate_md(coords_final, k, T, dt, nsteps)\n",
        "        \n",
        "        E_init = calc_energy(coords_init)\n",
        "        E_final = calc_energy(coords_final)\n",
        "        E_bar_new = 0.5 * (E_init + E_final)\n",
        "        \n",
        "        # Calculate weight factor using Bennett acceptance ratio\n",
        "        delta_F = - np.log(np.exp(- E_bar / kT) + np.exp(- E_bar_new / kT))\n",
        "        w = np.exp(- delta_F)\n",
        "        \n",
        "        # Update free energy profile\n",
        "        energies.append(- np.log(np.mean(w)))\n",
        "    \n",
        "        # Plot free energy profile\n",
        "        plt.plot(Q_vals, energies)\n",
        "        plt.xlabel('Reaction coordinate Q')\n",
        "        plt.ylabel('Free energy (kcal/mol)')\n",
        "        plt.show()\n",
        "\n",
        "        # Set up simulation parameters\n",
        "        k = 0.0019872041  # Boltzmann constant in kcal/mol/K\n",
        "        T_vals = [330, 350, 370, 410]  # Temperature values in Kelvin\n",
        "        dt = 0.002  # Time step in picoseconds\n",
        "        nsteps = 1000  # Number of simulation steps\n",
        "        Q_vals = np.linspace(0, 1, 101)  # Reaction coordinate values\n",
        "\n",
        "        # Load G-actin coordinates and calculate initial energy\n",
        "        coords = load_coordinates('/content/sample_data/2zwh.pdb')\n",
        "        E_init = calc_energy(coords)\n",
        "\n",
        "    # Perform free energy calculations at each temperature\n",
        "    for T in T_vals:\n",
        "        # Simulate G-actin structure at specified temperature\n",
        "        coords = simulate_md(coords, k, T, dt, nsteps)\n",
        "        \n",
        "        # Calculate free energy profile\n",
        "        calc_free_energy(coords, k, T, dt, nsteps, Q_vals)"
      ]
    },
    {
      "cell_type": "code",
      "source": [
        "!pip install Biopython"
      ],
      "metadata": {
        "colab": {
          "base_uri": "https://localhost:8080/"
        },
        "id": "tV1y7IXB2BkS",
        "outputId": "0d1ffd47-5dd7-47d2-b96d-cc2ad5d49ef5"
      },
      "execution_count": null,
      "outputs": [
        {
          "output_type": "stream",
          "name": "stdout",
          "text": [
            "Looking in indexes: https://pypi.org/simple, https://us-python.pkg.dev/colab-wheels/public/simple/\n",
            "Requirement already satisfied: Biopython in /usr/local/lib/python3.8/dist-packages (1.81)\n",
            "Requirement already satisfied: numpy in /usr/local/lib/python3.8/dist-packages (from Biopython) (1.22.4)\n"
          ]
        }
      ]
    },
    {
      "cell_type": "code",
      "source": [
        "import numpy as np\n",
        "import matplotlib.pyplot as plt\n",
        "\n",
        "def calc_Q(xyz, contacts):\n",
        "    \"\"\"\n",
        "    Calculate the fraction of native contacts for the given coordinates\n",
        "    and contact list.\n",
        "\n",
        "    Parameters\n",
        "    ----------\n",
        "    xyz : numpy.ndarray\n",
        "        Coordinates of the central carbon atoms.\n",
        "    contacts : numpy.ndarray\n",
        "        List of native contacts.\n",
        "\n",
        "    Returns\n",
        "    -------\n",
        "    float\n",
        "        Fraction of native contacts.\n",
        "    \"\"\"\n",
        "    n_contacts = len(contacts)\n",
        "    native_dists = np.linalg.norm(xyz[contacts[:,0]] - xyz[contacts[:,1]], axis=1)\n",
        "    dists = np.linalg.norm(xyz[np.newaxis,:,:] - xyz[:,np.newaxis,:], axis=-1).flatten()\n",
        "    q = np.sum((native_dists - dists)**2 < 0.4**2) / n_contacts\n",
        "    return q\n",
        "\n",
        "def calc_energy(xyz, contacts, eps=3.85, sigma=3.8, cutoff=10.0):\n",
        "    \"\"\"\n",
        "    Calculate the Lennard-Jones potential energy for the given coordinates\n",
        "    and contact list.\n",
        "\n",
        "    Parameters\n",
        "    ----------\n",
        "    xyz : numpy.ndarray\n",
        "        Coordinates of the central carbon atoms.\n",
        "    contacts : numpy.ndarray\n",
        "        List of native contacts.\n",
        "    eps : float\n",
        "        Lennard-Jones energy parameter.\n",
        "    sigma : float\n",
        "        Lennard-Jones distance parameter.\n",
        "    cutoff : float\n",
        "        Cutoff distance for the LJ potential.\n",
        "\n",
        "    Returns\n",
        "    -------\n",
        "    float\n",
        "        Lennard-Jones potential energy.\n",
        "    \"\"\"\n",
        "    n_contacts = len(contacts)\n",
        "    native_dists = np.linalg.norm(xyz[contacts[:,0]] - xyz[contacts[:,1]], axis=1)\n",
        "    dists = np.linalg.norm(xyz[np.newaxis,:,:] - xyz[:,np.newaxis,:], axis=-1).flatten()\n",
        "    q = np.sum((native_dists - dists)**2 < cutoff**2) / n_contacts\n",
        "    energy = 4 * eps * ((sigma / dists)**12 - (sigma / dists)**6)\n",
        "    energy[dists > cutoff] = 0\n",
        "    return np.sum(energy) - np.log(q / (1 - q))\n",
        "\n",
        "def BAR(f, df, u_kl, du_kl):\n",
        "    \"\"\"\n",
        "    Calculate free energy difference between two thermodynamic states\n",
        "    using the Bennett acceptance ratio method.\n",
        "\n",
        "    Parameters\n",
        "    ----------\n",
        "    f : list\n",
        "        List of biased potential energies for each state.\n",
        "    df : list\n",
        "        List of unbiased potential energies for each state.\n",
        "    u_kl : list\n",
        "        List of forward and reverse work terms for each state.\n",
        "    du_kl : list\n",
        "        List of forward and reverse standard deviation estimates for each state.\n",
        "\n",
        "    Returns\n",
        "    -------\n",
        "    float\n",
        "        Free energy difference between the two states.\n",
        "    \"\"\"\n",
        "    N = len(f)\n",
        "    A = np.zeros((N, N))\n",
        "    for k in range(N):\n",
        "        for l in range(N):\n",
        "            A[k,l] = np.exp(-f[k] + f[l] + u_kl[k][l])\n",
        "    b = np.ones(N)\n",
        "    c = np.ones(N)\n",
        "    delta_f = np.linalg.solve(A, b)\n",
        "    delta_df = np.linalg.solve(A.T, c)\n",
        "    delta_f -= np.max(delta_f)\n",
        "    return -np.log(np.sum(np.exp(-(delta_f - df) ** 2 / (2 * delta_df ** 2))))\n",
        "\n",
        "# Load G-actin structure\n",
        "with open('/content/sample_data/2zwh.pdb') as f:\n",
        "    lines = f.readlines()\n",
        "\n",
        "# Extract central carbon atom coordinates and native contacts\n",
        "coords = []\n",
        "#np.save('coords.npy', coords)\n",
        "print(coords)"
      ],
      "metadata": {
        "colab": {
          "base_uri": "https://localhost:8080/"
        },
        "id": "q-XrTQM8ujJ9",
        "outputId": "22498f67-3b2c-4fe9-f6d8-31237cb03b2e"
      },
      "execution_count": null,
      "outputs": [
        {
          "output_type": "stream",
          "name": "stdout",
          "text": [
            "[]\n"
          ]
        }
      ]
    },
    {
      "cell_type": "code",
      "source": [
        "import numpy as np\n",
        "import matplotlib.pyplot as plt\n",
        "from scipy import integrate\n",
        "\n",
        "# Define the potential energy function\n",
        "def potential_energy(x):\n",
        "    k = 1.38e-23 # Boltzmann constant\n",
        "    T = 330 # Temperature in Kelvin\n",
        "    kT = k * T\n",
        "    V = 3.85 # Electrostatic potential energy\n",
        "    return V/(kT) * x\n",
        "\n",
        "# Define the function to calculate the fraction of native contacts\n",
        "def calc_q(xyz):\n",
        "    nat_contacts = 0\n",
        "    nonnat_contacts = 0\n",
        "    for i in range(len(xyz)):\n",
        "        for j in range(i+1, len(xyz)):\n",
        "            dist = np.linalg.norm(xyz[i]-xyz[j])\n",
        "            if dist < 0.6*(2**(1/6)):\n",
        "                nat_contacts += 1\n",
        "            else:\n",
        "                nonnat_contacts += 1\n",
        "    q = nat_contacts/(nat_contacts+nonnat_contacts)\n",
        "    return q\n",
        "\n",
        "# Define the function to calculate the acceptance ratio using the Bennett acceptance ratio method\n",
        "def acceptance_ratio(u1, u2):\n",
        "    k = 1.38e-23 # Boltzmann constant\n",
        "    delta_beta = 1/k * (1/350 - 1/330)\n",
        "    return np.exp(-(u2-u1)*delta_beta)\n",
        "\n",
        "# Generate random conformations for G-actin\n",
        "xyz = np.random.rand(120, 3) * 10\n",
        "\n",
        "# Initialize variables\n",
        "n_frames = 10000\n",
        "n_discard = 1000\n",
        "n_bins = 50\n",
        "q_vals = np.zeros(n_frames-n_discard)\n",
        "u_vals = np.zeros(n_frames-n_discard)\n",
        "h_vals = np.zeros(n_bins)\n",
        "\n",
        "# Perform simulation and calculate free energy profile\n",
        "for i in range(n_frames):\n",
        "    # Generate new conformation\n",
        "    xyz_new = np.random.normal(xyz, 0.1)\n",
        "    q_new = calc_q(xyz_new)\n",
        "    u_new = potential_energy(q_new)\n",
        "    \n",
        "    # Calculate acceptance probability\n",
        "    if i == 0:\n",
        "        q_old = calc_q(xyz)\n",
        "        u_old = potential_energy(q_old)\n",
        "        acc_prob = 1\n",
        "    else:\n",
        "        acc_prob = acceptance_ratio(u_old, u_new)\n",
        "    \n",
        "    # Decide whether to accept or reject the new conformation\n",
        "    if np.random.rand() < acc_prob:\n",
        "        xyz = xyz_new\n",
        "        q_old = q_new\n",
        "        u_old = u_new\n",
        "    \n",
        "    # Store Q and U values\n",
        "    if i >= n_discard:\n",
        "        q_vals[i-n_discard] = q_old\n",
        "        u_vals[i-n_discard] = u_old\n",
        "\n",
        "# Calculate the free energy profile\n",
        "q_edges = np.linspace(0, 1, n_bins+1)\n",
        "for i in range(n_bins):\n",
        "    idx = (q_vals >= q_edges[i]) & (q_vals < q_edges[i+1])\n",
        "    if np.sum(idx) > 0:\n",
        "        h_vals[i] = -np.log(np.mean(np.exp(-u_vals[idx])))\n",
        "    else:\n",
        "        h_vals[i] = np.nan\n",
        "\n",
        "# Normalize the free energy profile\n",
        "h_vals -= np.nanmin(h_vals)\n",
        "\n",
        "# Plot the free energy profile\n",
        "q_centers = (q_edges[1:] + q_edges[:-1]) / 2\n",
        "plt.plot(q_centers, h_vals)\n",
        "plt.xlabel('Q')\n",
        "plt.ylabel('Free Energy (kT)')\n",
        "plt.show()\n"
      ],
      "metadata": {
        "colab": {
          "base_uri": "https://localhost:8080/",
          "height": 383
        },
        "id": "_5vrM3ZWv840",
        "outputId": "ce8e2740-e6b8-424b-ac77-1385869c9170"
      },
      "execution_count": null,
      "outputs": [
        {
          "output_type": "stream",
          "name": "stderr",
          "text": [
            "<ipython-input-11-bd57ad43b9b6>:31: RuntimeWarning: overflow encountered in exp\n",
            "  return np.exp(-(u2-u1)*delta_beta)\n",
            "<ipython-input-11-bd57ad43b9b6>:75: RuntimeWarning: divide by zero encountered in log\n",
            "  h_vals[i] = -np.log(np.mean(np.exp(-u_vals[idx])))\n",
            "<ipython-input-11-bd57ad43b9b6>:80: RuntimeWarning: invalid value encountered in subtract\n",
            "  h_vals -= np.nanmin(h_vals)\n"
          ]
        },
        {
          "output_type": "display_data",
          "data": {
            "text/plain": [
              "<Figure size 432x288 with 1 Axes>"
            ],
            "image/png": "[encoded data removed]"
          },
          "metadata": {
            "needs_background": "light"
          }
        }
      ]
    },
    {
      "cell_type": "code",
      "source": [
        "import numpy as np\n",
        "import matplotlib.pyplot as plt\n",
        "import Bio.PDB\n",
        "\n",
        "# Function for performing MD simulation using Langevin dynamics\n",
        "def simulate_md(coords, k, T, dt, nsteps):\n",
        "    # Set up simulation environment\n",
        "    forcefield = Bio.PDB.ForceField()\n",
        "    modeller = Bio.PDB.Modeller(coords[0])\n",
        "    modeller.delete_all_atoms()\n",
        "    modeller.add(*coords.get_atoms())\n",
        "    topology = modeller.get_topology()\n",
        "    system = forcefield.createSystem(topology)\n",
        "    for force in system.getForces():\n",
        "        if isinstance(force, Bio.PDB.mm.ParticleMeshEwaldForce):\n",
        "            force.setNonbondedMethod(Bio.PDB.mm.ParticleMeshEwaldForce.NoCutoff)\n",
        "    integrator = Bio.PDB.mm.LangevinIntegrator(T * k, 1.0 / dt, dt)\n",
        "    simulation = Bio.PDB.Simulation(modeller.getModel(), system, integrator)\n",
        "    simulation.context.setPositions(modeller.getPositions())\n",
        "    \n",
        "    # Perform simulation\n",
        "    simulation.reporters.append(Bio.PDB.DCDReporter('output.dcd', 10))\n",
        "    simulation.reporters.append(Bio.PDB.StateDataReporter('output.csv', 10, step=True, potentialEnergy=True, temperature=True))\n",
        "    simulation.step(nsteps)\n",
        "    \n",
        "    # Load coordinates from DCD file\n",
        "    dcd = Bio.PDB.DCDFile(open('output.dcd', 'rb'))\n",
        "    coords = []\n",
        "    for i in range(dcd.numFrames()):\n",
        "        dcd.seek(i)\n",
        "        frame = dcd.read()\n",
        "        coords.append(frame.getPositions())\n",
        "    coords = np.array(coords)\n",
        "    \n",
        "    return coords\n",
        "\n",
        "# Function for calculating electrostatic energy of G-actin structure\n",
        "def calc_energy(coords):\n",
        "    # Set up forcefield\n",
        "    forcefield = Bio.PDB.ForceField()\n",
        "    modeller = Bio.PDB.Modeller(coords[0])\n",
        "    modeller.delete_all_atoms()\n",
        "    modeller.add(*coords.get_atoms())\n",
        "    topology = modeller.get_topology()\n",
        "    system = forcefield.createSystem(topology)\n",
        "    for force in system.getForces():\n",
        "        if isinstance(force, Bio.PDB.mm.ParticleMeshEwaldForce):\n",
        "            force.setNonbondedMethod(Bio.PDB.mm.ParticleMeshEwaldForce.NoCutoff)\n",
        "    \n",
        "    # Calculate energy\n",
        "    simulation = Bio.PDB.Simulation(modeller.getModel(), system)\n",
        "    simulation.context.setPositions(modeller.getPositions())\n",
        "    state = simulation.context.getState(getEnergy=True)\n",
        "    energy = state.getPotentialEnergy().value_in_unit(Bio.PDB.unit.kilojoule_per_mole)\n",
        "    energy /= 4.184  # convert to kcal/mol\n",
        "    \n",
        "    return energy\n",
        "\n",
        "# Function for performing free energy calculations using BAR\n",
        "def calc_free_energy(coords, k, T, dt, nsteps, Q_vals):\n",
        "    # Calculate initial energy and force constant for harmonic potential\n",
        "    E_init = calc_energy(coords)\n",
        "    d_0 = np.max(Q_vals) - np.min(Q_vals)\n",
        "    C = k * T / (d_0 ** 2)\n",
        "    \n",
        "    # Simulate each state to get energies\n",
        "    energies = []\n",
        "    for Q in Q_vals:\n",
        "        # Set up initial and final states with specified Q values\n",
        "        coords_init = coords\n",
        "        coords_final = coords.copy()\n",
        "        for atom in coords_final.get_atoms():\n",
        "            pos = atom.get_coord()\n",
        "            pos += Q * np.random.uniform(-1, 1, size=3)\n",
        "            atom.set_coord(pos)\n",
        "        \n",
        "        # Simulate each state to get energies\n",
        "        E_init = calc_energy(coords_init)\n",
        "        E_final = calc_energy(coords_final)\n",
        "        E_diff = E_final - E_init\n",
        "        energies.append(E_diff)\n",
        "    \n",
        "    # Calculate free energy differences using BAR\n",
        "    N = len(Q_vals)\n",
        "    F = np.zeros(N)\n",
        "    F[0] = 0.0\n",
        "    for k in range(1, N):\n",
        "        sum_exp = 0.0\n",
        "        for j in range(N - k):\n",
        "            sum_exp += np.exp((energies[j] - energies[j+k]) / (k * C))\n",
        "        F[k] = -k * C * np.log(sum_exp)\n",
        "    \n",
        "    return F\n",
        "\n",
        "# '''    \n",
        "# This function calculates the free energy differences between different states \n",
        "# using the BAR (Bennett acceptance ratio) method. It takes in the coordinates \n",
        "# of the starting structure (coords), the force constant (k), the temperature (T), \n",
        "# the time step (dt), the number of simulation steps (nsteps), and an array of \n",
        "# values of the reaction coordinate (Q_vals). It first simulates each state to \n",
        "# obtain the energies of the two end states, and then calculates the free energy \n",
        "# differences between them using the BAR method. It returns an array F containing\n",
        "#  the free energy differences between each pair of adjacent states.\n",
        "\n",
        "# '''\n",
        "\n",
        "\n",
        "\n"
      ],
      "metadata": {
        "id": "0HypQNdvAKTh"
      },
      "execution_count": null,
      "outputs": []
    },
    {
      "cell_type": "code",
      "source": [
        "!pip install pytest"
      ],
      "metadata": {
        "colab": {
          "base_uri": "https://localhost:8080/"
        },
        "id": "Sw4rlHVBEQNU",
        "outputId": "df4442da-f2e4-4d78-9c69-0bd507b61e2a"
      },
      "execution_count": null,
      "outputs": [
        {
          "output_type": "stream",
          "name": "stdout",
          "text": [
            "Looking in indexes: https://pypi.org/simple, https://us-python.pkg.dev/colab-wheels/public/simple/\n",
            "Requirement already satisfied: pytest in /usr/local/lib/python3.8/dist-packages (3.6.4)\n",
            "Requirement already satisfied: attrs>=17.4.0 in /usr/local/lib/python3.8/dist-packages (from pytest) (22.2.0)\n",
            "Requirement already satisfied: six>=1.10.0 in /usr/local/lib/python3.8/dist-packages (from pytest) (1.15.0)\n",
            "Requirement already satisfied: pluggy<0.8,>=0.5 in /usr/local/lib/python3.8/dist-packages (from pytest) (0.7.1)\n",
            "Requirement already satisfied: py>=1.5.0 in /usr/local/lib/python3.8/dist-packages (from pytest) (1.11.0)\n",
            "Requirement already satisfied: setuptools in /usr/local/lib/python3.8/dist-packages (from pytest) (57.4.0)\n",
            "Requirement already satisfied: atomicwrites>=1.0 in /usr/local/lib/python3.8/dist-packages (from pytest) (1.4.1)\n",
            "Requirement already satisfied: more-itertools>=4.0.0 in /usr/local/lib/python3.8/dist-packages (from pytest) (9.1.0)\n"
          ]
        }
      ]
    },
    {
      "cell_type": "code",
      "source": [
        "!pip install openmm"
      ],
      "metadata": {
        "colab": {
          "base_uri": "https://localhost:8080/"
        },
        "id": "eCDNXPksEVC3",
        "outputId": "f9cc7745-428f-4d0c-eecc-4785beb9cd9a"
      },
      "execution_count": null,
      "outputs": [
        {
          "output_type": "stream",
          "name": "stdout",
          "text": [
            "Looking in indexes: https://pypi.org/simple, https://us-python.pkg.dev/colab-wheels/public/simple/\n",
            "Collecting openmm\n",
            "  Using cached openmm-0.2-py3-none-any.whl\n",
            "Installing collected packages: openmm\n",
            "Successfully installed openmm-0.2\n"
          ]
        }
      ]
    },
    {
      "cell_type": "code",
      "source": [
        "!pip install simtk"
      ],
      "metadata": {
        "colab": {
          "base_uri": "https://localhost:8080/"
        },
        "id": "b-SloAunEfII",
        "outputId": "b48c8360-4d98-4a08-82da-540aeb9d46cf"
      },
      "execution_count": null,
      "outputs": [
        {
          "output_type": "stream",
          "name": "stdout",
          "text": [
            "Looking in indexes: https://pypi.org/simple, https://us-python.pkg.dev/colab-wheels/public/simple/\n",
            "Collecting simtk\n",
            "  Using cached simtk-0.1.0-py2.py3-none-any.whl (1.1 kB)\n",
            "Installing collected packages: simtk\n",
            "Successfully installed simtk-0.1.0\n"
          ]
        }
      ]
    },
    {
      "cell_type": "code",
      "source": [
        "! pip install app"
      ],
      "metadata": {
        "colab": {
          "base_uri": "https://localhost:8080/"
        },
        "id": "QXgAkjmyEqoN",
        "outputId": "5ba58b6d-ff46-4f83-92a3-f86d27773552"
      },
      "execution_count": null,
      "outputs": [
        {
          "output_type": "stream",
          "name": "stdout",
          "text": [
            "Looking in indexes: https://pypi.org/simple, https://us-python.pkg.dev/colab-wheels/public/simple/\n",
            "Collecting app\n",
            "  Downloading app-0.0.1.zip (2.2 kB)\n",
            "  Preparing metadata (setup.py) ... \u001b[?25l\u001b[?25hdone\n",
            "Building wheels for collected packages: app\n",
            "  Building wheel for app (setup.py) ... \u001b[?25l\u001b[?25hdone\n",
            "  Created wheel for app: filename=app-0.0.1-py3-none-any.whl size=1519 sha256=32bae31336ac888e6d2dd9afd516ed9ab21fd2f5180a128b068f99fd25a81410\n",
            "  Stored in directory: /root/.cache/pip/wheels/48/84/72/c302cafb11cdce911bdb1660ad98ca24be21618cda90394799\n",
            "Successfully built app\n",
            "Installing collected packages: app\n",
            "Successfully installed app-0.0.1\n"
          ]
        }
      ]
    },
    {
      "cell_type": "code",
      "source": [
        "! pip install unit"
      ],
      "metadata": {
        "colab": {
          "base_uri": "https://localhost:8080/"
        },
        "id": "i9AsGBk4E3aS",
        "outputId": "2582ab56-b9e8-46c3-db0d-df3315a35083"
      },
      "execution_count": null,
      "outputs": [
        {
          "output_type": "stream",
          "name": "stdout",
          "text": [
            "Looking in indexes: https://pypi.org/simple, https://us-python.pkg.dev/colab-wheels/public/simple/\n",
            "Collecting unit\n",
            "  Downloading Unit-0.2.2-py3-none-any.whl (26 kB)\n",
            "Collecting httptools>=0.0.11\n",
            "  Downloading httptools-0.5.0-cp38-cp38-manylinux_2_5_x86_64.manylinux1_x86_64.manylinux_2_17_x86_64.manylinux2014_x86_64.whl (427 kB)\n",
            "\u001b[2K     \u001b[90m━━━━━━━━━━━━━━━━━━━━━━━━━━━━━━━━━━━━━━\u001b[0m \u001b[32m427.8/427.8 KB\u001b[0m \u001b[31m18.1 MB/s\u001b[0m eta \u001b[36m0:00:00\u001b[0m\n",
            "\u001b[?25hInstalling collected packages: httptools, unit\n",
            "Successfully installed httptools-0.5.0 unit-0.2.2\n"
          ]
        }
      ]
    },
    {
      "cell_type": "code",
      "source": [
        "! pip install simtk openmm"
      ],
      "metadata": {
        "colab": {
          "base_uri": "https://localhost:8080/"
        },
        "id": "tAiVgd5dFJa5",
        "outputId": "ca6a8b60-3c9d-4c62-875a-b6b3d265e289"
      },
      "execution_count": null,
      "outputs": [
        {
          "output_type": "stream",
          "name": "stdout",
          "text": [
            "Looking in indexes: https://pypi.org/simple, https://us-python.pkg.dev/colab-wheels/public/simple/\n",
            "Requirement already satisfied: simtk in /usr/local/lib/python3.8/dist-packages (0.1.0)\n",
            "Requirement already satisfied: openmm in /usr/local/lib/python3.8/dist-packages (0.2)\n"
          ]
        }
      ]
    },
    {
      "cell_type": "code",
      "source": [
        "!pip install scipy"
      ],
      "metadata": {
        "colab": {
          "base_uri": "https://localhost:8080/"
        },
        "id": "S7Pls5hSGwkp",
        "outputId": "569bcc39-a9b3-4308-af8b-3c2c62d79905"
      },
      "execution_count": null,
      "outputs": [
        {
          "output_type": "stream",
          "name": "stdout",
          "text": [
            "Looking in indexes: https://pypi.org/simple, https://us-python.pkg.dev/colab-wheels/public/simple/\n",
            "Requirement already satisfied: scipy in /usr/local/lib/python3.8/dist-packages (1.10.1)\n",
            "Requirement already satisfied: numpy<1.27.0,>=1.19.5 in /usr/local/lib/python3.8/dist-packages (from scipy) (1.22.4)\n"
          ]
        }
      ]
    },
    {
      "cell_type": "code",
      "source": [
        "from Bio.PDB import PDBParser, Select\n",
        "from Bio.PDB import PDBIO\n",
        "\n",
        "\n",
        "# Define a custom selection class to remove specific residue\n",
        "class RemoveResidue(Select):\n",
        "    def __init__(self, residue_id):\n",
        "        self.residue_id = residue_id\n",
        "\n",
        "    def accept_residue(self, residue):\n",
        "        if residue.get_full_id()[3][1] == self.residue_id:\n",
        "            return 0\n",
        "        else:\n",
        "            return 1\n",
        "\n",
        "# Load the PDB file using PDBParser\n",
        "parser = PDBParser()\n",
        "structure = parser.get_structure('my_structure', '/content/sample_data/my_structure_no_residues.pdb')\n",
        "\n",
        "# Remove residue with index 371\n",
        "structure = structure[0]  # Assuming only one model in the PDB file\n",
        "residue_id = 371\n",
        "structure_id = structure.get_full_id()[0]\n",
        "chain_id = list(structure.get_chains())[0].get_id()\n",
        "\n",
        "select = RemoveResidue(residue_id)\n",
        "io = PDBIO()\n",
        "io.set_structure(structure)\n",
        "io.save('my_structure_no_residue_{}.pdb'.format(residue_id), select)\n",
        "\n",
        "# # Load the new PDB file without the removed residue\n",
        "# new_pdb = app.PDBFile('my_structure_no_residue_{}.pdb'.format(residue_id))\n"
      ],
      "metadata": {
        "id": "Yqmd1d-QC9XW"
      },
      "execution_count": null,
      "outputs": []
    },
    {
      "cell_type": "code",
      "source": [
        "#to change the size of the image\n",
        "from PIL import Image\n",
        "import os\n",
        "from google.colab import drive\n",
        "drive.mount('/content/drive')\n",
        "\n",
        "\n",
        "input_dir = r\"/content/drive/MyDrive/Colab Notebooks/MarkovStateModel/G-actin_2zwhh\"\n",
        "output_dir = r\"/content/drive/MyDrive/Colab Notebooks/MarkovStateModel/new\"\n",
        "#image = Image.open(input_dir)\n",
        "size = (300, 300) # specify the new image size here\n",
        "\n",
        "# loop through all images in the input folder\n",
        "for filename in os.listdir(input_dir):\n",
        "    # check if file is an image (you can add other checks if needed)\n",
        "    if filename.endswith(\".bmp\"):\n",
        "        # open the image file and resize it\n",
        "        with Image.open(os.path.join(input_dir, filename)) as img:\n",
        "            img_resized = img.resize(size)\n",
        "            # save the resized image to the output folder\n",
        "            img_resized.save(os.path.join(output_dir, filename))\n"
      ],
      "metadata": {
        "id": "qO6xJOU81QjD",
        "colab": {
          "base_uri": "https://localhost:8080/"
        },
        "outputId": "512269e1-6247-47a6-ca45-63be48604a03"
      },
      "execution_count": null,
      "outputs": [
        {
          "output_type": "stream",
          "name": "stdout",
          "text": [
            "Drive already mounted at /content/drive; to attempt to forcibly remount, call drive.mount(\"/content/drive\", force_remount=True).\n"
          ]
        }
      ]
    }
  ],
  "metadata": {
    "colab": {
      "provenance": [],
      "authorship_tag": "ABX9TyODO2hyEOe7tdPxTwW7l9VP",
      "include_colab_link": true
    },
    "kernelspec": {
      "display_name": "Python 3",
      "name": "python3"
    },
    "language_info": {
      "name": "python"
    }
  },
  "nbformat": 4,
  "nbformat_minor": 0
}