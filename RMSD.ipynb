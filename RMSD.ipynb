{
  "nbformat": 4,
  "nbformat_minor": 0,
  "metadata": {
    "colab": {
      "provenance": [],
      "authorship_tag": "ABX9TyMKhkTnZqG74evyUrNaAMgQ",
      "include_colab_link": true
    },
    "kernelspec": {
      "name": "python3",
      "display_name": "Python 3"
    },
    "language_info": {
      "name": "python"
    }
  },
  "cells": [
    {
      "cell_type": "markdown",
      "metadata": {
        "id": "view-in-github",
        "colab_type": "text"
      },
      "source": [
        "<a href=\"https://colab.research.google.com/github/matusoff/Molecular_dynamics/blob/main/RMSD.ipynb\" target=\"_parent\"><img src=\"https://colab.research.google.com/assets/colab-badge.svg\" alt=\"Open In Colab\"/></a>"
      ]
    },
    {
      "cell_type": "code",
      "execution_count": null,
      "metadata": {
        "colab": {
          "base_uri": "https://localhost:8080/"
        },
        "id": "I6nPUm95Eton",
        "outputId": "1fd1350a-c91f-405a-fea8-520833520642"
      },
      "outputs": [
        {
          "output_type": "stream",
          "name": "stdout",
          "text": [
            "Looking in indexes: https://pypi.org/simple, https://us-python.pkg.dev/colab-wheels/public/simple/\n",
            "Collecting mdtraj\n",
            "  Downloading mdtraj-1.9.7.tar.gz (2.1 MB)\n",
            "\u001b[2K     \u001b[90m━━━━━━━━━━━━━━━━━━━━━━━━━━━━━━━━━━━━━━━━\u001b[0m \u001b[32m2.1/2.1 MB\u001b[0m \u001b[31m21.7 MB/s\u001b[0m eta \u001b[36m0:00:00\u001b[0m\n",
            "\u001b[?25h  Installing build dependencies ... \u001b[?25l\u001b[?25hdone\n",
            "  Getting requirements to build wheel ... \u001b[?25l\u001b[?25hdone\n",
            "  Preparing metadata (pyproject.toml) ... \u001b[?25l\u001b[?25hdone\n",
            "Requirement already satisfied: pyparsing in /usr/local/lib/python3.8/dist-packages (from mdtraj) (3.0.9)\n",
            "Requirement already satisfied: astunparse in /usr/local/lib/python3.8/dist-packages (from mdtraj) (1.6.3)\n",
            "Requirement already satisfied: scipy in /usr/local/lib/python3.8/dist-packages (from mdtraj) (1.7.3)\n",
            "Requirement already satisfied: numpy>=1.6 in /usr/local/lib/python3.8/dist-packages (from mdtraj) (1.21.6)\n",
            "Requirement already satisfied: wheel<1.0,>=0.23.0 in /usr/local/lib/python3.8/dist-packages (from astunparse->mdtraj) (0.38.4)\n",
            "Requirement already satisfied: six<2.0,>=1.6.1 in /usr/local/lib/python3.8/dist-packages (from astunparse->mdtraj) (1.15.0)\n",
            "Building wheels for collected packages: mdtraj\n",
            "  Building wheel for mdtraj (pyproject.toml) ... \u001b[?25l\u001b[?25hdone\n",
            "  Created wheel for mdtraj: filename=mdtraj-1.9.7-cp38-cp38-linux_x86_64.whl size=8467658 sha256=b46377189a1ce7962e5e24c52eb7751f6f402bd6268d98916951cb7f66cf6fd8\n",
            "  Stored in directory: /root/.cache/pip/wheels/68/ff/96/5d9a2efac5e5918e5c8fd799e8703e2f8b804a029bcbbd2431\n",
            "Successfully built mdtraj\n",
            "Installing collected packages: mdtraj\n",
            "Successfully installed mdtraj-1.9.7\n"
          ]
        }
      ],
      "source": [
        "!pip install mdtraj"
      ]
    },
    {
      "cell_type": "markdown",
      "source": [],
      "metadata": {
        "id": "W4zjH2LuEtyq"
      }
    },
    {
      "cell_type": "code",
      "source": [
        "import mdtraj as md\n",
        "\n",
        "traj1 = md.load(\"/content/sample_data/2zwh.pdb\")\n",
        "traj2 = md.load(\"/content/sample_data/2zwh_all_3-NT-bySIN18112021.pdb\")\n",
        "\n",
        "atom_indices = traj1.topology.select(\"name == 'CA'\")\n",
        "\n",
        "traj2 = traj2.superpose(traj1, atom_indices=atom_indices)\n",
        "\n",
        "rmsd = md.rmsd(traj2, traj1, atom_indices=atom_indices)\n",
        "print(\"RMSD:\", rmsd)"
      ],
      "metadata": {
        "colab": {
          "base_uri": "https://localhost:8080/"
        },
        "id": "Ei07yUcxE_tf",
        "outputId": "a418bfc9-5492-4ce8-d682-4a33093cea02"
      },
      "execution_count": null,
      "outputs": [
        {
          "output_type": "stream",
          "name": "stdout",
          "text": [
            "RMSD: [0.70066565]\n"
          ]
        }
      ]
    },
    {
      "cell_type": "code",
      "source": [
        "import mdtraj as md\n",
        "import numpy as np\n",
        "import matplotlib.pyplot as plt\n",
        "\n",
        "traj1 = md.load(\"/content/sample_data/2zwh.pdb\")\n",
        "traj2 = md.load(\"/content/sample_data/2zwh_all_3-NT-bySIN18112021.pdb\")\n",
        "\n",
        "atom_indices = traj1.topology.select(\"name == 'CA'\")\n",
        "\n",
        "traj2 = traj2.superpose(traj1, atom_indices=atom_indices)\n",
        "\n",
        "\n",
        "rmsd = np.zeros(traj1.n_frames)\n",
        "\n",
        "print(f\"Number of frames in traj1: {traj1.n_frames}\")\n",
        "print(f\"Number of frames in traj2: {traj2.n_frames}\")\n",
        "print(f\"Shape of superposed trajectory: {traj2.xyz.shape}\")\n",
        "print(f\"Indices of selected atoms: {atom_indices}\")\n",
        "\n",
        "for i in range(traj1.n_frames):\n",
        "    rmsd[i] = md.rmsd(traj2[i], traj1[i], atom_indices=atom_indices)\n",
        "\n",
        "    print(rmsd[i])\n",
        "\n",
        "\n",
        "# plt.plot(rmsd)\n",
        "# plt.xlabel(\"Frame\")\n",
        "# plt.ylabel(\"RMSD (nm)\")\n",
        "# plt.title(\"RMSD between two structures\")\n",
        "# plt.show()\n"
      ],
      "metadata": {
        "colab": {
          "base_uri": "https://localhost:8080/",
          "height": 833
        },
        "id": "0-drBCs_K0Ml",
        "outputId": "4c0ac18e-d3ca-4ec5-a732-59be0fd27b74"
      },
      "execution_count": null,
      "outputs": [
        {
          "output_type": "stream",
          "name": "stdout",
          "text": [
            "Number of frames in traj1: 1\n",
            "Number of frames in traj2: 1\n",
            "Shape of superposed trajectory: (1, 2994, 3)\n",
            "Indices of selected atoms: [   1    9   18   26   35   42   49   54   62   69   75   83   91   95\n",
            "  101  105  113  120  129  134  138  149  154  158  166  174  179  186\n",
            "  197  202  209  220  227  233  241  248  252  263  270  281  291  300\n",
            "  304  311  319  326  330  338  342  351  360  368  374  386  393  397\n",
            "  405  414  419  428  434  443  454  458  466  474  481  489  498  510\n",
            "  517  525  534  545  549  557  565  572  580  594  602  610  618  627\n",
            "  636  644  658  668  678  685  696  708  716  725  733  744  751  756\n",
            "  763  772  781  791  798  805  813  821  828  837  842  849  857  865\n",
            "  872  881  886  894  905  914  923  931  938  947  955  963  974  983\n",
            "  990 1001 1009 1016 1023 1028 1036 1048 1055 1060 1068 1077 1082 1089\n",
            " 1097 1103 1111 1123 1128 1134 1138 1149 1156 1163 1167 1175 1182 1190\n",
            " 1198 1204 1208 1216 1220 1227 1234 1244 1252 1259 1266 1274 1286 1295\n",
            " 1299 1311 1316 1324 1331 1341 1346 1354 1362 1373 1381 1389 1397 1402\n",
            " 1406 1417 1425 1433 1440 1448 1460 1468 1476 1485 1493 1501 1508 1517\n",
            " 1528 1532 1544 1550 1561 1568 1575 1582 1587 1596 1607 1616 1624 1631\n",
            " 1642 1650 1658 1667 1676 1685 1693 1699 1711 1718 1723 1731 1739 1750\n",
            " 1759 1767 1776 1784 1789 1796 1801 1806 1812 1818 1824 1830 1838 1847\n",
            " 1856 1862 1874 1883 1891 1898 1906 1910 1919 1926 1934 1941 1949 1953\n",
            " 1961 1970 1981 1992 2003 2009 2016 2025 2032 2040 2051 2060 2067 2073\n",
            " 2084 2092 2096 2104 2113 2119 2124 2128 2136 2146 2155 2162 2169 2181\n",
            " 2189 2195 2203 2211 2220 2226 2234 2242 2250 2258 2269 2278 2286 2294\n",
            " 2306 2311 2319 2327 2334 2342 2348 2352 2356 2363 2370 2378 2390 2397\n",
            " 2401 2409 2414 2422 2433 2441 2450 2459 2468 2476 2483 2488 2496 2501\n",
            " 2508 2514 2521 2529 2538 2546 2555 2563 2571 2576 2583 2590 2599 2610\n",
            " 2619 2631 2637 2644 2658 2666 2670 2674 2680 2688 2696 2701 2707 2715\n",
            " 2721 2728 2739 2748 2757 2765 2779 2787 2794 2803 2812 2821 2833 2841\n",
            " 2850 2855 2859 2866 2872 2880 2887 2897 2908 2917 2923 2960]\n",
            "0.7006656527519226\n"
          ]
        },
        {
          "output_type": "display_data",
          "data": {
            "text/plain": [
              "<Figure size 432x288 with 1 Axes>"
            ],
            "image/png": "[encoded data removed]"
          },
          "metadata": {
            "needs_background": "light"
          }
        }
      ]
    },
    {
      "cell_type": "code",
      "source": [
        "import mdtraj as md\n",
        "import numpy as np\n",
        "\n",
        "# Load the pdb structure\n",
        "traj = md.load(\"/content/sample_data/2zwh.pdb\")\n",
        "\n",
        "# Define the number of frames to generate\n",
        "n_frames = 3\n",
        "\n",
        "\n",
        "# Calculate the starting RMSD values for each frame\n",
        "rmsd_start = np.zeros(20)\n",
        "\n",
        "for i in range(3):\n",
        "    traj_temp = traj.superpose(traj, frame=i)\n",
        "    rmsd_start[i] = md.rmsd(traj, traj_temp)\n",
        "\n",
        "# Define the temperature for the Monte Carlo simulation\n",
        "temperature = 300\n",
        "\n",
        "# Perform the Monte Carlo simulation\n",
        "for i in range(n_frames):\n",
        "    # Randomly perturb the coordinates of the current frame\n",
        "    traj[i].xyz += np.random.normal(scale=np.sqrt(temperature), size=traj[i].xyz.shape)\n",
        "\n",
        "    # Calculate the RMSD of the perturbed frame\n",
        "    traj_temp = traj.superpose(traj, frame=i)\n",
        "    rmsd = md.rmsd(traj, traj_temp)\n",
        "\n",
        "    # Decide whether to accept or reject the perturbed frame based on the Boltzmann distribution\n",
        "    delta_E = rmsd**2 - rmsd_start[i]**2\n",
        "    if np.random.rand() > np.exp(-delta_E / temperature):\n",
        "        traj[i].xyz -= np.random.normal(scale=np.sqrt(temperature), size=traj[i].xyz.shape)\n",
        "\n",
        "# Save the generated frames as a new pdb structure\n",
        "md.save_pdb(\"/content/sample_data/2zwh_generated_frames.pdb\", traj)\n"
      ],
      "metadata": {
        "id": "yfZrCZMbP2K4"
      },
      "execution_count": null,
      "outputs": []
    },
    {
      "cell_type": "code",
      "source": [
        "!pip install openmm"
      ],
      "metadata": {
        "colab": {
          "base_uri": "https://localhost:8080/"
        },
        "id": "8CaIi6vlTKAY",
        "outputId": "705ba4b9-f6f2-40e9-a70b-5c5d52e60204"
      },
      "execution_count": null,
      "outputs": [
        {
          "output_type": "stream",
          "name": "stdout",
          "text": [
            "Looking in indexes: https://pypi.org/simple, https://us-python.pkg.dev/colab-wheels/public/simple/\n",
            "Collecting openmm\n",
            "  Downloading openmm-0.2.tar.gz (3.5 MB)\n",
            "\u001b[2K     \u001b[90m━━━━━━━━━━━━━━━━━━━━━━━━━━━━━━━━━━━━━━━━\u001b[0m \u001b[32m3.5/3.5 MB\u001b[0m \u001b[31m17.2 MB/s\u001b[0m eta \u001b[36m0:00:00\u001b[0m\n",
            "\u001b[?25h  Preparing metadata (setup.py) ... \u001b[?25l\u001b[?25hdone\n",
            "Building wheels for collected packages: openmm\n",
            "  Building wheel for openmm (setup.py) ... \u001b[?25l\u001b[?25hdone\n",
            "  Created wheel for openmm: filename=openmm-0.2-py3-none-any.whl size=61167 sha256=dc905db38f820a06a4c65517ea4203ebbbef50689c8f1dd0ac308a56edc52789\n",
            "  Stored in directory: /root/.cache/pip/wheels/4a/0e/d0/df01fddace1f93053fd8d3743be08e391aaa6c34dee8d03f63\n",
            "Successfully built openmm\n",
            "Installing collected packages: openmm\n",
            "Successfully installed openmm-0.2\n"
          ]
        }
      ]
    },
    {
      "cell_type": "code",
      "source": [
        "!pip install simtk"
      ],
      "metadata": {
        "colab": {
          "base_uri": "https://localhost:8080/"
        },
        "id": "_pJFjKKjTSwl",
        "outputId": "f37538da-ab48-4348-b68a-1c84bd897391"
      },
      "execution_count": null,
      "outputs": [
        {
          "output_type": "stream",
          "name": "stdout",
          "text": [
            "Looking in indexes: https://pypi.org/simple, https://us-python.pkg.dev/colab-wheels/public/simple/\n",
            "Collecting simtk\n",
            "  Downloading simtk-0.1.0-py2.py3-none-any.whl (1.1 kB)\n",
            "Installing collected packages: simtk\n",
            "Successfully installed simtk-0.1.0\n"
          ]
        }
      ]
    },
    {
      "cell_type": "code",
      "source": [
        "from simtk import openmm, unit\n",
        "\n",
        "# Create a Lennard-Jones fluid\n",
        "pressure = 80*unit.atmospheres\n",
        "temperature = 120*unit.kelvin\n",
        "collision_rate = 5/unit.picoseconds\n",
        "timestep = 2.5*unit.femtoseconds\n",
        "from openmmtools.testsystems import LennardJonesFluid\n",
        "sigma = 3.4*unit.angstrom; epsilon = 0.238 * unit.kilocalories_per_mole\n",
        "fluid = LennardJonesFluid(sigma=sigma, epsilon=epsilon)\n",
        "[system, positions] = [fluid.system, fluid.positions]\n",
        "\n",
        "# Add a barostat\n",
        "barostat = openmm.MonteCarloBarostat(pressure, temperature)\n",
        "system.addForce(barostat)\n",
        "\n",
        "# Retrieve the NonbondedForce\n",
        "forces = { force.__class__.__name__ : force for force in system.getForces() }\n",
        "nbforce = forces['NonbondedForce']\n",
        "\n",
        "# Add a CustomNonbondedForce to handle only alchemically-modified interactions\n",
        "alchemical_particles = set([0])\n",
        "chemical_particles = set(range(system.getNumParticles())) - alchemical_particles\n",
        "energy_function = 'lambda*4*epsilon*x*(x-1.0); x = (sigma/reff_sterics)^6;'\n",
        "energy_function += 'reff_sterics = sigma*(0.5*(1.0-lambda) + (r/sigma)^6)^(1/6);'\n",
        "energy_function += 'sigma = 0.5*(sigma1+sigma2); epsilon = sqrt(epsilon1*epsilon2);'\n",
        "custom_force = openmm.CustomNonbondedForce(energy_function)\n",
        "custom_force.addGlobalParameter('lambda', 1.0)\n",
        "custom_force.addPerParticleParameter('sigma')\n",
        "custom_force.addPerParticleParameter('epsilon')\n",
        "for index in range(system.getNumParticles()):\n",
        "    [charge, sigma, epsilon] = nbforce.getParticleParameters(index)\n",
        "    custom_force.addParticle([sigma, epsilon])\n",
        "    if index in alchemical_particles:\n",
        "        nbforce.setParticleParameters(index, charge*0, sigma, epsilon*0)\n",
        "custom_force.addInteractionGroup(alchemical_particles, chemical_particles)\n",
        "system.addForce(custom_force)\n",
        "\n",
        "# Create a context\n",
        "integrator = openmm.LangevinIntegrator(temperature, collision_rate, timestep)\n",
        "context = openmm.Context(system, integrator)\n",
        "context.setPositions(positions)\n",
        "\n",
        "# Minimize energy\n",
        "print('Minimizing energy...')\n",
        "openmm.LocalEnergyMinimizer.minimize(context)\n",
        "\n",
        "# Collect data\n",
        "nsteps = 2500 # number of steps per sample\n",
        "niterations = 50 # number of samples to collect per alchemical state\n",
        "import numpy as np\n",
        "lambdas = np.linspace(1.0, 0.0, 10) # alchemical lambda schedule\n",
        "nstates = len(lambdas)\n",
        "u_kln = np.zeros([nstates,nstates,niterations], np.float64)\n",
        "kT = unit.AVOGADRO_CONSTANT_NA * unit.BOLTZMANN_CONSTANT_kB * integrator.getTemperature()\n",
        "for k in range(nstates):\n",
        "    for iteration in range(niterations):\n",
        "        print('state %5d iteration %5d / %5d' % (k, iteration, niterations))\n",
        "        # Set alchemical state\n",
        "        context.setParameter('lambda', lambdas[k])\n",
        "        # Run some dynamics\n",
        "        integrator.step(nsteps)\n",
        "        # Compute energies at all alchemical states\n",
        "        for l in range(nstates):\n",
        "            context.setParameter('lambda', lambdas[l])\n",
        "            u_kln[k,l,iteration] = context.getState(getEnergy=True).getPotentialEnergy() / kT\n",
        "\n",
        "# Estimate free energy of Lennard-Jones particle insertion\n",
        "from pymbar import MBAR, timeseries\n",
        "# Subsample data to extract uncorrelated equilibrium timeseries\n",
        "N_k = np.zeros([nstates], np.int32) # number of uncorrelated samples\n",
        "for k in range(nstates):\n",
        "    [nequil, g, Neff_max] = timeseries.detectEquilibration(u_kln[k,k,:])\n",
        "    indices = timeseries.subsampleCorrelatedData(u_kln[k,k,:], g=g)\n",
        "    N_k[k] = len(indices)\n",
        "    u_kln[k,:,0:N_k[k]] = u_kln[k,:,indices].T\n",
        "# Compute free energy differences and statistical uncertainties\n",
        "mbar = MBAR(u_kln, N_k)\n",
        "[DeltaF_ij, dDeltaF_ij, Theta_ij] = mbar.getFreeEnergyDifferences()\n",
        "\n",
        "print('DeltaF_ij (kT):')\n",
        "print(DeltaF_ij)\n",
        "print('dDeltaF_ij (kT):')\n",
        "print(dDeltaF_ij)\n"
      ],
      "metadata": {
        "id": "xOkTobL2UO2y"
      },
      "execution_count": null,
      "outputs": []
    },
    {
      "cell_type": "code",
      "source": [
        "!pip install Biopython"
      ],
      "metadata": {
        "colab": {
          "base_uri": "https://localhost:8080/"
        },
        "id": "MyON8lrnANwa",
        "outputId": "99c48785-c24d-4299-b977-750cd731da25"
      },
      "execution_count": null,
      "outputs": [
        {
          "output_type": "stream",
          "name": "stdout",
          "text": [
            "Looking in indexes: https://pypi.org/simple, https://us-python.pkg.dev/colab-wheels/public/simple/\n",
            "Collecting Biopython\n",
            "  Downloading biopython-1.80-cp38-cp38-manylinux_2_17_x86_64.manylinux2014_x86_64.whl (3.1 MB)\n",
            "\u001b[2K     \u001b[90m━━━━━━━━━━━━━━━━━━━━━━━━━━━━━━━━━━━━━━━━\u001b[0m \u001b[32m3.1/3.1 MB\u001b[0m \u001b[31m29.1 MB/s\u001b[0m eta \u001b[36m0:00:00\u001b[0m\n",
            "\u001b[?25hRequirement already satisfied: numpy in /usr/local/lib/python3.8/dist-packages (from Biopython) (1.21.6)\n",
            "Installing collected packages: Biopython\n",
            "Successfully installed Biopython-1.80\n"
          ]
        }
      ]
    },
    {
      "cell_type": "code",
      "source": [
        "from Bio.PDB import *\n",
        "import Bio.PDB\n",
        "\n",
        "pdb_parser = PDBParser()\n",
        "structure = pdb_parser.get_structure('/content/sample_data/2zwh.pdb', '/content/sample_data/2zwh.pdb')\n",
        "model = structure[0]\n",
        "\n",
        "for chain in model:\n",
        "    for residue in chain:\n",
        "        if residue.get_resname() == 'CYS':\n",
        "            residue.resname = 'CYX'\n",
        "\n",
        "io = PDBIO()\n",
        "io.set_structure(structure)\n",
        "io.save('2zwh_CYS_oxidized.pdb')\n"
      ],
      "metadata": {
        "id": "1OAv4YNIAApi"
      },
      "execution_count": null,
      "outputs": []
    },
    {
      "cell_type": "code",
      "source": [
        "# Import the Biopython library\n",
        "from Bio import *\n",
        "from Bio.SeqUtils import protparam\n",
        "\n",
        "# Define the sequence of the original tyrosine residue (TYR)\n",
        "tyr_seq = \"TYR\"\n",
        "\n",
        "# Calculate the original hydrophobicity of TYR using the Kyte-Doolittle scale\n",
        "tyr_original = protparam.kd_scale(tyr_seq)\n",
        "\n",
        "# Define the sequence of the nitro-tyrosine residue (nitro-TYR)\n",
        "nitro_tyr_seq = \"nitro-TYR\"\n",
        "\n",
        "# Calculate the hydrophobicity of nitro-TYR using the Kyte-Doolittle scale\n",
        "nitro_tyr = protparam.kd_scale(nitro_tyr_seq)\n",
        "\n",
        "# Calculate the difference between the original hydrophobicity of TYR and the hydrophobicity of nitro-TYR\n",
        "difference = nitro_tyr - tyr_original\n",
        "\n",
        "# Print the result\n",
        "print(\"The difference in hydrophobicity between TYR and nitro-TYR is\", difference)\n"
      ],
      "metadata": {
        "id": "5B0tumychoP5"
      },
      "execution_count": null,
      "outputs": []
    },
    {
      "cell_type": "code",
      "source": [
        "'''\n",
        "This code uses the assigned hydropathy values of tyrosine and nitro group, \n",
        "and calculates the average hydropathy for each. The difference in hydropathy \n",
        "between the two values represents the estimated effect of the nitro group binding \n",
        "on the tyrosine hydropathy.\n",
        "'''\n",
        "\n",
        "# Define the hydropathy values for tyrosine and nitro group\n",
        "tyr_h = -1.3\n",
        "no2_h = -0.9\n",
        "\n",
        "# Calculate the average hydropathy of tyrosine\n",
        "avg_hydropathy_tyr = (tyr_h + tyr_h) / 2\n",
        "\n",
        "# Calculate the average hydropathy of tyrosine with nitro group binding\n",
        "avg_hydropathy_tyr_no2 = (tyr_h + no2_h) / 2\n",
        "\n",
        "# Print the results\n",
        "print(\"Average hydropathy of tyrosine:\", avg_hydropathy_tyr)\n",
        "print(\"Average hydropathy of tyrosine with nitro group binding:\", avg_hydropathy_tyr_no2)\n",
        "\n",
        "# Calculate the difference in hydropathy\n",
        "diff = avg_hydropathy_tyr_no2 - avg_hydropathy_tyr\n",
        "print(\"Difference in hydropathy:\", diff)\n",
        "\n",
        "\n"
      ],
      "metadata": {
        "colab": {
          "base_uri": "https://localhost:8080/"
        },
        "id": "16tZ74uxj2US",
        "outputId": "e4b9a1ef-97b7-4933-88db-bf41d48c5018"
      },
      "execution_count": null,
      "outputs": [
        {
          "output_type": "stream",
          "name": "stdout",
          "text": [
            "Average hydropathy of tyrosine: -1.3\n",
            "Average hydropathy of tyrosine with nitro group binding: -1.1\n",
            "Difference in hydropathy: 0.19999999999999996\n"
          ]
        }
      ]
    },
    {
      "cell_type": "code",
      "source": [
        "#calculate hydrophobic and hidrophylic area in structure\n",
        "from Bio.PDB import *\n",
        "import Bio.PDB\n",
        "from Bio.PDB import PDBParser\n",
        "\n",
        "# Load the PDB file\n",
        "parser = PDBParser()\n",
        "structure = parser.get_structure(\"structure\", \"/content/sample_data/2zwh.pdb\")\n",
        "\n",
        "# Define the Kyte-Doolittle hydrophobicity scale\n",
        "KYTE_DOOLITTLE_SCALE = {\n",
        "    \"ALA\": 1.8,\n",
        "    \"ARG\": -4.5,\n",
        "    \"ASN\": -3.5,\n",
        "    \"ASP\": -3.5,\n",
        "    \"CYS\": 2.5,\n",
        "    \"GLN\": -3.5,\n",
        "    \"GLU\": -3.5,\n",
        "    \"GLY\": -0.4,\n",
        "    \"HIS\": -3.2,\n",
        "    \"ILE\": 4.5,\n",
        "    \"LEU\": 3.8,\n",
        "    \"LYS\": -3.9,\n",
        "    \"MET\": 1.9,\n",
        "    \"PHE\": 2.8,\n",
        "    \"PRO\": -1.6,\n",
        "    \"SER\": -0.8,\n",
        "    \"THR\": -0.7,\n",
        "    \"TRP\": -0.9,\n",
        "    \"TYR\": -1.3,\n",
        "    \"VAL\": 4.2\n",
        "}\n",
        "\n",
        "# Calculate the hydrophobicity and hydrophilicity of each residue\n",
        "hydrophobicity = []\n",
        "hydrophilicity = []\n",
        "for residue in structure.get_residues():\n",
        "    residue_name = residue.get_resname()\n",
        "    kd_score = KYTE_DOOLITTLE_SCALE.get(residue_name, 0)\n",
        "    if kd_score > 0:\n",
        "        hydrophobicity.append(residue)\n",
        "    else:\n",
        "        hydrophilicity.append(residue)\n",
        "\n",
        "# Print the results\n",
        "print(\"Number of hydrophobic residues:\", len(hydrophobicity))\n",
        "print(\"Number of hydrophilic residues:\", len(hydrophilicity))\n"
      ],
      "metadata": {
        "id": "9AhQYMky3y01",
        "colab": {
          "base_uri": "https://localhost:8080/"
        },
        "outputId": "f55017c6-1195-4426-e0d1-b3230cfc95cb"
      },
      "execution_count": null,
      "outputs": [
        {
          "output_type": "stream",
          "name": "stdout",
          "text": [
            "Number of hydrophobic residues: 139\n",
            "Number of hydrophilic residues: 238\n"
          ]
        }
      ]
    },
    {
      "cell_type": "code",
      "source": [
        "#calculate hydrophobic and hidrophylic area in structure\n",
        "from Bio.PDB import *\n",
        "import Bio.PDB\n",
        "from Bio.PDB import PDBParser\n",
        "\n",
        "# Load the PDB file\n",
        "parser = PDBParser()\n",
        "structure = parser.get_structure(\"structure\", \"/content/sample_data/2zwh_all_3-NT-bySIN18112021.pdb\")\n",
        "\n",
        "# Define the Kyte-Doolittle hydrophobicity scale\n",
        "KYTE_DOOLITTLE_SCALE = {\n",
        "    \"ALA\": 1.8,\n",
        "    \"ARG\": -4.5,\n",
        "    \"ASN\": -3.5,\n",
        "    \"ASP\": -3.5,\n",
        "    \"CYS\": 2.5,\n",
        "    \"GLN\": -3.5,\n",
        "    \"GLU\": -3.5,\n",
        "    \"GLY\": -0.4,\n",
        "    \"HIS\": -3.2,\n",
        "    \"ILE\": 4.5,\n",
        "    \"LEU\": 3.8,\n",
        "    \"LYS\": -3.9,\n",
        "    \"MET\": 1.9,\n",
        "    \"PHE\": 2.8,\n",
        "    \"PRO\": -1.6,\n",
        "    \"SER\": -0.8,\n",
        "    \"THR\": -0.7,\n",
        "    \"TRP\": -0.9,\n",
        "    \"TYR\": -1.3,\n",
        "    \"VAL\": 4.2\n",
        "}\n",
        "\n",
        "# Calculate the hydrophobicity and hydrophilicity of each residue\n",
        "hydrophobicity = []\n",
        "hydrophilicity = []\n",
        "for residue in structure.get_residues():\n",
        "    residue_name = residue.get_resname()\n",
        "    kd_score = KYTE_DOOLITTLE_SCALE.get(residue_name, 0)\n",
        "    if kd_score > 0:\n",
        "        hydrophobicity.append(residue)\n",
        "    else:\n",
        "        hydrophilicity.append(residue)\n",
        "\n",
        "# Print the results\n",
        "print(\"Number of hydrophobic residues:\", len(hydrophobicity))\n",
        "print(\"Number of hydrophilic residues:\", len(hydrophilicity))"
      ],
      "metadata": {
        "colab": {
          "base_uri": "https://localhost:8080/"
        },
        "id": "MXk8x7it40MF",
        "outputId": "aa6127cb-ea4e-45e8-adf0-ac1d167efd1f"
      },
      "execution_count": null,
      "outputs": [
        {
          "output_type": "stream",
          "name": "stdout",
          "text": [
            "Number of hydrophobic residues: 139\n",
            "Number of hydrophilic residues: 238\n"
          ]
        }
      ]
    },
    {
      "cell_type": "code",
      "source": [
        "from Bio.PDB import *\n",
        "import Bio.PDB\n",
        "from Bio.PDB import PDBParser\n",
        "\n",
        "# parse the PDB file\n",
        "parser = PDBParser(PERMISSIVE=1)\n",
        "structure = parser.get_structure(\"structure\", \"/content/sample_data/2zwh_all_3-NT-bySIN18112021.pdb\")\n",
        "\n",
        "# get the sequence of residues\n",
        "residues = [res.get_resname() for res in structure.get_residues()]\n",
        "\n",
        "# create a dictionary for the hydropathy index\n",
        "hydropathy_index = {'CYS': 2.5, 'ASP':-3.5, 'SER':-0.8, 'GLN':-3.5, 'LYS':-3.9,\n",
        "                   'ILE': 4.5, 'PRO':-1.6, 'THR':-0.7, 'PHE': 2.8, 'ASN':-3.5,\n",
        "                   'GLY':-0.4, 'HIS':-3.2, 'LEU': 3.8, 'ARG':-4.5, 'TRP':-0.9,\n",
        "                   'ALA': 1.8, 'VAL': 4.2, 'GLU':-3.5, 'TYR':-1.3, 'MET': 1.9}\n",
        "\n",
        "# calculate the hydrophobicity of the molecule\n",
        "hydrophobicity = 0\n",
        "for res in residues:\n",
        "    if res in hydropathy_index:\n",
        "        hydrophobicity += hydropathy_index[res]\n",
        "    elif res == 'NIY':\n",
        "        hydrophobicity += -1.1\n",
        "\n",
        "# print the result\n",
        "print(\"The hydrophobicity of the molecule is:\", hydrophobicity)\n"
      ],
      "metadata": {
        "colab": {
          "base_uri": "https://localhost:8080/"
        },
        "id": "T2yfepJopXw2",
        "outputId": "238dc105-7ab6-4250-b069-181aedb79d65"
      },
      "execution_count": null,
      "outputs": [
        {
          "output_type": "stream",
          "name": "stdout",
          "text": [
            "The hydrophobicity of the molecule is: -86.60000000000012\n"
          ]
        }
      ]
    },
    {
      "cell_type": "code",
      "source": [
        "from Bio.PDB import *\n",
        "import Bio.PDB\n",
        "from Bio.PDB import PDBParser\n",
        "\n",
        "# parse the PDB file\n",
        "parser = PDBParser(PERMISSIVE=1)\n",
        "structure = parser.get_structure(\"structure\", \"/content/sample_data/2zwh.pdb\")\n",
        "\n",
        "# get the sequence of residues\n",
        "residues = [res.get_resname() for res in structure.get_residues()]\n",
        "\n",
        "# create a dictionary for the hydropathy index\n",
        "hydropathy_index = {'CYS': 2.5, 'ASP':-3.5, 'SER':-0.8, 'GLN':-3.5, 'LYS':-3.9,\n",
        "                   'ILE': 4.5, 'PRO':-1.6, 'THR':-0.7, 'PHE': 2.8, 'ASN':-3.5,\n",
        "                   'GLY':-0.4, 'HIS':-3.2, 'LEU': 3.8, 'ARG':-4.5, 'TRP':-0.9,\n",
        "                   'ALA': 1.8, 'VAL': 4.2, 'GLU':-3.5, 'TYR':-1.3, 'MET': 1.9}\n",
        "\n",
        "# calculate the hydrophobicity of the molecule\n",
        "hydrophobicity = 0\n",
        "for res in residues:\n",
        "    if res in hydropathy_index:\n",
        "        hydrophobicity += hydropathy_index[res]\n",
        "    elif res == 'NIY':\n",
        "        hydrophobicity += -1.1\n",
        "\n",
        "# print the result\n",
        "print(\"The hydrophobicity of the molecule is:\", hydrophobicity)"
      ],
      "metadata": {
        "colab": {
          "base_uri": "https://localhost:8080/"
        },
        "id": "rqFhDAYqpmd4",
        "outputId": "47615c8c-e5a3-477a-8991-5e52136db108"
      },
      "execution_count": null,
      "outputs": [
        {
          "output_type": "stream",
          "name": "stdout",
          "text": [
            "The hydrophobicity of the molecule is: -88.8000000000001\n"
          ]
        }
      ]
    },
    {
      "cell_type": "code",
      "source": [
        "from Bio.PDB import *\n",
        "import Bio.PDB\n",
        "from Bio.PDB import PDBParser\n",
        "\n",
        "hydropathy_index = {\n",
        "    'A': 1.8, 'C': 2.5, 'D': -3.5, 'E': -3.5, \n",
        "    'F': 2.8, 'G': -0.4, 'H': -3.2, 'I': 4.5, \n",
        "    'K': -3.9, 'L': 3.8, 'M': 1.9, 'N': -3.5, \n",
        "    'P': -1.6, 'Q': -3.5, 'R': -4.5, 'S': -0.8, \n",
        "    'T': -0.7, 'V': 4.2, 'W': -0.9, 'Y': -1.3\n",
        "}\n",
        "\n",
        "# You can add the modified residue \"NIY\" and its hydropathy value\n",
        "hydropathy_index['NIY'] = -1.1\n",
        "\n",
        "pdb_file = \"/content/sample_data/6bno.pdb\"\n",
        "\n",
        "parser = Bio.PDB.PDBParser()\n",
        "structure = parser.get_structure(\"structure\", pdb_file)\n",
        "\n",
        "total_hydropathy = 0\n",
        "\n",
        "for chain in structure.get_chains():\n",
        "    for residue in chain:\n",
        "        res_name = residue.resname\n",
        "        if res_name in hydropathy_index:\n",
        "            total_hydropathy += hydropathy_index[res_name]\n",
        "\n",
        "print(\"The hydrophobicity of the molecule is:\", total_hydropathy)\n"
      ],
      "metadata": {
        "colab": {
          "base_uri": "https://localhost:8080/"
        },
        "id": "1GGxMRlN9Qqx",
        "outputId": "f7429fd6-695b-4f01-a2de-3a7fb96369c2"
      },
      "execution_count": null,
      "outputs": [
        {
          "output_type": "stream",
          "name": "stdout",
          "text": [
            "The hydrophobicity of the molecule is: 0\n"
          ]
        },
        {
          "output_type": "stream",
          "name": "stderr",
          "text": [
            "/usr/local/lib/python3.8/dist-packages/Bio/PDB/StructureBuilder.py:89: PDBConstructionWarning: WARNING: Chain A is discontinuous at line 24223.\n",
            "  warnings.warn(\n",
            "/usr/local/lib/python3.8/dist-packages/Bio/PDB/StructureBuilder.py:89: PDBConstructionWarning: WARNING: Chain B is discontinuous at line 24251.\n",
            "  warnings.warn(\n",
            "/usr/local/lib/python3.8/dist-packages/Bio/PDB/StructureBuilder.py:89: PDBConstructionWarning: WARNING: Chain C is discontinuous at line 24279.\n",
            "  warnings.warn(\n",
            "/usr/local/lib/python3.8/dist-packages/Bio/PDB/StructureBuilder.py:89: PDBConstructionWarning: WARNING: Chain D is discontinuous at line 24307.\n",
            "  warnings.warn(\n",
            "/usr/local/lib/python3.8/dist-packages/Bio/PDB/StructureBuilder.py:89: PDBConstructionWarning: WARNING: Chain E is discontinuous at line 24335.\n",
            "  warnings.warn(\n",
            "/usr/local/lib/python3.8/dist-packages/Bio/PDB/StructureBuilder.py:89: PDBConstructionWarning: WARNING: Chain F is discontinuous at line 24363.\n",
            "  warnings.warn(\n",
            "/usr/local/lib/python3.8/dist-packages/Bio/PDB/StructureBuilder.py:89: PDBConstructionWarning: WARNING: Chain G is discontinuous at line 24391.\n",
            "  warnings.warn(\n",
            "/usr/local/lib/python3.8/dist-packages/Bio/PDB/StructureBuilder.py:89: PDBConstructionWarning: WARNING: Chain H is discontinuous at line 24419.\n",
            "  warnings.warn(\n"
          ]
        }
      ]
    },
    {
      "cell_type": "code",
      "source": [
        "!pip install pymol"
      ],
      "metadata": {
        "id": "XQTjO4wyKgu6"
      },
      "execution_count": null,
      "outputs": []
    },
    {
      "cell_type": "code",
      "source": [
        "import pymol\n",
        "\n",
        "# Load the PDB file\n",
        "pymol.cmd.load(\"/content/sample_data/2zwh.pdb\")\n",
        "\n",
        "# Select all cysteine residues\n",
        "pymol.cmd.select(\"cysteines\", \"resn CYS\")\n",
        "\n",
        "# Replace the residue name of the selected residues with CYX\n",
        "pymol.cmd.alter(\"cysteines\", \"resn='CYX'\")\n",
        "\n",
        "# Save the modified PDB file\n",
        "pymol.cmd.save(\"example_oxidized.pdb\", format=\"pdb\")\n"
      ],
      "metadata": {
        "id": "LOhrxU7jKgOg"
      },
      "execution_count": null,
      "outputs": []
    },
    {
      "cell_type": "code",
      "source": [
        "!pip install rdkit"
      ],
      "metadata": {
        "colab": {
          "base_uri": "https://localhost:8080/"
        },
        "id": "uD3v-gMdLdWP",
        "outputId": "976b9e5a-fd16-4c1a-a60a-234f8af85575"
      },
      "execution_count": null,
      "outputs": [
        {
          "output_type": "stream",
          "name": "stdout",
          "text": [
            "Looking in indexes: https://pypi.org/simple, https://us-python.pkg.dev/colab-wheels/public/simple/\n",
            "Collecting rdkit\n",
            "  Downloading rdkit-2022.9.4-cp38-cp38-manylinux_2_17_x86_64.manylinux2014_x86_64.whl (29.3 MB)\n",
            "\u001b[2K     \u001b[90m━━━━━━━━━━━━━━━━━━━━━━━━━━━━━━━━━━━━━━━━\u001b[0m \u001b[32m29.3/29.3 MB\u001b[0m \u001b[31m33.4 MB/s\u001b[0m eta \u001b[36m0:00:00\u001b[0m\n",
            "\u001b[?25hRequirement already satisfied: Pillow in /usr/local/lib/python3.8/dist-packages (from rdkit) (7.1.2)\n",
            "Requirement already satisfied: numpy in /usr/local/lib/python3.8/dist-packages (from rdkit) (1.21.6)\n",
            "Installing collected packages: rdkit\n",
            "Successfully installed rdkit-2022.9.4\n"
          ]
        }
      ]
    },
    {
      "cell_type": "code",
      "source": [
        "from rdkit import Chem\n",
        "from rdkit.Chem import AllChem\n",
        "\n",
        "# Load the PDB file\n",
        "mol = Chem.MolFromPDBFile(\"/content/sample_data/2zwh.pdb\")\n",
        "\n",
        "# Iterate over the residues in the molecule\n",
        "for i, residue in enumerate(mol.GetSubstructMatches(Chem.MolFromSmarts(\"[CYS]\"))):\n",
        "    # Replace the residue name of cysteine with CYX\n",
        "    mol.GetAtomWithIdx(residue[0]).SetMol(Chem.MolFromSmiles(\"[CYX]\"))\n",
        "\n",
        "# Write the modified PDB file to disk\n",
        "with open(\"/content/2zwh_CYSoxidized_rdkit.pdb\", \"w\") as f:\n",
        "    f.write(Chem.MolToPDBBlock(mol))\n"
      ],
      "metadata": {
        "id": "U_kpovwCLdth"
      },
      "execution_count": null,
      "outputs": []
    },
    {
      "cell_type": "code",
      "source": [
        "#oxidation of the certain cysteine residues\n",
        "\n",
        "from rdkit import Chem\n",
        "from rdkit.Chem import AllChem\n",
        "\n",
        "# Load the PDB file\n",
        "mol = Chem.MolFromPDBFile(\"example.pdb\")\n",
        "\n",
        "# Define a list of residues to oxidize\n",
        "residues_to_oxidize = [54, 100, 120]\n",
        "\n",
        "# Iterate over the residues in the molecule\n",
        "for i, residue in enumerate(mol.GetSubstructMatches(Chem.MolFromSmarts(\"[CYS]\"))):\n",
        "    if i+1 in residues_to_oxidize:\n",
        "        # Replace the residue name of cysteine with CYX\n",
        "        mol.GetAtomWithIdx(residue[0]).SetMol(Chem.MolFromSmiles(\"[CYX]\"))\n",
        "\n",
        "# Write the modified PDB file to disk\n",
        "with open(\"example_oxidized.pdb\", \"w\") as f:\n",
        "    f.write(Chem.MolToPDBBlock(mol))\n"
      ],
      "metadata": {
        "id": "-eMFSjtkNN0_"
      },
      "execution_count": null,
      "outputs": []
    },
    {
      "cell_type": "code",
      "source": [
        "#heights of the atom in pdb structure\n",
        "from Bio.PDB import *\n",
        "from Bio.PDB import *\n",
        "import numpy as np\n",
        "import matplotlib.pyplot as plt\n",
        "\n",
        "# Load the PDB file\n",
        "parser = PDBParser(QUIET=True)\n",
        "structure = parser.get_structure(\"structure\", \"/content/sample_data/2zwh_all_3-NT-bySIN18112021.pdb\")\n",
        "\n",
        "# Calculate center of mass\n",
        "mass_sum = 0\n",
        "com = np.zeros(3)\n",
        "for atom in structure.get_atoms():\n",
        "    mass = atom.mass\n",
        "    com += atom.coord * mass\n",
        "    mass_sum += mass\n",
        "com /= mass_sum\n",
        "\n",
        "# Calculate the height of each atom over the center of mass\n",
        "heights = []\n",
        "for atom in structure.get_atoms():\n",
        "    height = np.linalg.norm(atom.coord - com)\n",
        "    heights.append(height)\n",
        "\n",
        "# Plot the histogram of heights\n",
        "plt.hist(heights)\n",
        "plt.xlabel(\"Height (Å)\")\n",
        "plt.ylabel(\"Count\")\n",
        "plt.title(\"Histogram of Atom Heights\")\n",
        "plt.show()\n"
      ],
      "metadata": {
        "colab": {
          "base_uri": "https://localhost:8080/",
          "height": 297
        },
        "id": "bYzmf7bxc6uI",
        "outputId": "7403fe75-1d78-431b-c05d-ec7527e566cc"
      },
      "execution_count": null,
      "outputs": [
        {
          "output_type": "display_data",
          "data": {
            "text/plain": [
              "<Figure size 432x288 with 1 Axes>"
            ],
            "image/png": "[encoded data removed]"
          },
          "metadata": {
            "needs_background": "light"
          }
        }
      ]
    },
    {
      "cell_type": "code",
      "source": [
        "#heights of the atom in pdb structure\n",
        "from Bio.PDB import *\n",
        "from Bio.PDB import *\n",
        "import numpy as np\n",
        "import matplotlib.pyplot as plt\n",
        "\n",
        "# Load the PDB file\n",
        "parser = PDBParser(QUIET=True)\n",
        "structure = parser.get_structure(\"structure\", \"/content/sample_data/2zwh.pdb\")\n",
        "\n",
        "# Calculate center of mass\n",
        "mass_sum = 0\n",
        "com = np.zeros(3)\n",
        "for atom in structure.get_atoms():\n",
        "    mass = atom.mass\n",
        "    com += atom.coord * mass\n",
        "    mass_sum += mass\n",
        "com /= mass_sum\n",
        "\n",
        "# Calculate the height of each atom over the center of mass\n",
        "heights = []\n",
        "for atom in structure.get_atoms():\n",
        "    height = np.linalg.norm(atom.coord - com)\n",
        "    heights.append(height)\n",
        "\n",
        "# Plot the histogram of heights\n",
        "plt.hist(heights)\n",
        "plt.xlabel(\"Height (Å)\")\n",
        "plt.ylabel(\"Count\")\n",
        "plt.title(\"Histogram of Atom Heights\")\n",
        "plt.show()"
      ],
      "metadata": {
        "colab": {
          "base_uri": "https://localhost:8080/",
          "height": 297
        },
        "id": "0rabcKlPdX-D",
        "outputId": "a232f383-a9c2-4f05-b92f-bdf1185bbf70"
      },
      "execution_count": null,
      "outputs": [
        {
          "output_type": "display_data",
          "data": {
            "text/plain": [
              "<Figure size 432x288 with 1 Axes>"
            ],
            "image/png": "[encoded data removed]"
          },
          "metadata": {
            "needs_background": "light"
          }
        }
      ]
    },
    {
      "cell_type": "code",
      "source": [
        "import numpy as np\n",
        "import mdtraj as md\n",
        "import matplotlib.pyplot as plt\n",
        "import csv\n",
        "\n",
        "# Load the PDB file for the first structure\n",
        "traj1 = md.load(\"/content/sample_data/2zwh.pdb\")\n",
        "\n",
        "# Calculate the Z-coordinates of all atoms in the first structure\n",
        "z_coords1 = traj1.xyz[0, :, 2]\n",
        "\n",
        "# Load the PDB file for the second structure\n",
        "traj2 = md.load(\"/content/sample_data/2zwh_all_3-NT-bySIN18112021.pdb\")\n",
        "\n",
        "# Calculate the Z-coordinates of all atoms in the second structure\n",
        "z_coords2 = traj2.xyz[0, :, 2]\n",
        "\n",
        "# Write the Z-coordinates to a CSV file for the first structure\n",
        "with open(\"structure1_heights.csv\", \"w\") as f:\n",
        "    writer = csv.writer(f)\n",
        "    writer.writerows(zip(z_coords1))\n",
        "\n",
        "# Write the Z-coordinates to a CSV file for the second structure\n",
        "with open(\"structure2_heights.csv\", \"w\") as f:\n",
        "    writer = csv.writer(f)\n",
        "    writer.writerows(zip(z_coords2))\n",
        "\n",
        "# Plot a histogram of the Z-coordinates for the first structure\n",
        "plt.hist(z_coords1, bins=50, alpha=0.5, label='Structure 1')\n",
        "\n",
        "# Plot a histogram of the Z-coordinates for the second structure\n",
        "plt.hist(z_coords2, bins=50, alpha=0.5, label='Structure 2')\n",
        "\n",
        "# Add a legend to the plot\n",
        "plt.legend()\n",
        "\n",
        "# Show the plot\n",
        "plt.show()\n"
      ],
      "metadata": {
        "colab": {
          "base_uri": "https://localhost:8080/",
          "height": 265
        },
        "id": "FAfpMDHxe611",
        "outputId": "0eb12db3-cb87-42f4-c483-51aeb6557559"
      },
      "execution_count": null,
      "outputs": [
        {
          "output_type": "display_data",
          "data": {
            "text/plain": [
              "<Figure size 432x288 with 1 Axes>"
            ],
            "image/png": "[encoded data removed]"
          },
          "metadata": {
            "needs_background": "light"
          }
        }
      ]
    },
    {
      "cell_type": "code",
      "source": [
        "#This code will extract the residue number and the z-coordinate \n",
        "#of the first atom of each residue in the structure and store it in a csv file \n",
        "#called residue_z_coordinate.csv\n",
        "\n",
        "from Bio.PDB import *\n",
        "import csv\n",
        "\n",
        "pdb_file = \"/content/sample_data/2zwh_all_3-NT-bySIN18112021.pdb\"\n",
        "structure = PDBParser().get_structure(\"structure\", pdb_file)\n",
        "\n",
        "# Create a csv file for writing\n",
        "with open(\"residue_z_coordinate_2zwh_SIN_1atom_of_each_residue.csv\", \"w\") as csvfile:\n",
        "    writer = csv.writer(csvfile)\n",
        "    writer.writerow([\"Residue\", \"Z-coordinate\"])\n",
        "    \n",
        "    # Loop through each residue in the structure\n",
        "    for residue in structure.get_residues():\n",
        "        # Get the first atom of the residue\n",
        "        atom = residue.get_list()[0]\n",
        "        residue_num = residue.id[1]\n",
        "        z_coordinate = atom.coord[2]\n",
        "        \n",
        "        # Write the residue number and z-coordinate to the csv file\n",
        "        writer.writerow([residue_num, z_coordinate])\n"
      ],
      "metadata": {
        "id": "UKqxPdZHtMn6"
      },
      "execution_count": null,
      "outputs": []
    },
    {
      "cell_type": "code",
      "source": [
        "import mdtraj as md\n",
        "\n",
        "traj = md.load('/content/sample_data/2zwh.pdb')\n",
        "\n",
        "with open('residue_z_coordinates.csv', 'w') as f:\n",
        "    f.write('Residue, Residue Name, Z Coordinate\\n')\n",
        "    for i, atom in enumerate(traj.topology.atoms):\n",
        "        residue = atom.residue\n",
        "        residue_name = residue.name\n",
        "        z_coordinate = traj.xyz[0][i][2]\n",
        "        f.write(f'{residue.index}, {residue_name}, {z_coordinate}\\n')\n"
      ],
      "metadata": {
        "id": "KfkzwwSfvckB"
      },
      "execution_count": null,
      "outputs": []
    },
    {
      "cell_type": "code",
      "source": [
        "import mdtraj as md\n",
        "\n",
        "traj = md.load('/content/sample_data/2zwh_all_3-NT-bySIN18112021.pdb')\n",
        "\n",
        "with open('residue_z_coordinates_2zwh_SIN.csv', 'w') as f:\n",
        "    f.write('Residue, Residue Name, Z Coordinate\\n')\n",
        "    for i, atom in enumerate(traj.topology.atoms):\n",
        "        residue = atom.residue\n",
        "        residue_name = residue.name\n",
        "        z_coordinate = traj.xyz[0][i][2]\n",
        "        f.write(f'{residue.index}, {residue_name}, {z_coordinate}\\n')"
      ],
      "metadata": {
        "id": "gQDgfKm7wHmV"
      },
      "execution_count": null,
      "outputs": []
    },
    {
      "cell_type": "code",
      "source": [
        "import numpy as np\n",
        "import mdtraj as md\n",
        "import matplotlib.pyplot as plt\n",
        "import csv\n",
        "\n",
        "# Load the PDB file for the first structure\n",
        "traj1 = md.load(\"/content/sample_data/6bno.pdb\")\n",
        "\n",
        "# Calculate the Z-coordinates of all atoms in the first structure\n",
        "z_coords1 = traj1.xyz[0, :, 2]\n",
        "\n",
        "# Load the PDB file for the second structure\n",
        "traj2 = md.load(\"/content/sample_data/6bno_3NT_03122021.pdb\")\n",
        "\n",
        "# Calculate the Z-coordinates of all atoms in the second structure\n",
        "z_coords2 = traj2.xyz[0, :, 2]\n",
        "\n",
        "# Write the Z-coordinates to a CSV file for the first structure\n",
        "with open(\"structure1_heights.csv\", \"w\") as f:\n",
        "    writer = csv.writer(f)\n",
        "    writer.writerows(zip(z_coords1))\n",
        "\n",
        "# Write the Z-coordinates to a CSV file for the second structure\n",
        "with open(\"structure2_heights.csv\", \"w\") as f:\n",
        "    writer = csv.writer(f)\n",
        "    writer.writerows(zip(z_coords2))\n",
        "\n",
        "# Plot a histogram of the Z-coordinates for the first structure\n",
        "plt.hist(z_coords1, bins=50, alpha=0.5, label='Structure 1')\n",
        "\n",
        "# Plot a histogram of the Z-coordinates for the second structure\n",
        "plt.hist(z_coords2, bins=50, alpha=0.5, label='Structure 2')\n",
        "\n",
        "# Add a legend to the plot\n",
        "plt.legend()\n",
        "\n",
        "# Show the plot\n",
        "plt.show()"
      ],
      "metadata": {
        "colab": {
          "base_uri": "https://localhost:8080/",
          "height": 265
        },
        "id": "vN7NEaFMm90r",
        "outputId": "20d0174a-c383-4d74-95bc-10df5beb6d23"
      },
      "execution_count": null,
      "outputs": [
        {
          "output_type": "display_data",
          "data": {
            "text/plain": [
              "<Figure size 432x288 with 1 Axes>"
            ],
            "image/png": "[encoded data removed]"
          },
          "metadata": {
            "needs_background": "light"
          }
        }
      ]
    },
    {
      "cell_type": "code",
      "source": [
        "'''\n",
        "In this code, the get_xy_coords function takes a PDB file as input \n",
        "and returns a list of lists containing the atom name, x coordinate, and y coordinate. \n",
        "The function uses the Bio.PDB library to parse the PDB file and extract the coordinates of each atom. \n",
        "Then, the x, y coordinates are saved to separate CSV files using the pandas\n",
        "library, and finally, the data is plotted using the Matplotlib library.\n",
        "'''\n",
        "import Bio.PDB\n",
        "import pandas as pd\n",
        "import matplotlib.pyplot as plt\n",
        "\n",
        "def get_xy_coords(pdb_file):\n",
        "    parser = Bio.PDB.PDBParser()\n",
        "    structure = parser.get_structure(\"structure\", pdb_file)\n",
        "    xy_coords = []\n",
        "    for model in structure:\n",
        "        for chain in model:\n",
        "            for residue in chain:\n",
        "                for atom in residue:\n",
        "                    xy_coords.append([atom.get_name(), atom.get_coord()[0], atom.get_coord()[1]])\n",
        "    return xy_coords\n",
        "\n",
        "# Example for two PDB structures\n",
        "pdb1 = \"/content/sample_data/2zwh.pdb\"\n",
        "pdb2 = \"/content/sample_data/2zwh_all_3-NT-bySIN18112021.pdb\"\n",
        "\n",
        "# Get x, y coordinates for each structure\n",
        "xy_coords1 = get_xy_coords(pdb1)\n",
        "xy_coords2 = get_xy_coords(pdb2)\n",
        "\n",
        "# Save x, y coordinates to CSV files\n",
        "df1 = pd.DataFrame(xy_coords1, columns=[\"Atom name\", \"x\", \"y\"])\n",
        "df1.to_csv(\"xy_coords1.csv\", index=False)\n",
        "\n",
        "df2 = pd.DataFrame(xy_coords2, columns=[\"Atom name\", \"x\", \"y\"])\n",
        "df2.to_csv(\"xy_coords2.csv\", index=False)\n",
        "\n",
        "# Plot the x, y coordinates for each structure\n",
        "plt.scatter(df1[\"x\"], df1[\"y\"], label=\"Structure 1\")\n",
        "plt.scatter(df2[\"x\"], df2[\"y\"], label=\"Structure 2\")\n",
        "plt.legend()\n",
        "plt.show()\n"
      ],
      "metadata": {
        "colab": {
          "base_uri": "https://localhost:8080/",
          "height": 265
        },
        "id": "45kcggur6lbT",
        "outputId": "144496d6-8dff-48f4-a780-58c1f30c4892"
      },
      "execution_count": null,
      "outputs": [
        {
          "output_type": "display_data",
          "data": {
            "text/plain": [
              "<Figure size 432x288 with 1 Axes>"
            ],
            "image/png": "[encoded data removed]"
          },
          "metadata": {
            "needs_background": "light"
          }
        }
      ]
    },
    {
      "cell_type": "code",
      "source": [
        "'''\n",
        "This code loads the PDB file using the Bio.PDB library, sele\n",
        "residue (in this case, residue 100 in chain A), and loops through all atoms \n",
        "in the residue to extract their x and y coordinates. The coordinates\n",
        "are then stored in a list and written to a CSV file.\n",
        "'''\n",
        "\n",
        "from Bio.PDB import *\n",
        "import csv\n",
        "\n",
        "# Load the PDB file\n",
        "parser = PDBParser()\n",
        "structure1 = parser.get_structure(\"structure\", \"/content/sample_data/2zwh.pdb\")\n",
        "structure2 = parser.get_structure(\"structure\", \"/content/sample_data/2zwh_all_3-NT-bySIN18112021.pdb\")\n",
        "\n",
        "# Select the desired residue\n",
        "residue = structure1[0][\"A\"][53]\n",
        "residue = structure2[0][\"A\"][53]\n",
        "\n",
        "# Create a list to store the x, y coordinates\n",
        "coordinates = []\n",
        "\n",
        "# Loop through all atoms in the residue\n",
        "for atom in residue:\n",
        "    x = atom.coord[0]\n",
        "    y = atom.coord[1]\n",
        "    coordinates.append([x, y])\n",
        "\n",
        "print(coordinates)\n",
        "\n",
        "# # Write the x, y coordinates to a CSV file\n",
        "# with open(\"residue_coordinates.csv\", \"w\") as f:\n",
        "#     writer = csv.writer(f)\n",
        "#     writer.writerows(coordinates)\n"
      ],
      "metadata": {
        "colab": {
          "base_uri": "https://localhost:8080/"
        },
        "id": "YJ8p9rJD8WzO",
        "outputId": "35953d51-988b-4f24-b61c-1388e140198b"
      },
      "execution_count": null,
      "outputs": [
        {
          "output_type": "stream",
          "name": "stdout",
          "text": [
            "[[19.655, 12.016], [20.453, 10.81], [20.29, 10.425], [19.166, 10.345], [19.871, 9.715], [19.367, 10.124], [20.104, 9.821], [18.139, 10.777], [19.625, 10.174], [17.656, 11.123], [18.396, 10.827], [17.866, 11.183], [20.307, 9.899], [19.666, 9.812], [21.688, 9.688]]\n"
          ]
        }
      ]
    },
    {
      "cell_type": "code",
      "source": [
        "'''\n",
        "This code will store the x,y coordinates of each atom around the specified \n",
        "residue for both structures in a single DataFrame and save it to a CSV file. \n",
        "The plot will show the x,y coordinates as a scatter plot with different colors \n",
        "for each structure, allowing you to visualize and compare the two structures.\n",
        "'''\n",
        "\n",
        "import Bio.PDB\n",
        "import pandas as pd\n",
        "\n",
        "# Load the two PDB structures\n",
        "pdb1 = Bio.PDB.PDBParser().get_structure(\"pdb1\", \"/content/sample_data/2zwh.pdb\")\n",
        "pdb2 = Bio.PDB.PDBParser().get_structure(\"pdb2\", \"/content/sample_data/2zwh_all_3-NT-bySIN18112021.pdb\")\n",
        "\n",
        "# Specify the residue number and chain ID to analyze\n",
        "res_num = 294\n",
        "chain_id = \"A\"\n",
        "\n",
        "# Initialize a list to store the x,y coordinates of each atom\n",
        "coordinates = []\n",
        "\n",
        "# Loop over the two structures\n",
        "for structure in [pdb1, pdb2]:\n",
        "    for model in structure:\n",
        "        for chain in model:\n",
        "            if chain.id == chain_id:\n",
        "                for residue in chain:\n",
        "                    if residue.id[1] == res_num:\n",
        "                        for atom in residue:\n",
        "                            x, y, z = atom.coord\n",
        "                            coordinates.append([x, y, structure.id])\n",
        "\n",
        "# Convert the list of coordinates into a DataFrame\n",
        "df = pd.DataFrame(coordinates, columns=[\"x\", \"y\", \"structure\"])\n",
        "\n",
        "# Save the DataFrame to a CSV file\n",
        "df.to_csv(\"x,y_coordinates.csv\", index=False)\n",
        "\n",
        "# Plot the data using a scatter plot\n",
        "import matplotlib.pyplot as plt\n",
        "\n",
        "# plt.scatter(df[\"x\"], df[\"y\"], c=df[\"structure\"], cmap=\"viridis\")\n",
        "# plt.xlabel(\"x\")\n",
        "# plt.ylabel(\"y\")\n",
        "# plt.title(\"Coordinates Around Residue %d Chain %s\" % (res_num, chain_id))\n",
        "# plt.show()\n"
      ],
      "metadata": {
        "id": "Py4tcYMb-orq"
      },
      "execution_count": null,
      "outputs": []
    },
    {
      "cell_type": "code",
      "source": [
        "#analysis of pixels in hs-afm simulated image\n",
        "import matplotlib.pyplot as plt\n",
        "from matplotlib import image as mpimg\n",
        "import numpy as np\n",
        "\n",
        "# Load the image\n",
        "img = mpimg.imread('/content/sample_data/2zwh-VdW.png')\n",
        "\n",
        "# Flatten the image into a 1D array\n",
        "pixels = img.flatten()\n",
        "\n",
        "# Plot a histogram of the pixel values\n",
        "plt.hist(pixels, bins=256, range=(0, 256), color='blue', alpha=0.5)\n",
        "plt.xlabel('Pixel Value')\n",
        "plt.ylabel('Frequency')\n",
        "plt.title('Pixel Value Histogram')\n",
        "plt.show()\n"
      ],
      "metadata": {
        "id": "Sspj6C2joG6r"
      },
      "execution_count": null,
      "outputs": []
    }
  ]
}