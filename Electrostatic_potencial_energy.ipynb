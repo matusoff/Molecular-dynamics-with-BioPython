{
  "nbformat": 4,
  "nbformat_minor": 0,
  "metadata": {
    "colab": {
      "provenance": [],
      "authorship_tag": "ABX9TyN1saKOn7C3iLUif1cni3HH",
      "include_colab_link": true
    },
    "kernelspec": {
      "name": "python3",
      "display_name": "Python 3"
    },
    "language_info": {
      "name": "python"
    }
  },
  "cells": [
    {
      "cell_type": "markdown",
      "metadata": {
        "id": "view-in-github",
        "colab_type": "text"
      },
      "source": [
        "<a href=\"https://colab.research.google.com/github/matusoff/Molecular_dynamics/blob/main/Electrostatic_potencial_energy.ipynb\" target=\"_parent\"><img src=\"https://colab.research.google.com/assets/colab-badge.svg\" alt=\"Open In Colab\"/></a>"
      ]
    },
    {
      "cell_type": "code",
      "source": [
        "! pip install Bio"
      ],
      "metadata": {
        "colab": {
          "base_uri": "https://localhost:8080/"
        },
        "id": "XAn_cAYRlCvL",
        "outputId": "a614267d-c1c4-479a-b8d0-fd89240ac4b7"
      },
      "execution_count": null,
      "outputs": [
        {
          "output_type": "stream",
          "name": "stdout",
          "text": [
            "Looking in indexes: https://pypi.org/simple, https://us-python.pkg.dev/colab-wheels/public/simple/\n",
            "Collecting Bio\n",
            "  Downloading bio-1.5.3-py3-none-any.whl (272 kB)\n",
            "\u001b[2K     \u001b[90m━━━━━━━━━━━━━━━━━━━━━━━━━━━━━━━━━━━━━━\u001b[0m \u001b[32m272.6/272.6 KB\u001b[0m \u001b[31m12.0 MB/s\u001b[0m eta \u001b[36m0:00:00\u001b[0m\n",
            "\u001b[?25hCollecting biopython>=1.80\n",
            "  Downloading biopython-1.80-cp38-cp38-manylinux_2_17_x86_64.manylinux2014_x86_64.whl (3.1 MB)\n",
            "\u001b[2K     \u001b[90m━━━━━━━━━━━━━━━━━━━━━━━━━━━━━━━━━━━━━━━━\u001b[0m \u001b[32m3.1/3.1 MB\u001b[0m \u001b[31m83.3 MB/s\u001b[0m eta \u001b[36m0:00:00\u001b[0m\n",
            "\u001b[?25hRequirement already satisfied: requests in /usr/local/lib/python3.8/dist-packages (from Bio) (2.25.1)\n",
            "Collecting mygene\n",
            "  Downloading mygene-3.2.2-py2.py3-none-any.whl (5.4 kB)\n",
            "Requirement already satisfied: tqdm in /usr/local/lib/python3.8/dist-packages (from Bio) (4.64.1)\n",
            "Requirement already satisfied: numpy in /usr/local/lib/python3.8/dist-packages (from biopython>=1.80->Bio) (1.21.6)\n",
            "Collecting biothings-client>=0.2.6\n",
            "  Downloading biothings_client-0.2.6-py2.py3-none-any.whl (37 kB)\n",
            "Requirement already satisfied: idna<3,>=2.5 in /usr/local/lib/python3.8/dist-packages (from requests->Bio) (2.10)\n",
            "Requirement already satisfied: certifi>=2017.4.17 in /usr/local/lib/python3.8/dist-packages (from requests->Bio) (2022.12.7)\n",
            "Requirement already satisfied: urllib3<1.27,>=1.21.1 in /usr/local/lib/python3.8/dist-packages (from requests->Bio) (1.24.3)\n",
            "Requirement already satisfied: chardet<5,>=3.0.2 in /usr/local/lib/python3.8/dist-packages (from requests->Bio) (4.0.0)\n",
            "Installing collected packages: biopython, biothings-client, mygene, Bio\n",
            "Successfully installed Bio-1.5.3 biopython-1.80 biothings-client-0.2.6 mygene-3.2.2\n"
          ]
        }
      ]
    },
    {
      "cell_type": "code",
      "execution_count": null,
      "metadata": {
        "colab": {
          "base_uri": "https://localhost:8080/"
        },
        "id": "LEfnNerPlAxW",
        "outputId": "9981f78f-4b6d-4e6e-88a5-bf4e2653d01e"
      },
      "outputs": [
        {
          "output_type": "stream",
          "name": "stdout",
          "text": [
            "Electrostatic potential energy: 15408.439725400483 eV\n"
          ]
        }
      ],
      "source": [
        "import numpy as np\n",
        "import Bio.PDB\n",
        "\n",
        "# Load the PDB structure\n",
        "parser = Bio.PDB.PDBParser()\n",
        "structure = parser.get_structure(\"https://www.rcsb.org/structure/2zwh\", \"/content/sample_data/2zwh.pdb\")\n",
        "\n",
        "# Define the residues of interest\n",
        "residues_of_interest = [(\"A\", 237), (\"A\", 238), (\"A\", 239), (\"A\", 240), (\"A\", 241), (\"A\", 242), (\"A\", 243), (\"A\", 244)]\n",
        "\n",
        "# Create a list of the atoms of interest\n",
        "atoms_of_interest = []\n",
        "for residue in residues_of_interest:\n",
        "    chain, residue_id = residue\n",
        "    residues = structure[0][chain]\n",
        "    atoms = residues[residue_id].get_atoms()\n",
        "    for atom in atoms:\n",
        "        atoms_of_interest.append(atom)\n",
        "\n",
        "# Define the atomic charges based on the atomic number\n",
        "atomic_charges = {\n",
        "    \"H\": 1.0,\n",
        "    \"C\": 6.0,\n",
        "    \"N\": 7.0,\n",
        "    \"O\": 8.0,\n",
        "    \"P\": 15.0,\n",
        "    \"S\": 16.0\n",
        "}\n",
        "\n",
        "# Assign charges to each atom based on their atomic number\n",
        "charges = []\n",
        "for atom in atoms_of_interest:\n",
        "    element = atom.element.strip()\n",
        "    charges.append(atomic_charges.get(element, 0.0))\n",
        "\n",
        "# Calculate the electrostatic potential energy between all pairs of atoms of interest\n",
        "electrostatic_potential_energy = 0\n",
        "for i in range(len(atoms_of_interest)):\n",
        "    for j in range(i+1, len(atoms_of_interest)):\n",
        "        electrostatic_potential_energy += charges[i] * charges[j] / np.linalg.norm(atoms_of_interest[i].coord - atoms_of_interest[j].coord)\n",
        "\n",
        "# Print the electrostatic potential energy\n",
        "print(\"Electrostatic potential energy:\", electrostatic_potential_energy, \"eV\")\n",
        "\n"
      ]
    },
    {
      "cell_type": "code",
      "source": [
        "import numpy as np\n",
        "import Bio.PDB\n",
        "\n",
        "# Load the PDB structure\n",
        "parser = Bio.PDB.PDBParser()\n",
        "structure = parser.get_structure(\"https://www.rcsb.org/structure/2zwh\", \"/content/sample_data/all_3-NT-bySIN18112021.pdb\")\n",
        "\n",
        "# Define the residues of interest\n",
        "residues_of_interest = [(\"A\", 237), (\"A\", 238), (\"A\", 239), (\"A\", 240), (\"A\", 241), (\"A\", 242), (\"A\", 243), (\"A\", 244)]\n",
        "\n",
        "# Create a list of the atoms of interest\n",
        "atoms_of_interest = []\n",
        "for residue in residues_of_interest:\n",
        "    chain, residue_id = residue\n",
        "    residues = structure[0][chain]\n",
        "    atoms = residues[residue_id].get_atoms()\n",
        "    for atom in atoms:\n",
        "        atoms_of_interest.append(atom)\n",
        "\n",
        "# Define the atomic charges based on the atomic number\n",
        "atomic_charges = {\n",
        "    \"H\": 1.0,\n",
        "    \"C\": 6.0,\n",
        "    \"N\": 7.0,\n",
        "    \"O\": 8.0,\n",
        "    \"P\": 15.0,\n",
        "    \"S\": 16.0\n",
        "}\n",
        "\n",
        "# Assign charges to each atom based on their atomic number\n",
        "charges = []\n",
        "for atom in atoms_of_interest:\n",
        "    element = atom.element.strip()\n",
        "    charges.append(atomic_charges.get(element, 0.0))\n",
        "\n",
        "# Calculate the electrostatic potential energy between all pairs of atoms of interest\n",
        "electrostatic_potential_energy = 0\n",
        "for i in range(len(atoms_of_interest)):\n",
        "    for j in range(i+1, len(atoms_of_interest)):\n",
        "        electrostatic_potential_energy += charges[i] * charges[j] / np.linalg.norm(atoms_of_interest[i].coord - atoms_of_interest[j].coord)\n",
        "\n",
        "# Print the electrostatic potential energy\n",
        "print(\"Electrostatic potential energy:\", electrostatic_potential_energy, \"eV\")"
      ],
      "metadata": {
        "colab": {
          "base_uri": "https://localhost:8080/"
        },
        "id": "1pyZGz8yrd3s",
        "outputId": "5acf1901-be06-49be-954d-bb6072ae60e4"
      },
      "execution_count": null,
      "outputs": [
        {
          "output_type": "stream",
          "name": "stdout",
          "text": [
            "Electrostatic potential energy: 16797.46678702398 eV\n"
          ]
        }
      ]
    },
    {
      "cell_type": "code",
      "source": [
        "!pip install Biopython"
      ],
      "metadata": {
        "colab": {
          "base_uri": "https://localhost:8080/"
        },
        "id": "TCron0sc7l5K",
        "outputId": "4caf8506-a489-48ba-cc59-5833343deae4"
      },
      "execution_count": null,
      "outputs": [
        {
          "output_type": "stream",
          "name": "stdout",
          "text": [
            "Looking in indexes: https://pypi.org/simple, https://us-python.pkg.dev/colab-wheels/public/simple/\n",
            "Collecting Biopython\n",
            "  Downloading biopython-1.80-cp38-cp38-manylinux_2_17_x86_64.manylinux2014_x86_64.whl (3.1 MB)\n",
            "\u001b[2K     \u001b[90m━━━━━━━━━━━━━━━━━━━━━━━━━━━━━━━━━━━━━━━━\u001b[0m \u001b[32m3.1/3.1 MB\u001b[0m \u001b[31m23.4 MB/s\u001b[0m eta \u001b[36m0:00:00\u001b[0m\n",
            "\u001b[?25hRequirement already satisfied: numpy in /usr/local/lib/python3.8/dist-packages (from Biopython) (1.21.6)\n",
            "Installing collected packages: Biopython\n",
            "Successfully installed Biopython-1.80\n"
          ]
        }
      ]
    },
    {
      "cell_type": "code",
      "source": [
        "import Bio.PDB\n",
        "import numpy as np\n",
        "\n",
        "# Load the PDB structure\n",
        "pdb = Bio.PDB.PDBParser().get_structure(\"pdb\", \"/content/sample_data/2zwh_all_3-NT-bySIN18112021.pdb\")\n",
        "\n",
        "# Initialize lists to store the x, y, and z coordinates and charges of each atom\n",
        "positions = []\n",
        "charges = []\n",
        "\n",
        "# Loop over the first model in the PDB structure\n",
        "for model in pdb:\n",
        "    for chain in model:\n",
        "        for residue in chain:\n",
        "            for atom in residue:\n",
        "                x, y, z = atom.coord\n",
        "                positions.append([x, y, z])\n",
        "                # You would need to define the charges of each atom here\n",
        "                charges.append(0)\n",
        "\n",
        "# Convert the lists of positions and charges into numpy arrays\n",
        "positions = np.array(positions)\n",
        "charges = np.array(charges)\n",
        "\n",
        "# Calculate the electrostatic potential energy of the structure\n",
        "potential_energy = 0\n",
        "for i in range(len(positions)):\n",
        "    for j in range(i+1, len(positions)):\n",
        "        distance = np.linalg.norm(positions[i] - positions[j])\n",
        "        potential_energy += charges[i] * charges[j] / distance\n",
        "\n",
        "print(\"Potential energy:\", potential_energy)\n"
      ],
      "metadata": {
        "colab": {
          "base_uri": "https://localhost:8080/"
        },
        "id": "qknn6_Kd7TrR",
        "outputId": "3621571a-4968-41fe-cad4-0e851d7e920e"
      },
      "execution_count": null,
      "outputs": [
        {
          "output_type": "stream",
          "name": "stdout",
          "text": [
            "Potential energy: 34540869.50765774\n"
          ]
        }
      ]
    },
    {
      "cell_type": "code",
      "source": [
        "import Bio.PDB\n",
        "import numpy as np\n",
        "\n",
        "# Load the two PDB structures\n",
        "pdb1 = Bio.PDB.PDBParser().get_structure(\"pdb\", \"/content/sample_data/2zwh.pdb\")\n",
        "pdb2 = Bio.PDB.PDBParser().get_structure(\"pdb2\", \"/content/sample_data/2zwh_all_3-NT-bySIN18112021.pdb\")\n",
        "\n",
        "# Specify the chain ID to analyze\n",
        "chain_id = \"A\"\n",
        "\n",
        "# Initialize lists to store the positions and charges of each atom\n",
        "positions = []\n",
        "charges = []\n",
        "\n",
        "# Loop over the two structures\n",
        "for structure in [pdb1, pdb2]:\n",
        "    for model in structure:\n",
        "        for chain in model:\n",
        "            if chain.id == chain_id:\n",
        "                for residue in chain:\n",
        "                    for atom in residue:\n",
        "                        x, y, z = atom.coord\n",
        "                        positions.append([x, y, z])\n",
        "                        # Assign a rough charge to each atom\n",
        "                        if atom.element == \"C\":\n",
        "                            charges.append(0.5)\n",
        "                        elif atom.element == \"N\":\n",
        "                            charges.append(-0.5)\n",
        "                        elif atom.element == \"O\":\n",
        "                            charges.append(-0.5)\n",
        "                        else:\n",
        "                            charges.append(0)\n",
        "\n",
        "# Convert the lists of positions and charges into numpy arrays\n",
        "positions = np.array(positions)\n",
        "charges = np.array(charges)\n",
        "\n",
        "# Calculate the electrostatic potential energy of the structure\n",
        "potential_energy = 0\n",
        "for i in range(len(positions)):\n",
        "    for j in range(i+1, len(positions)):\n",
        "        distance = np.linalg.norm(positions[i] - positions[j])\n",
        "        potential_energy += charges[i] * charges[j] / distance\n",
        "\n",
        "print(\"Potential energy:\", potential_energy)\n"
      ],
      "metadata": {
        "colab": {
          "base_uri": "https://localhost:8080/"
        },
        "id": "CTUEJ6Ao-kiZ",
        "outputId": "5109b747-9114-4e6d-d881-781c663c7df7"
      },
      "execution_count": null,
      "outputs": [
        {
          "output_type": "stream",
          "name": "stdout",
          "text": [
            "Potential energy: 0\n"
          ]
        }
      ]
    },
    {
      "cell_type": "code",
      "source": [
        "# Load the PDB structure\n",
        "pdb = Bio.PDB.PDBParser().get_structure(\"pdb\", \"/content/sample_data/2zwh.pdb\")\n",
        "\n",
        "# Define the charges of each element (could be improved with better models)\n",
        "\n",
        "'''\n",
        "element charges in the example code is just assigning random values to elements, \n",
        "it is not based on any scientific calculations. This is just for demonstration \n",
        "purposes and not meant to be used for actual scientific calculations. \n",
        "In real life, the charges of elements in a molecule are calculated using more \n",
        "complex models and calculations based on quantum mechanics and other physical principles.\n",
        "'''\n",
        "\n",
        "element_charges = {\n",
        "    \"C\": 0.5,\n",
        "    \"N\": -0.5,\n",
        "    \"O\": -0.5,\n",
        "    \"S\": -0.5,\n",
        "    \"P\": 1.0,\n",
        "    \"H\": 0.5\n",
        "}\n",
        "\n",
        "# Initialize a list to store the x,y,z coordinates and charges of each atom\n",
        "coordinates_and_charges = []\n",
        "\n",
        "# Loop over the structure\n",
        "for model in pdb:\n",
        "    for chain in model:\n",
        "        for residue in chain:\n",
        "            for atom in residue:\n",
        "                x, y, z = atom.coord\n",
        "                element = atom.element\n",
        "                charge = element_charges.get(element, 0.0)\n",
        "                coordinates_and_charges.append([x, y, z, charge])\n",
        "\n",
        "# Convert the list of coordinates and charges into numpy arrays\n",
        "coordinates = np.array(coordinates_and_charges)[:, :3]\n",
        "charges = np.array(coordinates_and_charges)[:, 3]\n",
        "\n",
        "\n",
        "# Calculate the electrostatic potential energy of the structure\n",
        "potential_energy = 0\n",
        "for i in range(len(coordinates)):\n",
        "    for j in range(i+1, len(coordinates)):\n",
        "        distance = np.linalg.norm(coordinates[i] - coordinates[j])\n",
        "        potential_energy += charges[i] * charges[j] / distance\n",
        "\n",
        "print(\"Potential energy:\", potential_energy)\n",
        "\n",
        "\n",
        "'''\n",
        "The part of code below will perform a defined degree rotation (angle=) about the x-axis, \n",
        "calculate the electrostatic potential energy for the rotated coordinates, \n",
        "and print the result. You can modify the rotation angle and rotation matrix \n",
        "to perform rotations about other axes if desired.\n",
        "'''\n",
        "\n",
        "# Define the rotation angle in degrees\n",
        "angle = 180\n",
        "\n",
        "# Convert the angle from degrees to radians\n",
        "angle = np.deg2rad(angle)\n",
        "\n",
        "# Define the rotation matrix for a rotation about the x-axis\n",
        "rotation_matrix = np.array([[1, 0, 0],\n",
        "                            [0, np.cos(angle), -np.sin(angle)],\n",
        "                            [0, np.sin(angle), np.cos(angle)]])\n",
        "\n",
        "# Initialize a list to store the rotated coordinates\n",
        "rotated_coordinates = []\n",
        "\n",
        "# Loop over each set of coordinates\n",
        "for i in range(len(coordinates)):\n",
        "    rotated_coordinates.append(np.dot(rotation_matrix, coordinates[i]))\n",
        "\n",
        "# Convert the list of rotated coordinates into a numpy array\n",
        "rotated_coordinates = np.array(rotated_coordinates)\n",
        "\n",
        "# Calculate the electrostatic potential energy of the rotated structure\n",
        "rotated_potential_energy = 0\n",
        "for i in range(len(rotated_coordinates)):\n",
        "    for j in range(i+1, len(rotated_coordinates)):\n",
        "        distance = np.linalg.norm(rotated_coordinates[i] - rotated_coordinates[j])\n",
        "        rotated_potential_energy += charges[i] * charges[j] / distance\n",
        "\n",
        "print(\"Potential energy after rotation:\", rotated_potential_energy)\n"
      ],
      "metadata": {
        "colab": {
          "base_uri": "https://localhost:8080/"
        },
        "id": "dAn4rAkbA0VM",
        "outputId": "ee6b5cb6-bbf8-4a4e-933f-8e360709f901"
      },
      "execution_count": null,
      "outputs": [
        {
          "output_type": "stream",
          "name": "stdout",
          "text": [
            "Potential energy: 3417.2729400429594\n",
            "Potential energy after rotation: 3417.2729400429594\n"
          ]
        }
      ]
    },
    {
      "cell_type": "code",
      "source": [
        "# Load the PDB structure\n",
        "pdb = Bio.PDB.PDBParser().get_structure(\"pdb\", \"/content/sample_data/2zwh_all_3-NT-bySIN18112021.pdb\")\n",
        "\n",
        "# Define the charges of each element (could be improved with better models)\n",
        "element_charges = {\n",
        "    \"C\": 0.5,\n",
        "    \"N\": -0.5,\n",
        "    \"O\": -0.5,\n",
        "    \"S\": -0.5,\n",
        "    \"P\": 1.0,\n",
        "    \"H\": 0.5\n",
        "}\n",
        "\n",
        "# Initialize a list to store the x,y,z coordinates and charges of each atom\n",
        "coordinates_and_charges = []\n",
        "\n",
        "# Loop over the structure\n",
        "for model in pdb:\n",
        "    for chain in model:\n",
        "        for residue in chain:\n",
        "            for atom in residue:\n",
        "                x, y, z = atom.coord\n",
        "                element = atom.element\n",
        "                charge = element_charges.get(element, 0.0)\n",
        "                coordinates_and_charges.append([x, y, z, charge])\n",
        "\n",
        "# Convert the list of coordinates and charges into numpy arrays\n",
        "coordinates = np.array(coordinates_and_charges)[:, :3]\n",
        "charges = np.array(coordinates_and_charges)[:, 3]\n",
        "\n",
        "\n",
        "# Calculate the electrostatic potential energy of the structure\n",
        "potential_energy = 0\n",
        "for i in range(len(coordinates)):\n",
        "    for j in range(i+1, len(coordinates)):\n",
        "        distance = np.linalg.norm(coordinates[i] - coordinates[j])\n",
        "        potential_energy += charges[i] * charges[j] / distance\n",
        "\n",
        "print(\"Potential energy:\", potential_energy)\n",
        "\n",
        "\n",
        "'''\n",
        "The part of code below will perform a defined degree rotation (angle=) about the x-axis, \n",
        "calculate the electrostatic potential energy for the rotated coordinates, \n",
        "and print the result. You can modify the rotation angle and rotation matrix \n",
        "to perform rotations about other axes if desired.\n",
        "'''\n",
        "\n",
        "# Define the rotation angle in degrees\n",
        "angle = 180\n",
        "\n",
        "# Convert the angle from degrees to radians\n",
        "angle = np.deg2rad(angle)\n",
        "\n",
        "# Define the rotation matrix for a rotation about the x-axis\n",
        "rotation_matrix = np.array([[1, 0, 0],\n",
        "                            [0, np.cos(angle), -np.sin(angle)],\n",
        "                            [0, np.sin(angle), np.cos(angle)]])\n",
        "\n",
        "# Initialize a list to store the rotated coordinates\n",
        "rotated_coordinates = []\n",
        "\n",
        "# Loop over each set of coordinates\n",
        "for i in range(len(coordinates)):\n",
        "    rotated_coordinates.append(np.dot(rotation_matrix, coordinates[i]))\n",
        "\n",
        "# Convert the list of rotated coordinates into a numpy array\n",
        "rotated_coordinates = np.array(rotated_coordinates)\n",
        "\n",
        "# Calculate the electrostatic potential energy of the rotated structure\n",
        "rotated_potential_energy = 0\n",
        "for i in range(len(rotated_coordinates)):\n",
        "    for j in range(i+1, len(rotated_coordinates)):\n",
        "        distance = np.linalg.norm(rotated_coordinates[i] - rotated_coordinates[j])\n",
        "        rotated_potential_energy += charges[i] * charges[j] / distance\n",
        "\n",
        "print(\"Potential energy after rotation:\", rotated_potential_energy)"
      ],
      "metadata": {
        "colab": {
          "base_uri": "https://localhost:8080/"
        },
        "id": "OfYXYd5aF5ks",
        "outputId": "5759e51d-0a24-4fe3-cf7f-fb9ce2a26492"
      },
      "execution_count": null,
      "outputs": [
        {
          "output_type": "stream",
          "name": "stdout",
          "text": [
            "Potential energy: 3136.049753234953\n",
            "Potential energy after rotation: 3136.049753234953\n"
          ]
        }
      ]
    },
    {
      "cell_type": "code",
      "source": [
        "#rotation of the y-axis\n",
        "import Bio.PDB\n",
        "import numpy as np\n",
        "\n",
        "# Load the PDB structure\n",
        "pdb = Bio.PDB.PDBParser().get_structure(\"pdb\", \"/content/sample_data/2zwh.pdb\")\n",
        "\n",
        "# Initialize a list to store the x,y,z coordinates and charges of each atom\n",
        "coordinates_and_charges = []\n",
        "\n",
        "# Define the charges of each element (could be improved with better models)\n",
        "element_charges = {\n",
        "    \"C\": 0.5,\n",
        "    \"N\": -0.5,\n",
        "    \"O\": -0.5,\n",
        "    \"S\": -0.5,\n",
        "    \"P\": 1.0,\n",
        "    \"H\": 0.5\n",
        "}\n",
        "\n",
        "# Loop over the structure\n",
        "for model in pdb:\n",
        "    for chain in model:\n",
        "        for residue in chain:\n",
        "            for atom in residue:\n",
        "                x, y, z = atom.coord\n",
        "                element = atom.element\n",
        "                charge = element_charges.get(element, 0.0)\n",
        "                coordinates_and_charges.append([x, y, z, charge])\n",
        "\n",
        "# Convert the list of coordinates and charges into a numpy array\n",
        "coordinates_and_charges = np.array(coordinates_and_charges)\n",
        "\n",
        "# Perform the 90-degree rotation about the y-axis\n",
        "rotated_coordinates = np.zeros_like(coordinates_and_charges)\n",
        "rotated_coordinates[:, 0] = coordinates_and_charges[:, 0] * np.cos(np.pi / 2) + coordinates_and_charges[:, 2] * np.sin(np.pi / 2)\n",
        "rotated_coordinates[:, 2] = -coordinates_and_charges[:, 0] * np.sin(np.pi / 2) + coordinates_and_charges[:, 2] * np.cos(np.pi / 2)\n",
        "rotated_coordinates[:, 1:] = coordinates_and_charges[:, 1:]\n",
        "\n",
        "# Split the rotated coordinates and charges into separate arrays\n",
        "rotated_positions = rotated_coordinates[:, :3]\n",
        "rotated_charges = rotated_coordinates[:, 3]\n",
        "\n",
        "# Calculate the electrostatic potential energy of the structure\n",
        "potential_energy = 0\n",
        "for i in range(len(rotated_positions)):\n",
        "    for j in range(i+1, len(rotated_positions)):\n",
        "        distance = np.linalg.norm(rotated_positions[i] - rotated_positions[j])\n",
        "        potential_energy += rotated_charges[i] * rotated_charges[j] / distance\n",
        "\n",
        "print(\"Potential energy:\", potential_energy)\n"
      ],
      "metadata": {
        "colab": {
          "base_uri": "https://localhost:8080/"
        },
        "id": "OeUZXBxfE6FF",
        "outputId": "f7c3f43f-c358-42b7-974a-5f5ac8a160d5"
      },
      "execution_count": null,
      "outputs": [
        {
          "output_type": "stream",
          "name": "stdout",
          "text": [
            "Potential energy: 3920.1689446750156\n"
          ]
        }
      ]
    },
    {
      "cell_type": "code",
      "source": [
        "import Bio.PDB\n",
        "import numpy as np\n",
        "\n",
        "# Load the PDB structure\n",
        "pdb = Bio.PDB.PDBParser().get_structure(\"2zwh\", \"/content/sample_data/2zwh.pdb\")\n",
        "\n",
        "# Initialize a list to store the x,y,z coordinates of each atom\n",
        "positions = []\n",
        "\n",
        "# Define the charge of the entire molecule\n",
        "molecule_charge = -13\n",
        "\n",
        "# Calculate the total number of atoms\n",
        "num_atoms = 0\n",
        "for model in pdb:\n",
        "    for chain in model:\n",
        "        for residue in chain:\n",
        "            for atom in residue:\n",
        "                num_atoms += 1\n",
        "\n",
        "# Calculate the charge of each atom\n",
        "atom_charge = molecule_charge / num_atoms\n",
        "\n",
        "# Store the x,y,z coordinates of each atom\n",
        "for model in pdb:\n",
        "    for chain in model:\n",
        "        for residue in chain:\n",
        "            for atom in residue:\n",
        "                x, y, z = atom.coord\n",
        "                positions.append([x, y, z])\n",
        "\n",
        "# Convert the list of positions into a numpy array\n",
        "positions = np.array(positions)\n",
        "\n",
        "# Calculate the charges of each atom\n",
        "charges = np.array([atom_charge] * num_atoms)\n",
        "\n",
        "# Convert the lists of positions and charges into numpy arrays\n",
        "positions = np.array(positions)\n",
        "charges = np.array(charges)\n",
        "\n",
        "# Calculate the electrostatic potential energy of the structure\n",
        "potential_energy = 0\n",
        "for i in range(len(positions)):\n",
        "    for j in range(i+1, len(positions)):\n",
        "        distance = np.linalg.norm(positions[i] - positions[j])\n",
        "        potential_energy += charges[i] * charges[j] / distance\n",
        "\n",
        "print(\"Potential energy:\", potential_energy)\n"
      ],
      "metadata": {
        "colab": {
          "base_uri": "https://localhost:8080/"
        },
        "id": "-LeARnXUJ7TQ",
        "outputId": "23ae1704-b80a-48bb-9834-648abe3f97b2"
      },
      "execution_count": null,
      "outputs": [
        {
          "output_type": "stream",
          "name": "stdout",
          "text": [
            "Potential energy: 3.8562321670892343\n"
          ]
        }
      ]
    },
    {
      "cell_type": "code",
      "source": [
        "import Bio.PDB\n",
        "import numpy as np\n",
        "\n",
        "# Load the PDB structure\n",
        "pdb = Bio.PDB.PDBParser().get_structure(\"2zwh\", \"/content/sample_data/2zwh_all_3-NT-bySIN18112021.pdb\")\n",
        "\n",
        "# Initialize a list to store the x,y,z coordinates of each atom\n",
        "positions = []\n",
        "\n",
        "# Define the charge of the entire molecule\n",
        "molecule_charge = -13\n",
        "\n",
        "# Calculate the total number of atoms\n",
        "num_atoms = 0\n",
        "for model in pdb:\n",
        "    for chain in model:\n",
        "        for residue in chain:\n",
        "            for atom in residue:\n",
        "                num_atoms += 1\n",
        "\n",
        "# Calculate the charge of each atom\n",
        "atom_charge = molecule_charge / num_atoms\n",
        "\n",
        "# Store the x,y,z coordinates of each atom\n",
        "for model in pdb:\n",
        "    for chain in model:\n",
        "        for residue in chain:\n",
        "            for atom in residue:\n",
        "                x, y, z = atom.coord\n",
        "                positions.append([x, y, z])\n",
        "\n",
        "# Convert the list of positions into a numpy array\n",
        "positions = np.array(positions)\n",
        "\n",
        "# Calculate the charges of each atom\n",
        "charges = np.array([atom_charge] * num_atoms)\n",
        "\n",
        "# Convert the lists of positions and charges into numpy arrays\n",
        "positions = np.array(positions)\n",
        "charges = np.array(charges)\n",
        "\n",
        "# Calculate the electrostatic potential energy of the structure\n",
        "potential_energy = 0\n",
        "for i in range(len(positions)):\n",
        "    for j in range(i+1, len(positions)):\n",
        "        distance = np.linalg.norm(positions[i] - positions[j])\n",
        "        potential_energy += charges[i] * charges[j] / distance\n",
        "\n",
        "print(\"Potential energy:\", potential_energy)"
      ],
      "metadata": {
        "colab": {
          "base_uri": "https://localhost:8080/"
        },
        "id": "1I9VvS23KS67",
        "outputId": "58b62c76-1458-44ff-e88f-707dd2d8949d"
      },
      "execution_count": null,
      "outputs": [
        {
          "output_type": "stream",
          "name": "stdout",
          "text": [
            "Potential energy: 3.8532720649112933\n"
          ]
        }
      ]
    },
    {
      "cell_type": "code",
      "source": [
        "import numpy as np\n",
        "from Bio.PDB import PDBParser\n",
        "\n",
        "# Parse the PDB structure\n",
        "structure = PDBParser().get_structure(\"2zwh\", \"/content/sample_data/2zwh.pdb\")\n",
        "\n",
        "# Define the residues of interest\n",
        "residues_of_interest = [(\"A\", 236), (\"A\", 237), (\"A\", 238), (\"A\", 239), (\"A\", 240), (\"A\", 241), (\"A\", 242), (\"A\", 243), (\"A\", 244)]\n",
        "\n",
        "# Create a list of the atoms of interest\n",
        "atoms_of_interest = []\n",
        "for residue in residues_of_interest:\n",
        "    chain, residue_id = residue\n",
        "    residues = structure[0][chain]\n",
        "    atoms = residues[residue_id].get_atoms()\n",
        "    for atom in atoms:\n",
        "        atoms_of_interest.append(atom)\n",
        "\n",
        "# Define the charges of the molecule\n",
        "charges = [-13/len(atoms_of_interest)] * len(atoms_of_interest)\n",
        "\n",
        "# Calculate the electrostatic potential energy between all pairs of atoms of interest\n",
        "electrostatic_potential_energy = 0\n",
        "for i in range(len(atoms_of_interest)):\n",
        "    for j in range(i+1, len(atoms_of_interest)):\n",
        "        electrostatic_potential_energy += charges[i] * charges[j] / np.linalg.norm(atoms_of_interest[i].coord - atoms_of_interest[j].coord)\n",
        "\n",
        "# Print the electrostatic potential energy\n",
        "print(\"Electrostatic potential energy:\", electrostatic_potential_energy, \"eV\")"
      ],
      "metadata": {
        "colab": {
          "base_uri": "https://localhost:8080/"
        },
        "id": "CrDfCSZ0MEJ2",
        "outputId": "cbed803a-a07a-444a-94f1-e7e3a7b184ac"
      },
      "execution_count": null,
      "outputs": [
        {
          "output_type": "stream",
          "name": "stdout",
          "text": [
            "Electrostatic potential energy: 12.247796040717647 eV\n"
          ]
        }
      ]
    },
    {
      "cell_type": "code",
      "source": [
        "import numpy as np\n",
        "from Bio.PDB import PDBParser\n",
        "\n",
        "# Parse the PDB structure\n",
        "structure = PDBParser().get_structure(\"2zwh\", \"/content/sample_data/2zwh_all_3-NT-bySIN18112021.pdb\")\n",
        "\n",
        "# Define the residues of interest\n",
        "residues_of_interest = [(\"A\", 184), (\"A\", 185), (\"A\", 186), (\"A\", 187), (\"A\", 188), (\"A\", 189), (\"A\", 190), (\"A\", 191), (\"A\", 192)]\n",
        "\n",
        "# Create a list of the atoms of interest\n",
        "atoms_of_interest = []\n",
        "for residue in residues_of_interest:\n",
        "    chain, residue_id = residue\n",
        "    residues = structure[0][chain]\n",
        "    atoms = residues[residue_id].get_atoms()\n",
        "    for atom in atoms:\n",
        "        atoms_of_interest.append(atom)\n",
        "\n",
        "# Get the x, y, z coordinates of the atoms of interest\n",
        "positions = [atom.coord for atom in atoms_of_interest]\n",
        "\n",
        "# Define the charges of the molecule\n",
        "charges = [-13/len(atoms_of_interest)] * len(atoms_of_interest)\n",
        "\n",
        "# Convert the lists of positions and charges into numpy arrays\n",
        "positions = np.array(positions)\n",
        "charges = np.array(charges)\n",
        "\n",
        "# Calculate the electrostatic potential energy between all pairs of atoms of interest\n",
        "electrostatic_potential_energy = 0\n",
        "for i in range(len(atoms_of_interest)):\n",
        "    for j in range(i+1, len(atoms_of_interest)):\n",
        "        distance = np.linalg.norm(positions[i] - positions[j])\n",
        "        electrostatic_potential_energy += charges[i] * charges[j] / distance\n",
        "\n",
        "# Print the electrostatic potential energy\n",
        "print(\"Electrostatic potential energy:\", electrostatic_potential_energy, \"eV\")"
      ],
      "metadata": {
        "colab": {
          "base_uri": "https://localhost:8080/"
        },
        "id": "uSJA5v14MT22",
        "outputId": "ad9d7d70-03a5-4a68-f3e9-cc913a1ca836"
      },
      "execution_count": null,
      "outputs": [
        {
          "output_type": "stream",
          "name": "stdout",
          "text": [
            "Electrostatic potential energy: 14.230418303488864 eV\n"
          ]
        }
      ]
    },
    {
      "cell_type": "code",
      "source": [
        "import numpy as np\n",
        "from Bio.PDB import PDBParser\n",
        "\n",
        "# Parse the PDB structure\n",
        "structure = PDBParser().get_structure(\"2zwh\", \"/content/sample_data/2zwh.pdb\")\n",
        "\n",
        "# Define the residues of interest\n",
        "residues_of_interest = [(\"A\", 184), (\"A\", 185), (\"A\", 186), (\"A\", 187), (\"A\", 188), (\"A\", 189), (\"A\", 190), (\"A\", 191), (\"A\", 192)]\n",
        "\n",
        "# Create a list of the atoms of interest\n",
        "atoms_of_interest = []\n",
        "for residue in residues_of_interest:\n",
        "    chain, residue_id = residue\n",
        "    residues = structure[0][chain]\n",
        "    atoms = residues[residue_id].get_atoms()\n",
        "    for atom in atoms:\n",
        "        atoms_of_interest.append(atom)\n",
        "\n",
        "# Get the x, y, z coordinates of the atoms of interest\n",
        "positions = [atom.coord for atom in atoms_of_interest]\n",
        "\n",
        "# Define the charges of the molecule\n",
        "charges = [-13/len(atoms_of_interest)] * len(atoms_of_interest)\n",
        "\n",
        "# Convert the lists of positions and charges into numpy arrays\n",
        "positions = np.array(positions)\n",
        "charges = np.array(charges)\n",
        "\n",
        "# Calculate the electrostatic potential energy between all pairs of atoms of interest\n",
        "electrostatic_potential_energy = 0\n",
        "for i in range(len(atoms_of_interest)):\n",
        "    for j in range(i+1, len(atoms_of_interest)):\n",
        "        distance = np.linalg.norm(positions[i] - positions[j])\n",
        "        electrostatic_potential_energy += charges[i] * charges[j] / distance\n",
        "\n",
        "# Print the electrostatic potential energy\n",
        "print(\"Electrostatic potential energy:\", electrostatic_potential_energy, \"eV\")"
      ],
      "metadata": {
        "colab": {
          "base_uri": "https://localhost:8080/"
        },
        "id": "dcVx-vCLNQQL",
        "outputId": "08c5f471-79d0-4ab9-b948-3d61a3315932"
      },
      "execution_count": null,
      "outputs": [
        {
          "output_type": "stream",
          "name": "stdout",
          "text": [
            "Electrostatic potential energy: 14.29257457560647 eV\n"
          ]
        }
      ]
    }
  ]
}